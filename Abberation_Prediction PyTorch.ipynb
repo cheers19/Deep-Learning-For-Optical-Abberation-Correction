{
  "nbformat": 4,
  "nbformat_minor": 0,
  "metadata": {
    "colab": {
      "provenance": []
    },
    "kernelspec": {
      "name": "python3",
      "display_name": "Python 3"
    },
    "language_info": {
      "name": "python"
    }
  },
  "cells": [
    {
      "cell_type": "code",
      "source": [
        "import json\n",
        "import pandas as pd\n",
        "import numpy as np\n",
        "import matplotlib.pyplot as plt\n",
        "from sklearn.preprocessing import LabelEncoder, StandardScaler\n",
        "from sklearn.model_selection import train_test_split\n",
        "import torch\n",
        "from torch.utils.data import Dataset, DataLoader\n",
        "import re\n",
        "import os\n",
        "from datetime import datetime"
      ],
      "metadata": {
        "id": "Gb5CCfw88VlN"
      },
      "execution_count": 88,
      "outputs": []
    },
    {
      "cell_type": "code",
      "source": [
        "!rm -r eda\n",
        "!rm eda.zip\n",
        "print(\"The 'eda' folder and 'eda.zip' file have been deleted.\")"
      ],
      "metadata": {
        "colab": {
          "base_uri": "https://localhost:8080/"
        },
        "id": "Mu67AoYKyPm6",
        "outputId": "2e325bb5-8ae9-4286-a8d0-cc47746a54f8"
      },
      "execution_count": 89,
      "outputs": [
        {
          "output_type": "stream",
          "name": "stdout",
          "text": [
            "The 'eda' folder and 'eda.zip' file have been deleted.\n"
          ]
        }
      ]
    },
    {
      "cell_type": "code",
      "source": [
        "config = {\n",
        "    \"batch_size\": 32,\n",
        "    \"epochs\": 130,\n",
        "    \"learning_rate\": 1e-3,\n",
        "    \"weight_decay\": 1e-4,\n",
        "    \"optimizer\": \"Adam\",\n",
        "    \"loss_function\": \"CrossEntropyLoss\",\n",
        "    \"test_selection\": \"2nd_from_top_and_bottom\",  # \"random\" or \"2nd_from_top_and_bottom\"\n",
        "    # \"test_selection\": \"random\",  # \"random\" or \"2nd_from_top_and_bottom\"\n",
        "    \"ignore_e8_e9\": True,\n",
        "    \"remove_small_errors\": True,\n",
        "    \"zooms\": ['z2'], # ['z1'] or ['z2'] or ['z1', 'z2']\n",
        "    \"model_\": \"MultiOutputClassifier\",\n",
        "    \"model\": \"TwoStageClassifier\",\n",
        "    \"parameter_loss_weight\": 1  # Weight for parameter loss in combined loss\n",
        "}"
      ],
      "metadata": {
        "id": "phEtii3W8SYz"
      },
      "execution_count": 90,
      "outputs": []
    },
    {
      "cell_type": "markdown",
      "metadata": {
        "id": "df2ffc8c"
      },
      "source": [
        "### Load Data and Initial Processing"
      ]
    },
    {
      "cell_type": "code",
      "source": [
        "# Load the CSV data\n",
        "print(\"Loading CSV data...\")\n",
        "df = pd.read_excel(\"/content/‏‏Lab_Sensitivity_results 680204 (15)_ver C_twoZooms_20250908 - copy.xlsx\", sheet_name='Sheet1')\n",
        "\n",
        "# Remove \"Nominal\" rows\n",
        "df = df[df[\"name\"] != \"Nominal\"]\n",
        "print(f\"Dataset shape after removing Nominal: {df.shape}\")"
      ],
      "metadata": {
        "colab": {
          "base_uri": "https://localhost:8080/"
        },
        "id": "z_-4mJcD-YWA",
        "outputId": "76c6671f-2a85-4e30-8cd1-137a5140363c"
      },
      "execution_count": 91,
      "outputs": [
        {
          "output_type": "stream",
          "name": "stdout",
          "text": [
            "Loading CSV data...\n",
            "Dataset shape after removing Nominal: (1260, 43)\n"
          ]
        }
      ]
    },
    {
      "cell_type": "code",
      "metadata": {
        "id": "d46bc68a"
      },
      "source": [
        "# Split the name into error_name and parameter_name\n",
        "def split_parameter_name(name):\n",
        "    \"\"\"Split parameter name into error type and element\"\"\"\n",
        "    # Find the last part that matches E followed by number or G followed by number\n",
        "    match = re.search(r'(E\\d+|G\\d+)$', name)\n",
        "    if match:\n",
        "        parameter_name = match.group(1)\n",
        "        error_name = name.replace(parameter_name, '').strip()\n",
        "        return error_name, parameter_name\n",
        "    else:\n",
        "        # If no match, return the whole name as error_name and empty parameter_name\n",
        "        return name, \"\"\n",
        "\n",
        "# Apply the split\n",
        "df[['error_name', 'parameter_name']] = df['name'].apply(\n",
        "    lambda x: pd.Series(split_parameter_name(x))\n",
        ")"
      ],
      "execution_count": 92,
      "outputs": []
    },
    {
      "cell_type": "markdown",
      "metadata": {
        "id": "7350f498"
      },
      "source": [
        "### Filter Data based on Configuration"
      ]
    },
    {
      "cell_type": "code",
      "source": [
        "# Find the rows where parameter_name is neither \"E8\" nor \"E9\"\n",
        "# The correct condition is (df[\"parameter_name\"] != \"E8\") AND (df[\"parameter_name\"] != \"E9\")\n",
        "# Note: This assumes the 'parameter_name' column exists in the DataFrame.\n",
        "# If not, rerun the data loading and splitting steps (cells z_-4mJcD-YWA and d46bc68a).\n",
        "rows_not_e8_e9 = df[(df[\"parameter_name\"] != \"E8\") & (df[\"parameter_name\"] != \"E9\")]\n",
        "\n",
        "# Display the index of these rows (which are the row numbers)\n",
        "print(\"Row numbers where parameter_name is neither 'E8' nor 'E9':\")\n",
        "print(rows_not_e8_e9.index.tolist())\n",
        "\n",
        "print(f\"\\nNumber of rows where parameter_name is neither 'E8' nor 'E9': {len(rows_not_e8_e9)}\")"
      ],
      "metadata": {
        "colab": {
          "base_uri": "https://localhost:8080/"
        },
        "id": "XeNRxuE7MZFw",
        "outputId": "0c36e038-c53e-4bab-ce59-4116a1511ef1"
      },
      "execution_count": 93,
      "outputs": [
        {
          "output_type": "stream",
          "name": "stdout",
          "text": [
            "Row numbers where parameter_name is neither 'E8' nor 'E9':\n",
            "[2, 3, 4, 5, 6, 7, 8, 9, 10, 11, 12, 13, 14, 15, 16, 17, 18, 19, 20, 21, 22, 23, 24, 25, 26, 27, 28, 29, 30, 31, 32, 33, 34, 35, 36, 37, 38, 39, 40, 41, 42, 43, 44, 45, 46, 47, 48, 49, 50, 51, 52, 53, 54, 55, 56, 57, 58, 59, 60, 61, 62, 63, 64, 65, 66, 67, 68, 69, 70, 71, 72, 73, 74, 75, 76, 77, 78, 79, 80, 81, 82, 83, 84, 85, 86, 87, 88, 89, 90, 91, 92, 93, 94, 95, 96, 97, 98, 99, 100, 101, 102, 103, 104, 105, 106, 107, 108, 109, 110, 111, 112, 113, 114, 115, 116, 117, 118, 119, 120, 121, 122, 123, 124, 125, 126, 127, 128, 129, 130, 131, 132, 133, 134, 135, 136, 137, 138, 139, 140, 141, 142, 143, 144, 145, 146, 147, 148, 149, 150, 151, 152, 153, 154, 155, 156, 157, 158, 159, 160, 161, 162, 163, 164, 165, 166, 167, 168, 169, 170, 171, 172, 173, 174, 175, 176, 177, 178, 179, 180, 181, 182, 183, 184, 185, 186, 187, 188, 189, 190, 191, 192, 193, 194, 195, 196, 197, 198, 199, 200, 201, 202, 203, 204, 205, 206, 207, 208, 209, 210, 211, 212, 213, 214, 215, 216, 217, 218, 219, 220, 221, 222, 223, 224, 225, 226, 227, 228, 229, 230, 231, 232, 233, 234, 235, 236, 237, 238, 239, 240, 241, 242, 243, 244, 245, 246, 247, 248, 249, 250, 251, 252, 253, 254, 255, 256, 257, 258, 259, 260, 261, 262, 263, 264, 265, 266, 267, 268, 269, 270, 271, 272, 273, 274, 275, 276, 277, 278, 279, 280, 281, 282, 283, 284, 285, 286, 287, 288, 289, 290, 291, 292, 293, 294, 295, 296, 297, 298, 299, 300, 301, 302, 303, 304, 305, 306, 307, 308, 309, 310, 311, 312, 313, 314, 315, 316, 317, 318, 319, 320, 321, 322, 323, 324, 325, 326, 327, 328, 329, 330, 331, 332, 333, 334, 335, 336, 337, 338, 339, 340, 341, 342, 343, 344, 345, 346, 347, 348, 349, 350, 351, 352, 353, 354, 355, 356, 357, 358, 359, 360, 361, 362, 363, 364, 365, 366, 367, 368, 369, 370, 371, 372, 373, 374, 375, 376, 377, 378, 379, 380, 381, 382, 383, 384, 385, 386, 387, 388, 389, 390, 391, 392, 393, 394, 395, 396, 397, 398, 399, 400, 401, 402, 403, 404, 405, 406, 407, 408, 409, 410, 411, 412, 413, 414, 415, 416, 417, 418, 419, 420, 421, 422, 423, 424, 425, 426, 427, 428, 429, 430, 431, 432, 433, 434, 435, 436, 437, 438, 439, 440, 441, 442, 443, 444, 445, 446, 447, 448, 449, 450, 451, 452, 453, 454, 455, 456, 457, 458, 459, 460, 461, 462, 463, 464, 465, 466, 467, 468, 469, 470, 471, 472, 473, 474, 475, 476, 477, 478, 479, 480, 481, 482, 483, 484, 485, 486, 487, 488, 489, 490, 491, 492, 493, 494, 495, 496, 497, 498, 499, 500, 501, 502, 503, 504, 505, 506, 507, 508, 509, 510, 511, 512, 513, 514, 515, 516, 517, 518, 519, 520, 521, 522, 523, 524, 525, 526, 527, 528, 529, 530, 531, 532, 533, 534, 535, 536, 537, 538, 539, 540, 541, 542, 543, 544, 545, 546, 547, 548, 549, 550, 551, 552, 553, 554, 555, 556, 557, 558, 559, 560, 561, 562, 563, 564, 565, 566, 567, 568, 569, 570, 571, 572, 573, 574, 575, 576, 577, 578, 579, 580, 581, 582, 583, 584, 585, 586, 587, 588, 589, 590, 591, 592, 593, 594, 595, 596, 597, 598, 599, 600, 601, 602, 603, 604, 605, 606, 607, 608, 609, 610, 611, 612, 613, 614, 615, 616, 617, 618, 619, 620, 621, 622, 623, 624, 625, 626, 627, 628, 629, 630, 631, 632, 633, 634, 635, 636, 637, 638, 639, 640, 641, 642, 643, 644, 645, 646, 647, 648, 649, 650, 651, 652, 653, 654, 655, 656, 657, 658, 659, 660, 661, 662, 663, 664, 665, 666, 667, 668, 669, 670, 671, 672, 673, 674, 675, 676, 677, 678, 679, 680, 681, 682, 683, 684, 685, 686, 687, 688, 689, 690, 691, 692, 693, 694, 695, 696, 697, 698, 699, 700, 701, 702, 703, 704, 705, 706, 707, 708, 709, 710, 711, 712, 713, 714, 715, 716, 717, 718, 719, 720, 721, 722, 723, 724, 725, 726, 727, 728, 729, 730, 731, 732, 733, 734, 735, 736, 737, 738, 739, 740, 741, 742, 743, 744, 745, 746, 747, 748, 749, 750, 751, 752, 753, 754, 755, 756, 757, 758, 759, 760, 761, 762, 763, 764, 765, 766, 767, 768, 769, 770, 771, 772, 773, 774, 775, 776, 777, 778, 779, 780, 781, 782, 783, 784, 785, 786, 787, 788, 789, 790, 791, 792, 793, 794, 795, 796, 797, 798, 799, 800, 801, 802, 803, 804, 805, 806, 807, 808, 809, 810, 811, 812, 813, 814, 815, 816, 817, 818, 819, 820, 821, 822, 823, 824, 825, 826, 827, 828, 829, 830, 831, 832, 833, 834, 835, 836, 837, 838, 839, 840, 841, 842, 843, 844, 845, 846, 847, 848, 849, 850, 851, 852, 853, 854, 855, 856, 857, 858, 859, 860, 861, 862, 863, 864, 865, 866, 867, 868, 869, 870, 871, 872, 873, 874, 875, 876, 877, 878, 879, 880, 881, 882, 883, 884, 885, 886, 887, 888, 889, 890, 891, 892, 893, 894, 895, 896, 897, 898, 899, 900, 901, 902, 903, 904, 905, 906, 907, 908, 909, 910, 911, 912, 913, 914, 915, 916, 917, 918, 919, 920, 921, 922, 923, 924, 925, 926, 927, 928, 929, 930, 931, 932, 933, 934, 935, 936, 937, 938, 939, 940, 941, 942, 943, 944, 945, 946, 947, 948, 949, 950, 951, 952, 953, 954, 955, 956, 957, 958, 959, 960, 961, 962, 963, 964, 965, 966, 967, 968, 969, 970, 971, 972, 973, 974, 975, 976, 977, 978, 979, 980, 981, 982, 983, 984, 985, 986, 987, 988, 989, 990, 991, 992, 993, 994, 995, 996, 997, 998, 999, 1000, 1001, 1002, 1003, 1004, 1005, 1006, 1007, 1008, 1009, 1010, 1011, 1012, 1013, 1014, 1015, 1016, 1017, 1018, 1019, 1020, 1021, 1022, 1023, 1024, 1025, 1026, 1027, 1028, 1029, 1030, 1031, 1032, 1033, 1034, 1035, 1036, 1037, 1038, 1039, 1040, 1041, 1042, 1043, 1044, 1045, 1046, 1047, 1048, 1049, 1050, 1051, 1052, 1053, 1054, 1055, 1056, 1057, 1058, 1059, 1060, 1061, 1062, 1063, 1064, 1065, 1066, 1067, 1068, 1069, 1070, 1071, 1072, 1073, 1074, 1075, 1076, 1077, 1078, 1079, 1080, 1081, 1082, 1083, 1084, 1085, 1086, 1087, 1088, 1089, 1090, 1091, 1092, 1093, 1094, 1095, 1096, 1097, 1098, 1099, 1100, 1101, 1102, 1103, 1104, 1105, 1106, 1107, 1108, 1109, 1110, 1111, 1112, 1113, 1114, 1115, 1116, 1117, 1118, 1119, 1120, 1121, 1122, 1123, 1124, 1125, 1126, 1127, 1128, 1129, 1130, 1131, 1132, 1133, 1134, 1135, 1136, 1137, 1138, 1139, 1140, 1141, 1142, 1143, 1144, 1145, 1146, 1147, 1148, 1149, 1150, 1151, 1152, 1153, 1154, 1155, 1156, 1157, 1158, 1159, 1160, 1161, 1162, 1163, 1164, 1165, 1166, 1167, 1168, 1169, 1170, 1171, 1172, 1173, 1174, 1175, 1176, 1177, 1178, 1179, 1180, 1181, 1182, 1183, 1184, 1185, 1186, 1187, 1188, 1189, 1190, 1191, 1192, 1193, 1194, 1195, 1196, 1197, 1198, 1199, 1200, 1201, 1202, 1203, 1204, 1205, 1206, 1207, 1208, 1209, 1210, 1211, 1212, 1213, 1214, 1215, 1216, 1217, 1218, 1219, 1220, 1221, 1222, 1223, 1224, 1225, 1226, 1227, 1228, 1229, 1230, 1231, 1232, 1233, 1234, 1235, 1236, 1237, 1238, 1239, 1240, 1241, 1242, 1243, 1244, 1245, 1246, 1247, 1248, 1249, 1250, 1251, 1252, 1253, 1254, 1255, 1256, 1257, 1258, 1259, 1260, 1261]\n",
            "\n",
            "Number of rows where parameter_name is neither 'E8' nor 'E9': 1260\n"
          ]
        }
      ]
    },
    {
      "cell_type": "code",
      "metadata": {
        "colab": {
          "base_uri": "https://localhost:8080/"
        },
        "id": "aa21ba48",
        "outputId": "547f695a-99cb-4563-b3a7-4f9a5838a0af"
      },
      "source": [
        "# Find the rows where parameter_name is either \"E8\" or \"E9\"\n",
        "rows_e8_or_e9 = df[(df[\"parameter_name\"] == \"E8\") | (df[\"parameter_name\"] == \"E9\")]\n",
        "\n",
        "# Display the index of these rows (which are the row numbers)\n",
        "print(\"Row numbers where parameter_name is either 'E8' or 'E9':\")\n",
        "print(rows_e8_or_e9.index.tolist())\n",
        "\n",
        "print(f\"\\nNumber of rows where parameter_name is either 'E8' or 'E9': {len(rows_e8_or_e9)}\")"
      ],
      "execution_count": 94,
      "outputs": [
        {
          "output_type": "stream",
          "name": "stdout",
          "text": [
            "Row numbers where parameter_name is either 'E8' or 'E9':\n",
            "[]\n",
            "\n",
            "Number of rows where parameter_name is either 'E8' or 'E9': 0\n"
          ]
        }
      ]
    },
    {
      "cell_type": "code",
      "metadata": {
        "colab": {
          "base_uri": "https://localhost:8080/"
        },
        "id": "969e52b8",
        "outputId": "3fa305e1-7b81-49fe-b530-0ca1bc49c302"
      },
      "source": [
        "# keep only the rows with the specified zooms\n",
        "df = df[df[\"efl\"].isin(config[\"zooms\"])]\n",
        "'''\n",
        "if config[\"ignore_e8_e9\"]:\n",
        "    df = df[df[\"parameter_name\"] != \"E8\"]\n",
        "    df = df[df[\"parameter_name\"] != \"E9\"]\n",
        "\n",
        "if config[\"remove_small_errors\"]:\n",
        "    # remove the 2 rows with smallest absolute error from each error_name and parameter_name\n",
        "    df = df.groupby(['error_name', 'parameter_name']).apply(lambda x: x.sort_values(by='error', key=lambda x: abs(x)).iloc[2:])\n",
        "    df = df.reset_index(drop=True)\n",
        "'''\n",
        "\n",
        "print(\"\\nUnique error names:\")\n",
        "print(df['error_name'].unique())\n",
        "print(f\"\\nUnique parameter names:\")\n",
        "print(df['parameter_name'].unique())"
      ],
      "execution_count": 95,
      "outputs": [
        {
          "output_type": "stream",
          "name": "stdout",
          "text": [
            "\n",
            "Unique error names:\n",
            "['Radius s1' 'Radius s2' 'Irr s1' 'Irr s2' 'Thickness' 'ETV' 'Z Position'\n",
            " 'Decenter' 'Tilt']\n",
            "\n",
            "Unique parameter names:\n",
            "['E1' 'E2' 'E3' 'E4' 'E5' 'E6' 'E7']\n"
          ]
        }
      ]
    },
    {
      "cell_type": "code",
      "source": [
        "display(df.head(10))"
      ],
      "metadata": {
        "colab": {
          "base_uri": "https://localhost:8080/",
          "height": 638
        },
        "collapsed": true,
        "id": "beTinCkbRQq9",
        "outputId": "1f5f99e7-9736-42e3-9f8c-b2609a6f8dea"
      },
      "execution_count": 96,
      "outputs": [
        {
          "output_type": "display_data",
          "data": {
            "text/plain": [
              "            name   error  freq efl            c2            c3        c4  \\\n",
              "3   Radius s1 E1 -0.0100    25  z2 -7.831192e-14 -7.895894e-16 -0.009331   \n",
              "5   Radius s1 E1 -0.0075    25  z2 -2.177818e-13 -2.390434e-13 -0.009277   \n",
              "7   Radius s1 E1 -0.0050    25  z2 -4.165981e-13 -4.296608e-13 -0.009223   \n",
              "9   Radius s1 E1 -0.0025    25  z2  3.653297e-13  3.559784e-13 -0.009169   \n",
              "11  Radius s1 E1 -0.0010    25  z2 -1.365693e-13 -7.950521e-14 -0.009136   \n",
              "13  Radius s1 E1 -0.0005    25  z2 -1.407450e-13 -1.261754e-13 -0.009125   \n",
              "15  Radius s1 E1  0.0005    25  z2  8.619145e-14  3.421729e-14 -0.009104   \n",
              "17  Radius s1 E1  0.0010    25  z2  4.082514e-14 -3.861021e-14 -0.009093   \n",
              "19  Radius s1 E1  0.0025    25  z2  1.792913e-13 -1.060957e-14 -0.009060   \n",
              "21  Radius s1 E1  0.0050    25  z2  1.612786e-13  1.993359e-13 -0.009006   \n",
              "\n",
              "              c5            c6            c7  ...           c33           c34  \\\n",
              "3   3.891984e-14 -2.691255e-13 -5.131977e-14  ...  1.354420e-13 -1.806633e-13   \n",
              "5   5.243379e-14 -2.550493e-13 -9.483065e-14  ... -1.762823e-13 -4.886340e-14   \n",
              "7   3.385654e-14 -8.975590e-14 -1.774126e-13  ... -3.599705e-13 -9.738805e-14   \n",
              "9  -3.282457e-14  3.130311e-15  3.854093e-13  ...  3.459461e-13  1.245720e-13   \n",
              "11 -7.328153e-14 -1.429621e-14 -2.876918e-13  ...  1.172750e-13  4.865138e-13   \n",
              "13  1.129584e-14 -2.844456e-13  1.360686e-14  ... -6.201105e-13 -2.407983e-14   \n",
              "15 -2.166371e-13 -5.127902e-14  3.549500e-13  ... -1.866329e-14 -7.279432e-14   \n",
              "17  7.269387e-14 -5.353852e-14  5.225629e-14  ... -4.030833e-13 -6.638440e-13   \n",
              "19  2.145101e-13  3.707742e-13  6.552571e-14  ... -5.330995e-13  9.503880e-14   \n",
              "21  4.214802e-14  1.622890e-13 -1.161604e-13  ... -2.309826e-13 -4.262072e-13   \n",
              "\n",
              "             c35       c36       c37       MTF  MTF poly - On axis - S  \\\n",
              "3  -5.364807e-14 -0.000084  0.000004  0.425583                0.470678   \n",
              "5   1.080607e-13 -0.000084  0.000004  0.425577                0.470443   \n",
              "7  -7.610032e-14 -0.000084  0.000004  0.425571                0.470043   \n",
              "9   7.670740e-14 -0.000085  0.000004  0.425565                0.469995   \n",
              "11  4.549173e-13 -0.000085  0.000004  0.425561                0.469807   \n",
              "13  1.665598e-14 -0.000085  0.000004  0.425560                0.469805   \n",
              "15 -5.018852e-14 -0.000085  0.000004  0.425557                0.469693   \n",
              "17 -6.428992e-13 -0.000085  0.000004  0.425556                0.469692   \n",
              "19 -2.685768e-13 -0.000086  0.000004  0.425553                0.469687   \n",
              "21 -4.614821e-13 -0.000086  0.000004  0.425547                0.469572   \n",
              "\n",
              "    MTF poly - On axis - T  error_name  parameter_name  \n",
              "3                 0.470678   Radius s1              E1  \n",
              "5                 0.470443   Radius s1              E1  \n",
              "7                 0.470043   Radius s1              E1  \n",
              "9                 0.469995   Radius s1              E1  \n",
              "11                0.469807   Radius s1              E1  \n",
              "13                0.469805   Radius s1              E1  \n",
              "15                0.469693   Radius s1              E1  \n",
              "17                0.469692   Radius s1              E1  \n",
              "19                0.469687   Radius s1              E1  \n",
              "21                0.469572   Radius s1              E1  \n",
              "\n",
              "[10 rows x 45 columns]"
            ],
            "text/html": [
              "\n",
              "  <div id=\"df-bc8742b4-493c-4338-8d86-0730d08614e9\" class=\"colab-df-container\">\n",
              "    <div>\n",
              "<style scoped>\n",
              "    .dataframe tbody tr th:only-of-type {\n",
              "        vertical-align: middle;\n",
              "    }\n",
              "\n",
              "    .dataframe tbody tr th {\n",
              "        vertical-align: top;\n",
              "    }\n",
              "\n",
              "    .dataframe thead th {\n",
              "        text-align: right;\n",
              "    }\n",
              "</style>\n",
              "<table border=\"1\" class=\"dataframe\">\n",
              "  <thead>\n",
              "    <tr style=\"text-align: right;\">\n",
              "      <th></th>\n",
              "      <th>name</th>\n",
              "      <th>error</th>\n",
              "      <th>freq</th>\n",
              "      <th>efl</th>\n",
              "      <th>c2</th>\n",
              "      <th>c3</th>\n",
              "      <th>c4</th>\n",
              "      <th>c5</th>\n",
              "      <th>c6</th>\n",
              "      <th>c7</th>\n",
              "      <th>...</th>\n",
              "      <th>c33</th>\n",
              "      <th>c34</th>\n",
              "      <th>c35</th>\n",
              "      <th>c36</th>\n",
              "      <th>c37</th>\n",
              "      <th>MTF</th>\n",
              "      <th>MTF poly - On axis - S</th>\n",
              "      <th>MTF poly - On axis - T</th>\n",
              "      <th>error_name</th>\n",
              "      <th>parameter_name</th>\n",
              "    </tr>\n",
              "  </thead>\n",
              "  <tbody>\n",
              "    <tr>\n",
              "      <th>3</th>\n",
              "      <td>Radius s1 E1</td>\n",
              "      <td>-0.0100</td>\n",
              "      <td>25</td>\n",
              "      <td>z2</td>\n",
              "      <td>-7.831192e-14</td>\n",
              "      <td>-7.895894e-16</td>\n",
              "      <td>-0.009331</td>\n",
              "      <td>3.891984e-14</td>\n",
              "      <td>-2.691255e-13</td>\n",
              "      <td>-5.131977e-14</td>\n",
              "      <td>...</td>\n",
              "      <td>1.354420e-13</td>\n",
              "      <td>-1.806633e-13</td>\n",
              "      <td>-5.364807e-14</td>\n",
              "      <td>-0.000084</td>\n",
              "      <td>0.000004</td>\n",
              "      <td>0.425583</td>\n",
              "      <td>0.470678</td>\n",
              "      <td>0.470678</td>\n",
              "      <td>Radius s1</td>\n",
              "      <td>E1</td>\n",
              "    </tr>\n",
              "    <tr>\n",
              "      <th>5</th>\n",
              "      <td>Radius s1 E1</td>\n",
              "      <td>-0.0075</td>\n",
              "      <td>25</td>\n",
              "      <td>z2</td>\n",
              "      <td>-2.177818e-13</td>\n",
              "      <td>-2.390434e-13</td>\n",
              "      <td>-0.009277</td>\n",
              "      <td>5.243379e-14</td>\n",
              "      <td>-2.550493e-13</td>\n",
              "      <td>-9.483065e-14</td>\n",
              "      <td>...</td>\n",
              "      <td>-1.762823e-13</td>\n",
              "      <td>-4.886340e-14</td>\n",
              "      <td>1.080607e-13</td>\n",
              "      <td>-0.000084</td>\n",
              "      <td>0.000004</td>\n",
              "      <td>0.425577</td>\n",
              "      <td>0.470443</td>\n",
              "      <td>0.470443</td>\n",
              "      <td>Radius s1</td>\n",
              "      <td>E1</td>\n",
              "    </tr>\n",
              "    <tr>\n",
              "      <th>7</th>\n",
              "      <td>Radius s1 E1</td>\n",
              "      <td>-0.0050</td>\n",
              "      <td>25</td>\n",
              "      <td>z2</td>\n",
              "      <td>-4.165981e-13</td>\n",
              "      <td>-4.296608e-13</td>\n",
              "      <td>-0.009223</td>\n",
              "      <td>3.385654e-14</td>\n",
              "      <td>-8.975590e-14</td>\n",
              "      <td>-1.774126e-13</td>\n",
              "      <td>...</td>\n",
              "      <td>-3.599705e-13</td>\n",
              "      <td>-9.738805e-14</td>\n",
              "      <td>-7.610032e-14</td>\n",
              "      <td>-0.000084</td>\n",
              "      <td>0.000004</td>\n",
              "      <td>0.425571</td>\n",
              "      <td>0.470043</td>\n",
              "      <td>0.470043</td>\n",
              "      <td>Radius s1</td>\n",
              "      <td>E1</td>\n",
              "    </tr>\n",
              "    <tr>\n",
              "      <th>9</th>\n",
              "      <td>Radius s1 E1</td>\n",
              "      <td>-0.0025</td>\n",
              "      <td>25</td>\n",
              "      <td>z2</td>\n",
              "      <td>3.653297e-13</td>\n",
              "      <td>3.559784e-13</td>\n",
              "      <td>-0.009169</td>\n",
              "      <td>-3.282457e-14</td>\n",
              "      <td>3.130311e-15</td>\n",
              "      <td>3.854093e-13</td>\n",
              "      <td>...</td>\n",
              "      <td>3.459461e-13</td>\n",
              "      <td>1.245720e-13</td>\n",
              "      <td>7.670740e-14</td>\n",
              "      <td>-0.000085</td>\n",
              "      <td>0.000004</td>\n",
              "      <td>0.425565</td>\n",
              "      <td>0.469995</td>\n",
              "      <td>0.469995</td>\n",
              "      <td>Radius s1</td>\n",
              "      <td>E1</td>\n",
              "    </tr>\n",
              "    <tr>\n",
              "      <th>11</th>\n",
              "      <td>Radius s1 E1</td>\n",
              "      <td>-0.0010</td>\n",
              "      <td>25</td>\n",
              "      <td>z2</td>\n",
              "      <td>-1.365693e-13</td>\n",
              "      <td>-7.950521e-14</td>\n",
              "      <td>-0.009136</td>\n",
              "      <td>-7.328153e-14</td>\n",
              "      <td>-1.429621e-14</td>\n",
              "      <td>-2.876918e-13</td>\n",
              "      <td>...</td>\n",
              "      <td>1.172750e-13</td>\n",
              "      <td>4.865138e-13</td>\n",
              "      <td>4.549173e-13</td>\n",
              "      <td>-0.000085</td>\n",
              "      <td>0.000004</td>\n",
              "      <td>0.425561</td>\n",
              "      <td>0.469807</td>\n",
              "      <td>0.469807</td>\n",
              "      <td>Radius s1</td>\n",
              "      <td>E1</td>\n",
              "    </tr>\n",
              "    <tr>\n",
              "      <th>13</th>\n",
              "      <td>Radius s1 E1</td>\n",
              "      <td>-0.0005</td>\n",
              "      <td>25</td>\n",
              "      <td>z2</td>\n",
              "      <td>-1.407450e-13</td>\n",
              "      <td>-1.261754e-13</td>\n",
              "      <td>-0.009125</td>\n",
              "      <td>1.129584e-14</td>\n",
              "      <td>-2.844456e-13</td>\n",
              "      <td>1.360686e-14</td>\n",
              "      <td>...</td>\n",
              "      <td>-6.201105e-13</td>\n",
              "      <td>-2.407983e-14</td>\n",
              "      <td>1.665598e-14</td>\n",
              "      <td>-0.000085</td>\n",
              "      <td>0.000004</td>\n",
              "      <td>0.425560</td>\n",
              "      <td>0.469805</td>\n",
              "      <td>0.469805</td>\n",
              "      <td>Radius s1</td>\n",
              "      <td>E1</td>\n",
              "    </tr>\n",
              "    <tr>\n",
              "      <th>15</th>\n",
              "      <td>Radius s1 E1</td>\n",
              "      <td>0.0005</td>\n",
              "      <td>25</td>\n",
              "      <td>z2</td>\n",
              "      <td>8.619145e-14</td>\n",
              "      <td>3.421729e-14</td>\n",
              "      <td>-0.009104</td>\n",
              "      <td>-2.166371e-13</td>\n",
              "      <td>-5.127902e-14</td>\n",
              "      <td>3.549500e-13</td>\n",
              "      <td>...</td>\n",
              "      <td>-1.866329e-14</td>\n",
              "      <td>-7.279432e-14</td>\n",
              "      <td>-5.018852e-14</td>\n",
              "      <td>-0.000085</td>\n",
              "      <td>0.000004</td>\n",
              "      <td>0.425557</td>\n",
              "      <td>0.469693</td>\n",
              "      <td>0.469693</td>\n",
              "      <td>Radius s1</td>\n",
              "      <td>E1</td>\n",
              "    </tr>\n",
              "    <tr>\n",
              "      <th>17</th>\n",
              "      <td>Radius s1 E1</td>\n",
              "      <td>0.0010</td>\n",
              "      <td>25</td>\n",
              "      <td>z2</td>\n",
              "      <td>4.082514e-14</td>\n",
              "      <td>-3.861021e-14</td>\n",
              "      <td>-0.009093</td>\n",
              "      <td>7.269387e-14</td>\n",
              "      <td>-5.353852e-14</td>\n",
              "      <td>5.225629e-14</td>\n",
              "      <td>...</td>\n",
              "      <td>-4.030833e-13</td>\n",
              "      <td>-6.638440e-13</td>\n",
              "      <td>-6.428992e-13</td>\n",
              "      <td>-0.000085</td>\n",
              "      <td>0.000004</td>\n",
              "      <td>0.425556</td>\n",
              "      <td>0.469692</td>\n",
              "      <td>0.469692</td>\n",
              "      <td>Radius s1</td>\n",
              "      <td>E1</td>\n",
              "    </tr>\n",
              "    <tr>\n",
              "      <th>19</th>\n",
              "      <td>Radius s1 E1</td>\n",
              "      <td>0.0025</td>\n",
              "      <td>25</td>\n",
              "      <td>z2</td>\n",
              "      <td>1.792913e-13</td>\n",
              "      <td>-1.060957e-14</td>\n",
              "      <td>-0.009060</td>\n",
              "      <td>2.145101e-13</td>\n",
              "      <td>3.707742e-13</td>\n",
              "      <td>6.552571e-14</td>\n",
              "      <td>...</td>\n",
              "      <td>-5.330995e-13</td>\n",
              "      <td>9.503880e-14</td>\n",
              "      <td>-2.685768e-13</td>\n",
              "      <td>-0.000086</td>\n",
              "      <td>0.000004</td>\n",
              "      <td>0.425553</td>\n",
              "      <td>0.469687</td>\n",
              "      <td>0.469687</td>\n",
              "      <td>Radius s1</td>\n",
              "      <td>E1</td>\n",
              "    </tr>\n",
              "    <tr>\n",
              "      <th>21</th>\n",
              "      <td>Radius s1 E1</td>\n",
              "      <td>0.0050</td>\n",
              "      <td>25</td>\n",
              "      <td>z2</td>\n",
              "      <td>1.612786e-13</td>\n",
              "      <td>1.993359e-13</td>\n",
              "      <td>-0.009006</td>\n",
              "      <td>4.214802e-14</td>\n",
              "      <td>1.622890e-13</td>\n",
              "      <td>-1.161604e-13</td>\n",
              "      <td>...</td>\n",
              "      <td>-2.309826e-13</td>\n",
              "      <td>-4.262072e-13</td>\n",
              "      <td>-4.614821e-13</td>\n",
              "      <td>-0.000086</td>\n",
              "      <td>0.000004</td>\n",
              "      <td>0.425547</td>\n",
              "      <td>0.469572</td>\n",
              "      <td>0.469572</td>\n",
              "      <td>Radius s1</td>\n",
              "      <td>E1</td>\n",
              "    </tr>\n",
              "  </tbody>\n",
              "</table>\n",
              "<p>10 rows × 45 columns</p>\n",
              "</div>\n",
              "    <div class=\"colab-df-buttons\">\n",
              "\n",
              "  <div class=\"colab-df-container\">\n",
              "    <button class=\"colab-df-convert\" onclick=\"convertToInteractive('df-bc8742b4-493c-4338-8d86-0730d08614e9')\"\n",
              "            title=\"Convert this dataframe to an interactive table.\"\n",
              "            style=\"display:none;\">\n",
              "\n",
              "  <svg xmlns=\"http://www.w3.org/2000/svg\" height=\"24px\" viewBox=\"0 -960 960 960\">\n",
              "    <path d=\"M120-120v-720h720v720H120Zm60-500h600v-160H180v160Zm220 220h160v-160H400v160Zm0 220h160v-160H400v160ZM180-400h160v-160H180v160Zm440 0h160v-160H620v160ZM180-180h160v-160H180v160Zm440 0h160v-160H620v160Z\"/>\n",
              "  </svg>\n",
              "    </button>\n",
              "\n",
              "  <style>\n",
              "    .colab-df-container {\n",
              "      display:flex;\n",
              "      gap: 12px;\n",
              "    }\n",
              "\n",
              "    .colab-df-convert {\n",
              "      background-color: #E8F0FE;\n",
              "      border: none;\n",
              "      border-radius: 50%;\n",
              "      cursor: pointer;\n",
              "      display: none;\n",
              "      fill: #1967D2;\n",
              "      height: 32px;\n",
              "      padding: 0 0 0 0;\n",
              "      width: 32px;\n",
              "    }\n",
              "\n",
              "    .colab-df-convert:hover {\n",
              "      background-color: #E2EBFA;\n",
              "      box-shadow: 0px 1px 2px rgba(60, 64, 67, 0.3), 0px 1px 3px 1px rgba(60, 64, 67, 0.15);\n",
              "      fill: #174EA6;\n",
              "    }\n",
              "\n",
              "    .colab-df-buttons div {\n",
              "      margin-bottom: 4px;\n",
              "    }\n",
              "\n",
              "    [theme=dark] .colab-df-convert {\n",
              "      background-color: #3B4455;\n",
              "      fill: #D2E3FC;\n",
              "    }\n",
              "\n",
              "    [theme=dark] .colab-df-convert:hover {\n",
              "      background-color: #434B5C;\n",
              "      box-shadow: 0px 1px 3px 1px rgba(0, 0, 0, 0.15);\n",
              "      filter: drop-shadow(0px 1px 2px rgba(0, 0, 0, 0.3));\n",
              "      fill: #FFFFFF;\n",
              "    }\n",
              "  </style>\n",
              "\n",
              "    <script>\n",
              "      const buttonEl =\n",
              "        document.querySelector('#df-bc8742b4-493c-4338-8d86-0730d08614e9 button.colab-df-convert');\n",
              "      buttonEl.style.display =\n",
              "        google.colab.kernel.accessAllowed ? 'block' : 'none';\n",
              "\n",
              "      async function convertToInteractive(key) {\n",
              "        const element = document.querySelector('#df-bc8742b4-493c-4338-8d86-0730d08614e9');\n",
              "        const dataTable =\n",
              "          await google.colab.kernel.invokeFunction('convertToInteractive',\n",
              "                                                    [key], {});\n",
              "        if (!dataTable) return;\n",
              "\n",
              "        const docLinkHtml = 'Like what you see? Visit the ' +\n",
              "          '<a target=\"_blank\" href=https://colab.research.google.com/notebooks/data_table.ipynb>data table notebook</a>'\n",
              "          + ' to learn more about interactive tables.';\n",
              "        element.innerHTML = '';\n",
              "        dataTable['output_type'] = 'display_data';\n",
              "        await google.colab.output.renderOutput(dataTable, element);\n",
              "        const docLink = document.createElement('div');\n",
              "        docLink.innerHTML = docLinkHtml;\n",
              "        element.appendChild(docLink);\n",
              "      }\n",
              "    </script>\n",
              "  </div>\n",
              "\n",
              "\n",
              "    <div id=\"df-160aa9c4-703f-4ff9-9980-9f19f08b553f\">\n",
              "      <button class=\"colab-df-quickchart\" onclick=\"quickchart('df-160aa9c4-703f-4ff9-9980-9f19f08b553f')\"\n",
              "                title=\"Suggest charts\"\n",
              "                style=\"display:none;\">\n",
              "\n",
              "<svg xmlns=\"http://www.w3.org/2000/svg\" height=\"24px\"viewBox=\"0 0 24 24\"\n",
              "     width=\"24px\">\n",
              "    <g>\n",
              "        <path d=\"M19 3H5c-1.1 0-2 .9-2 2v14c0 1.1.9 2 2 2h14c1.1 0 2-.9 2-2V5c0-1.1-.9-2-2-2zM9 17H7v-7h2v7zm4 0h-2V7h2v10zm4 0h-2v-4h2v4z\"/>\n",
              "    </g>\n",
              "</svg>\n",
              "      </button>\n",
              "\n",
              "<style>\n",
              "  .colab-df-quickchart {\n",
              "      --bg-color: #E8F0FE;\n",
              "      --fill-color: #1967D2;\n",
              "      --hover-bg-color: #E2EBFA;\n",
              "      --hover-fill-color: #174EA6;\n",
              "      --disabled-fill-color: #AAA;\n",
              "      --disabled-bg-color: #DDD;\n",
              "  }\n",
              "\n",
              "  [theme=dark] .colab-df-quickchart {\n",
              "      --bg-color: #3B4455;\n",
              "      --fill-color: #D2E3FC;\n",
              "      --hover-bg-color: #434B5C;\n",
              "      --hover-fill-color: #FFFFFF;\n",
              "      --disabled-bg-color: #3B4455;\n",
              "      --disabled-fill-color: #666;\n",
              "  }\n",
              "\n",
              "  .colab-df-quickchart {\n",
              "    background-color: var(--bg-color);\n",
              "    border: none;\n",
              "    border-radius: 50%;\n",
              "    cursor: pointer;\n",
              "    display: none;\n",
              "    fill: var(--fill-color);\n",
              "    height: 32px;\n",
              "    padding: 0;\n",
              "    width: 32px;\n",
              "  }\n",
              "\n",
              "  .colab-df-quickchart:hover {\n",
              "    background-color: var(--hover-bg-color);\n",
              "    box-shadow: 0 1px 2px rgba(60, 64, 67, 0.3), 0 1px 3px 1px rgba(60, 64, 67, 0.15);\n",
              "    fill: var(--button-hover-fill-color);\n",
              "  }\n",
              "\n",
              "  .colab-df-quickchart-complete:disabled,\n",
              "  .colab-df-quickchart-complete:disabled:hover {\n",
              "    background-color: var(--disabled-bg-color);\n",
              "    fill: var(--disabled-fill-color);\n",
              "    box-shadow: none;\n",
              "  }\n",
              "\n",
              "  .colab-df-spinner {\n",
              "    border: 2px solid var(--fill-color);\n",
              "    border-color: transparent;\n",
              "    border-bottom-color: var(--fill-color);\n",
              "    animation:\n",
              "      spin 1s steps(1) infinite;\n",
              "  }\n",
              "\n",
              "  @keyframes spin {\n",
              "    0% {\n",
              "      border-color: transparent;\n",
              "      border-bottom-color: var(--fill-color);\n",
              "      border-left-color: var(--fill-color);\n",
              "    }\n",
              "    20% {\n",
              "      border-color: transparent;\n",
              "      border-left-color: var(--fill-color);\n",
              "      border-top-color: var(--fill-color);\n",
              "    }\n",
              "    30% {\n",
              "      border-color: transparent;\n",
              "      border-left-color: var(--fill-color);\n",
              "      border-top-color: var(--fill-color);\n",
              "      border-right-color: var(--fill-color);\n",
              "    }\n",
              "    40% {\n",
              "      border-color: transparent;\n",
              "      border-right-color: var(--fill-color);\n",
              "      border-top-color: var(--fill-color);\n",
              "    }\n",
              "    60% {\n",
              "      border-color: transparent;\n",
              "      border-right-color: var(--fill-color);\n",
              "    }\n",
              "    80% {\n",
              "      border-color: transparent;\n",
              "      border-right-color: var(--fill-color);\n",
              "      border-bottom-color: var(--fill-color);\n",
              "    }\n",
              "    90% {\n",
              "      border-color: transparent;\n",
              "      border-bottom-color: var(--fill-color);\n",
              "    }\n",
              "  }\n",
              "</style>\n",
              "\n",
              "      <script>\n",
              "        async function quickchart(key) {\n",
              "          const quickchartButtonEl =\n",
              "            document.querySelector('#' + key + ' button');\n",
              "          quickchartButtonEl.disabled = true;  // To prevent multiple clicks.\n",
              "          quickchartButtonEl.classList.add('colab-df-spinner');\n",
              "          try {\n",
              "            const charts = await google.colab.kernel.invokeFunction(\n",
              "                'suggestCharts', [key], {});\n",
              "          } catch (error) {\n",
              "            console.error('Error during call to suggestCharts:', error);\n",
              "          }\n",
              "          quickchartButtonEl.classList.remove('colab-df-spinner');\n",
              "          quickchartButtonEl.classList.add('colab-df-quickchart-complete');\n",
              "        }\n",
              "        (() => {\n",
              "          let quickchartButtonEl =\n",
              "            document.querySelector('#df-160aa9c4-703f-4ff9-9980-9f19f08b553f button');\n",
              "          quickchartButtonEl.style.display =\n",
              "            google.colab.kernel.accessAllowed ? 'block' : 'none';\n",
              "        })();\n",
              "      </script>\n",
              "    </div>\n",
              "\n",
              "    </div>\n",
              "  </div>\n"
            ],
            "application/vnd.google.colaboratory.intrinsic+json": {
              "type": "dataframe"
            }
          },
          "metadata": {}
        }
      ]
    },
    {
      "cell_type": "markdown",
      "metadata": {
        "id": "c10e58c9"
      },
      "source": [
        "### Encode Categorical Variables"
      ]
    },
    {
      "cell_type": "code",
      "metadata": {
        "colab": {
          "base_uri": "https://localhost:8080/"
        },
        "id": "c4822510",
        "outputId": "7ccd1d39-2b64-4477-ece7-6652eb61e490"
      },
      "source": [
        "# Encode the categorical variables\n",
        "le_error = LabelEncoder()\n",
        "le_parameter = LabelEncoder()\n",
        "\n",
        "df['error_name_encoded'] = le_error.fit_transform(df['error_name'])\n",
        "df['parameter_name_encoded'] = le_parameter.fit_transform(df['parameter_name'])\n",
        "\n",
        "print(f\"\\nNumber of error types: {len(le_error.classes_)}\")\n",
        "print(f\"Number of parameter types: {len(le_parameter.classes_)}\")"
      ],
      "execution_count": 97,
      "outputs": [
        {
          "output_type": "stream",
          "name": "stdout",
          "text": [
            "\n",
            "Number of error types: 9\n",
            "Number of parameter types: 7\n"
          ]
        }
      ]
    },
    {
      "cell_type": "code",
      "source": [
        "le_error.classes_"
      ],
      "metadata": {
        "colab": {
          "base_uri": "https://localhost:8080/"
        },
        "id": "tMMrzq2zZejz",
        "outputId": "625d0e1a-e4da-4977-a1d5-cd9503cf13e0"
      },
      "execution_count": 98,
      "outputs": [
        {
          "output_type": "execute_result",
          "data": {
            "text/plain": [
              "array(['Decenter', 'ETV', 'Irr s1', 'Irr s2', 'Radius s1', 'Radius s2',\n",
              "       'Thickness', 'Tilt', 'Z Position'], dtype=object)"
            ]
          },
          "metadata": {},
          "execution_count": 98
        }
      ]
    },
    {
      "cell_type": "markdown",
      "metadata": {
        "id": "4d6a02e1"
      },
      "source": [
        "### Prepare Features and Create Train/Test Split"
      ]
    },
    {
      "cell_type": "code",
      "metadata": {
        "colab": {
          "base_uri": "https://localhost:8080/"
        },
        "id": "2fce4e59",
        "outputId": "811dfc97-fed1-436c-b8b2-186edc11bfb2"
      },
      "source": [
        "# Prepare features (excluding the target columns)\n",
        "feature_columns1 = [f'c{i}' for i in range(2, 38)]\n",
        "feature_columns2 = ['MTF poly - On axis - S'] + ['MTF poly - On axis - T'] + ['MTF']\n",
        "\n",
        "\n",
        "# Create train/test split based on error_name + parameter_name groups\n",
        "train_data = []\n",
        "test_data = []\n",
        "\n",
        "print(\"\\nCreating train/test split...\")\n",
        "# Ensure 'error_name' and 'parameter_name' columns are present in df.\n",
        "# If not, rerun the data loading and splitting steps (cells above).\n",
        "for error_name in df['error_name'].unique():\n",
        "    for parameter_name in df['parameter_name'].unique():\n",
        "        # Get data for this specific error_name + parameter_name combination\n",
        "        group_data = df[(df['error_name'] == error_name) &\n",
        "                       (df['parameter_name'] == parameter_name)]\n",
        "\n",
        "        if len(group_data) < 4:\n",
        "            print(f\"Skipping {error_name} {parameter_name}: only {len(group_data)} samples\")\n",
        "            continue\n",
        "\n",
        "        # Sort by error value\n",
        "        group_data_sorted = group_data.sort_values('error')\n",
        "\n",
        "        if config[\"test_selection\"] == \"random\":\n",
        "            test_indices = np.random.choice(len(group_data_sorted), size=2, replace=False)\n",
        "        elif config[\"test_selection\"] == \"2nd_from_top_and_bottom\":\n",
        "            test_indices = [1, len(group_data_sorted) - 2]  # Second from top and second from bottom\n",
        "        else:\n",
        "            raise ValueError(f\"Invalid test selection: {config['test_selection']}\")\n",
        "\n",
        "        test_rows = group_data_sorted.iloc[test_indices]\n",
        "        train_rows = group_data_sorted.drop(group_data_sorted.index[test_indices])\n",
        "\n",
        "        test_data.extend(test_rows.to_dict('records'))\n",
        "        train_data.extend(train_rows.to_dict('records'))\n",
        "\n",
        "# Convert back to DataFrames\n",
        "df_train = pd.DataFrame(train_data)\n",
        "df_test = pd.DataFrame(test_data)\n",
        "\n",
        "print(f\"Training set size: {len(df_train)}\")\n",
        "print(f\"Test set size: {len(df_test)}\")\n",
        "\n",
        "# Prepare features and targets\n",
        "X1_train = df_train[feature_columns1].values\n",
        "X1_test = df_test[feature_columns1].values\n",
        "X2_train = df_train[feature_columns2].values\n",
        "X2_test = df_test[feature_columns2].values\n",
        "\n",
        "y_error_train = df_train['error_name_encoded'].values\n",
        "y_error_test = df_test['error_name_encoded'].values\n",
        "\n",
        "y_parameter_train = df_train['parameter_name_encoded'].values\n",
        "y_parameter_test = df_test['parameter_name_encoded'].values\n"
      ],
      "execution_count": 99,
      "outputs": [
        {
          "output_type": "stream",
          "name": "stdout",
          "text": [
            "\n",
            "Creating train/test split...\n",
            "Training set size: 504\n",
            "Test set size: 126\n"
          ]
        }
      ]
    },
    {
      "cell_type": "markdown",
      "metadata": {
        "id": "9f558245"
      },
      "source": [
        "### Scale Features"
      ]
    },
    {
      "cell_type": "code",
      "metadata": {
        "id": "022bd3ae",
        "colab": {
          "base_uri": "https://localhost:8080/"
        },
        "outputId": "108fa108-0acc-4b27-c577-a5f7f062a33f"
      },
      "source": [
        "# Scale features\n",
        "scaler = StandardScaler()\n",
        "X1_train_scaled = scaler.fit_transform(X1_train)\n",
        "X1_test_scaled = scaler.transform(X1_test)\n",
        "X2_train_scaled = scaler.fit_transform(X2_train)\n",
        "X2_test_scaled = scaler.transform(X2_test)\n",
        "\n",
        "print(f\"\\nFeature shapes:\")\n",
        "print(f\"X1_train: {X1_train_scaled.shape}\")\n",
        "print(f\"X1_test: {X1_test_scaled.shape}\")\n",
        "print(f\"X2_train: {X2_train_scaled.shape}\")\n",
        "print(f\"X2_test: {X2_test_scaled.shape}\")\n",
        "print(f\"y_error_train: {y_error_train.shape}\")\n",
        "print(f\"y_parameter_train: {y_parameter_train.shape}\")"
      ],
      "execution_count": 100,
      "outputs": [
        {
          "output_type": "stream",
          "name": "stdout",
          "text": [
            "\n",
            "Feature shapes:\n",
            "X1_train: (504, 36)\n",
            "X1_test: (126, 36)\n",
            "X2_train: (504, 3)\n",
            "X2_test: (126, 3)\n",
            "y_error_train: (504,)\n",
            "y_parameter_train: (504,)\n"
          ]
        }
      ]
    },
    {
      "cell_type": "markdown",
      "metadata": {
        "id": "e78039cb"
      },
      "source": [
        "### Create PyTorch Datasets and DataLoaders"
      ]
    },
    {
      "cell_type": "code",
      "metadata": {
        "id": "7798097b",
        "colab": {
          "base_uri": "https://localhost:8080/"
        },
        "outputId": "24fc09c4-9e8d-4939-ea77-06f4b32a692e"
      },
      "source": [
        "# Create PyTorch Dataset\n",
        "class OpticalDataset(Dataset):\n",
        "    def __init__(self, X1, X2, y_error, y_parameter):\n",
        "        self.X1 = torch.tensor(X1, dtype=torch.float32)\n",
        "        self.X2 = torch.tensor(X2, dtype=torch.float32)\n",
        "        self.y_error = torch.tensor(y_error, dtype=torch.long)\n",
        "        self.y_parameter = torch.tensor(y_parameter, dtype=torch.long)\n",
        "\n",
        "    def __len__(self):\n",
        "        return len(self.X1)\n",
        "\n",
        "    def __getitem__(self, idx):\n",
        "        return self.X1[idx], self.X2[idx], self.y_error[idx], self.y_parameter[idx]\n",
        "\n",
        "# Create datasets\n",
        "train_dataset = OpticalDataset(X1_train_scaled, X2_train_scaled, y_error_train, y_parameter_train)\n",
        "test_dataset = OpticalDataset(X1_test_scaled, X2_test_scaled, y_error_test, y_parameter_test)\n",
        "\n",
        "# Create data loaders\n",
        "train_loader = DataLoader(train_dataset, batch_size=config[\"batch_size\"], shuffle=True)\n",
        "test_loader = DataLoader(test_dataset, batch_size=config[\"batch_size\"], shuffle=False)\n",
        "\n",
        "print(f\"\\nData loaders created:\")\n",
        "print(f\"Training batches: {len(train_loader)}\")\n",
        "print(f\"Test batches: {len(test_loader)}\")\n",
        "\n",
        "# Print class information for the neural network\n",
        "print(f\"\\nClass information for neural network:\")\n",
        "print(f\"Input dimension X1: {X1_train_scaled.shape[1]}\")\n",
        "print(f\"Input dimension X2: {X2_train_scaled.shape[1]}\")\n",
        "print(f\"Number of error types: {len(le_error.classes_)}\")\n",
        "print(f\"Number of parameter types: {len(le_parameter.classes_)}\")\n",
        "\n",
        "print(f\"\\nError type classes:\")\n",
        "for i, class_name in enumerate(le_error.classes_):\n",
        "    print(f\"  {i}: {class_name}\")\n",
        "\n",
        "print(f\"\\nParameter type classes:\")\n",
        "for i, class_name in enumerate(le_parameter.classes_):\n",
        "    print(f\"  {i}: {class_name}\")"
      ],
      "execution_count": 101,
      "outputs": [
        {
          "output_type": "stream",
          "name": "stdout",
          "text": [
            "\n",
            "Data loaders created:\n",
            "Training batches: 16\n",
            "Test batches: 4\n",
            "\n",
            "Class information for neural network:\n",
            "Input dimension X1: 36\n",
            "Input dimension X2: 3\n",
            "Number of error types: 9\n",
            "Number of parameter types: 7\n",
            "\n",
            "Error type classes:\n",
            "  0: Decenter\n",
            "  1: ETV\n",
            "  2: Irr s1\n",
            "  3: Irr s2\n",
            "  4: Radius s1\n",
            "  5: Radius s2\n",
            "  6: Thickness\n",
            "  7: Tilt\n",
            "  8: Z Position\n",
            "\n",
            "Parameter type classes:\n",
            "  0: E1\n",
            "  1: E2\n",
            "  2: E3\n",
            "  3: E4\n",
            "  4: E5\n",
            "  5: E6\n",
            "  6: E7\n"
          ]
        }
      ]
    },
    {
      "cell_type": "markdown",
      "metadata": {
        "id": "75c5d7a9"
      },
      "source": [
        "### Save Encoders, Scaler, and Configuration"
      ]
    },
    {
      "cell_type": "code",
      "metadata": {
        "id": "7335cf68",
        "colab": {
          "base_uri": "https://localhost:8080/"
        },
        "outputId": "58eb14c8-3d10-4070-ad4b-345894468843"
      },
      "source": [
        "# Create timestamped directory for results\n",
        "timestamp = datetime.now().strftime(\"%Y%m%d_%H%M%S\")\n",
        "results_dir = f\"eda/plots/neural_network_results_{timestamp}\"\n",
        "os.makedirs(results_dir, exist_ok=True)\n",
        "print(f\"\\nResults will be saved to: {results_dir}\")\n",
        "\n",
        "# Save the encoders and scaler for later use\n",
        "import pickle\n",
        "with open(f'{results_dir}/encoders_and_scaler.pkl', 'wb') as f:\n",
        "    pickle.dump({\n",
        "        'le_error': le_error,\n",
        "        'le_parameter': le_parameter,\n",
        "        'scaler': scaler,\n",
        "        'feature_columns': feature_columns1 + feature_columns2\n",
        "    }, f)\n",
        "\n",
        "# Save the config for reproducibility as a json file\n",
        "with open(f'{results_dir}/config.json', 'w') as f:\n",
        "    json.dump(config, f)\n",
        "\n",
        "print(f\"Encoders and scaler saved to '{results_dir}/encoders_and_scaler.pkl'\")\n",
        "print(f\"Configuration saved to '{results_dir}/config.json'\")"
      ],
      "execution_count": 102,
      "outputs": [
        {
          "output_type": "stream",
          "name": "stdout",
          "text": [
            "\n",
            "Results will be saved to: eda/plots/neural_network_results_20251015_012814\n",
            "Encoders and scaler saved to 'eda/plots/neural_network_results_20251015_012814/encoders_and_scaler.pkl'\n",
            "Configuration saved to 'eda/plots/neural_network_results_20251015_012814/config.json'\n"
          ]
        }
      ]
    },
    {
      "cell_type": "markdown",
      "metadata": {
        "id": "e433284e"
      },
      "source": [
        "### Test DataLoaders"
      ]
    },
    {
      "cell_type": "code",
      "metadata": {
        "id": "230863f6",
        "colab": {
          "base_uri": "https://localhost:8080/"
        },
        "outputId": "d286386c-172a-44e3-e90c-2b443de4bd90"
      },
      "source": [
        "# Test the data loaders\n",
        "print(f\"\\nTesting data loaders...\")\n",
        "for batch_idx, (X1_batch, X2_batch, y_error_batch, y_parameter_batch) in enumerate(train_loader):\n",
        "    print(f\"Batch {batch_idx + 1}:\")\n",
        "    print(f\"  X1 shape: {X1_batch.shape}\")\n",
        "    print(f\"  X2 shape: {X2_batch.shape}\")\n",
        "    print(f\"  y_error shape: {y_error_batch.shape}\")\n",
        "    print(f\"  y_parameter shape: {y_parameter_batch.shape}\")\n",
        "    print(f\"  y_error range: {y_error_batch.min().item()} to {y_error_batch.max().item()}\")\n",
        "    print(f\"  y_parameter range: {y_parameter_batch.min().item()} to {y_parameter_batch.max().item()}\")\n",
        "    break\n",
        "\n",
        "print(f\"\\nData preparation complete! Ready for neural network training.\")"
      ],
      "execution_count": 103,
      "outputs": [
        {
          "output_type": "stream",
          "name": "stdout",
          "text": [
            "\n",
            "Testing data loaders...\n",
            "Batch 1:\n",
            "  X1 shape: torch.Size([32, 36])\n",
            "  X2 shape: torch.Size([32, 3])\n",
            "  y_error shape: torch.Size([32])\n",
            "  y_parameter shape: torch.Size([32])\n",
            "  y_error range: 0 to 8\n",
            "  y_parameter range: 0 to 6\n",
            "\n",
            "Data preparation complete! Ready for neural network training.\n"
          ]
        }
      ]
    },
    {
      "cell_type": "markdown",
      "metadata": {
        "id": "51344c95"
      },
      "source": [
        "### Initialize Model, Optimizer, and Loss Function"
      ]
    },
    {
      "cell_type": "code",
      "source": [
        "# Import the neural network model\n",
        "import sys\n",
        "sys.path.append('.')\n",
        "# from eda.nn_model import MultiOutputClassifier # Original import\n",
        "# from eda.nn_model_two_stages import TwoStageClassifier # Original import\n",
        "'''\n",
        "from nn_model import MultiOutputClassifier\n",
        "'''\n",
        "from nn_model_two_stages_V2 import TwoStageClassifier\n",
        "\n",
        "\n",
        "# Update model configuration based on actual data\n",
        "INPUT_DIM_X1 = X1_train_scaled.shape[1]\n",
        "INPUT_DIM_X2 = X2_train_scaled.shape[1]\n",
        "NUM_ERROR_TYPES = len(le_error.classes_)\n",
        "NUM_ERROR_ELEMENTS = len(le_parameter.classes_)\n",
        "\n",
        "print(f\"\\n\" + \"=\"*50)\n",
        "print(\"NEURAL NETWORK TRAINING\")\n",
        "print(\"=\"*50)\n",
        "print(f\"Input dimension X1: {INPUT_DIM_X1}\")\n",
        "print(f\"Input dimension X2: {INPUT_DIM_X2}\")\n",
        "print(f\"Number of error types: {NUM_ERROR_TYPES}\")\n",
        "print(f\"Number of error elements: {NUM_ERROR_ELEMENTS}\")"
      ],
      "metadata": {
        "colab": {
          "base_uri": "https://localhost:8080/"
        },
        "id": "5BoOnqi87AY3",
        "outputId": "79f0265a-6a7f-41f1-aedf-5298f9e9030c"
      },
      "execution_count": 104,
      "outputs": [
        {
          "output_type": "stream",
          "name": "stdout",
          "text": [
            "\n",
            "==================================================\n",
            "NEURAL NETWORK TRAINING\n",
            "==================================================\n",
            "Input dimension X1: 36\n",
            "Input dimension X2: 3\n",
            "Number of error types: 9\n",
            "Number of error elements: 7\n"
          ]
        }
      ]
    },
    {
      "cell_type": "code",
      "metadata": {
        "id": "07695b9f",
        "colab": {
          "base_uri": "https://localhost:8080/"
        },
        "outputId": "337abd9d-1217-4cd9-b667-fa5dd18cc668"
      },
      "source": [
        "# Initialize model, optimizer, and loss function\n",
        "import torch.nn as nn\n",
        "import torch.optim as optim\n",
        "import torch.nn.functional as F\n",
        "\n",
        "if config[\"model\"] == \"MultiOutputClassifier\":\n",
        "    '''\n",
        "    model = MultiOutputClassifier(INPUT_DIM, NUM_ERROR_TYPES, NUM_ERROR_ELEMENTS)\n",
        "    '''\n",
        "    raise ValueError(\"MultiOutputClassifier is not compatible with two inputs\")\n",
        "elif config[\"model\"] == \"TwoStageClassifier\":\n",
        "    model = TwoStageClassifier(INPUT_DIM_X1, INPUT_DIM_X2, NUM_ERROR_TYPES, NUM_ERROR_ELEMENTS)\n",
        "else:\n",
        "    raise ValueError(f\"Unknown model type: {config['model']}\")\n",
        "\n",
        "\n",
        "optimizer = optim.Adam(model.parameters(), lr=config[\"learning_rate\"], weight_decay=config[\"weight_decay\"])\n",
        "\n",
        "criterion = nn.CrossEntropyLoss()\n",
        "\n",
        "print(f\"Model initialized with {sum(p.numel() for p in model.parameters())} parameters\")"
      ],
      "execution_count": 105,
      "outputs": [
        {
          "output_type": "stream",
          "name": "stdout",
          "text": [
            "Model initialized with 2436 parameters\n"
          ]
        }
      ]
    },
    {
      "cell_type": "markdown",
      "metadata": {
        "id": "f534328b"
      },
      "source": [
        "### Training Loop"
      ]
    },
    {
      "cell_type": "code",
      "metadata": {
        "id": "0ad35545",
        "colab": {
          "base_uri": "https://localhost:8080/"
        },
        "outputId": "bef6ec7e-1a9c-4d06-ae02-8520bc6b1b32"
      },
      "source": [
        "# Training loop\n",
        "print(f\"\\nStarting training for {config['epochs']} epochs...\")\n",
        "train_losses = []\n",
        "val_losses = []\n",
        "train_acc_error = []\n",
        "train_acc_parameter = []\n",
        "val_acc_error = []\n",
        "val_acc_parameter = []\n",
        "\n",
        "for epoch in range(config[\"epochs\"]):\n",
        "    # Training phase\n",
        "    model.train()\n",
        "    total_loss = 0\n",
        "    correct_error = 0\n",
        "    correct_parameter = 0\n",
        "    total_samples = 0\n",
        "\n",
        "    '''\n",
        "    for X_batch, y_error_batch, y_parameter_batch in train_loader:\n",
        "        optimizer.zero_grad()\n",
        "\n",
        "        # Forward pass\n",
        "        out_error, out_parameter = model(X_batch)\n",
        "\n",
        "        # Calculate losses\n",
        "        loss_error = criterion(out_error, y_error_batch)\n",
        "        loss_parameter = criterion(out_parameter, y_parameter_batch)\n",
        "        loss = loss_error + config[\"parameter_loss_weight\"] * loss_parameter\n",
        "\n",
        "        # Backward pass\n",
        "        loss.backward()\n",
        "        optimizer.step()\n",
        "\n",
        "        # Statistics\n",
        "        total_loss += loss.item()\n",
        "        pred_error = out_error.argmax(dim=1)\n",
        "        pred_parameter = out_parameter.argmax(dim=1)\n",
        "        correct_error += (pred_error == y_error_batch).sum().item()\n",
        "        correct_parameter += (pred_parameter == y_parameter_batch).sum().item()\n",
        "        total_samples += y_error_batch.size(0)\n",
        "    '''\n",
        "    for X1_batch, X2_batch, y_error_batch, y_parameter_batch in train_loader:\n",
        "        optimizer.zero_grad()\n",
        "\n",
        "        # Forward pass\n",
        "        out_error, out_parameter = model(X1_batch, X2_batch) # error_type_logits, error_element_logits\n",
        "\n",
        "        # Calculate losses\n",
        "        loss_error = criterion(out_error, y_error_batch)\n",
        "        loss_parameter = criterion(out_parameter, y_parameter_batch)\n",
        "        loss = loss_error + config[\"parameter_loss_weight\"] * loss_parameter\n",
        "\n",
        "        # Backward pass\n",
        "        loss.backward()\n",
        "        optimizer.step()\n",
        "\n",
        "        # Statistics\n",
        "        total_loss += loss.item()\n",
        "        pred_error = out_error.argmax(dim=1)\n",
        "        pred_parameter = out_parameter.argmax(dim=1)\n",
        "        correct_error += (pred_error == y_error_batch).sum().item()\n",
        "        correct_parameter += (pred_parameter == y_parameter_batch).sum().item()\n",
        "        total_samples += y_error_batch.size(0)\n",
        "\n",
        "\n",
        "    # Calculate training metrics\n",
        "    avg_loss = total_loss / len(train_loader)\n",
        "    acc_error = correct_error / total_samples\n",
        "    acc_parameter = correct_parameter / total_samples\n",
        "\n",
        "    train_losses.append(avg_loss)\n",
        "    train_acc_error.append(acc_error)\n",
        "    train_acc_parameter.append(acc_parameter)\n",
        "\n",
        "    # Validation phase\n",
        "    model.eval()\n",
        "    val_loss = 0\n",
        "    val_correct_error = 0\n",
        "    val_correct_parameter = 0\n",
        "    val_total_samples = 0\n",
        "\n",
        "    with torch.no_grad():\n",
        "        '''\n",
        "        for X_batch, y_error_batch, y_parameter_batch in test_loader:\n",
        "            out_error, out_parameter = model(X_batch)\n",
        "\n",
        "            loss_error = criterion(out_error, y_error_batch)\n",
        "            loss_parameter = criterion(out_parameter, y_parameter_batch)\n",
        "            loss = loss_error + config[\"parameter_loss_weight\"] * loss_parameter\n",
        "\n",
        "            val_loss += loss.item()\n",
        "            pred_error = out_error.argmax(dim=1)\n",
        "            pred_parameter = out_parameter.argmax(dim=1)\n",
        "            val_correct_error += (pred_error == y_error_batch).sum().item()\n",
        "            val_correct_parameter += (pred_parameter == y_parameter_batch).sum().item()\n",
        "            val_total_samples += y_error_batch.size(0)\n",
        "        '''\n",
        "        for X1_batch, X2_batch, y_error_batch, y_parameter_batch in test_loader:\n",
        "            out_error, out_parameter = model(X1_batch, X2_batch)\n",
        "\n",
        "            loss_error = criterion(out_error, y_error_batch)\n",
        "            loss_parameter = criterion(out_parameter, y_parameter_batch)\n",
        "            loss = loss_error + config[\"parameter_loss_weight\"] * loss_parameter\n",
        "\n",
        "            val_loss += loss.item()\n",
        "            pred_error = out_error.argmax(dim=1)\n",
        "            pred_parameter = out_parameter.argmax(dim=1)\n",
        "            val_correct_error += (pred_error == y_error_batch).sum().item()\n",
        "            val_correct_parameter += (pred_parameter == y_parameter_batch).sum().item()\n",
        "            val_total_samples += y_error_batch.size(0)\n",
        "\n",
        "\n",
        "    avg_val_loss = val_loss / len(test_loader)\n",
        "    val_acc_error_epoch = val_correct_error / val_total_samples\n",
        "    val_acc_parameter_epoch = val_correct_parameter / val_total_samples\n",
        "\n",
        "    val_losses.append(avg_val_loss)\n",
        "    val_acc_error.append(val_acc_error_epoch)\n",
        "    val_acc_parameter.append(val_acc_parameter_epoch)\n",
        "\n",
        "    # Print progress\n",
        "    if (epoch + 1) % 5 == 0:\n",
        "        print(f\"Epoch {epoch+1:2d}/{config['epochs']} - \"\n",
        "              f\"Train Loss: {avg_loss:.4f}, Val Loss: {avg_val_loss:.4f} - \"\n",
        "              f\"Train Acc (Error/Param): {acc_error:.3f}/{acc_parameter:.3f} - \"\n",
        "              f\"Val Acc (Error/Param): {val_acc_error_epoch:.3f}/{val_acc_parameter_epoch:.3f}\")"
      ],
      "execution_count": 106,
      "outputs": [
        {
          "output_type": "stream",
          "name": "stdout",
          "text": [
            "\n",
            "Starting training for 130 epochs...\n",
            "Epoch  5/130 - Train Loss: 4.0785, Val Loss: 4.0610 - Train Acc (Error/Param): 0.252/0.147 - Val Acc (Error/Param): 0.254/0.167\n",
            "Epoch 10/130 - Train Loss: 3.8360, Val Loss: 3.7247 - Train Acc (Error/Param): 0.341/0.161 - Val Acc (Error/Param): 0.341/0.143\n",
            "Epoch 15/130 - Train Loss: 3.5160, Val Loss: 3.3410 - Train Acc (Error/Param): 0.417/0.272 - Val Acc (Error/Param): 0.421/0.262\n",
            "Epoch 20/130 - Train Loss: 3.2464, Val Loss: 3.0607 - Train Acc (Error/Param): 0.458/0.313 - Val Acc (Error/Param): 0.460/0.357\n",
            "Epoch 25/130 - Train Loss: 3.0376, Val Loss: 2.8633 - Train Acc (Error/Param): 0.468/0.335 - Val Acc (Error/Param): 0.460/0.381\n",
            "Epoch 30/130 - Train Loss: 2.8779, Val Loss: 2.7289 - Train Acc (Error/Param): 0.500/0.349 - Val Acc (Error/Param): 0.492/0.381\n",
            "Epoch 35/130 - Train Loss: 2.7477, Val Loss: 2.6280 - Train Acc (Error/Param): 0.526/0.367 - Val Acc (Error/Param): 0.524/0.389\n",
            "Epoch 40/130 - Train Loss: 2.6509, Val Loss: 2.5389 - Train Acc (Error/Param): 0.538/0.383 - Val Acc (Error/Param): 0.548/0.452\n",
            "Epoch 45/130 - Train Loss: 2.5648, Val Loss: 2.4879 - Train Acc (Error/Param): 0.552/0.403 - Val Acc (Error/Param): 0.563/0.476\n",
            "Epoch 50/130 - Train Loss: 2.4768, Val Loss: 2.4292 - Train Acc (Error/Param): 0.563/0.427 - Val Acc (Error/Param): 0.587/0.468\n",
            "Epoch 55/130 - Train Loss: 2.3986, Val Loss: 2.3824 - Train Acc (Error/Param): 0.583/0.452 - Val Acc (Error/Param): 0.595/0.476\n",
            "Epoch 60/130 - Train Loss: 2.3275, Val Loss: 2.3437 - Train Acc (Error/Param): 0.601/0.450 - Val Acc (Error/Param): 0.611/0.452\n",
            "Epoch 65/130 - Train Loss: 2.2690, Val Loss: 2.3123 - Train Acc (Error/Param): 0.615/0.470 - Val Acc (Error/Param): 0.603/0.500\n",
            "Epoch 70/130 - Train Loss: 2.2127, Val Loss: 2.2783 - Train Acc (Error/Param): 0.631/0.476 - Val Acc (Error/Param): 0.587/0.516\n",
            "Epoch 75/130 - Train Loss: 2.1513, Val Loss: 2.2576 - Train Acc (Error/Param): 0.645/0.486 - Val Acc (Error/Param): 0.579/0.500\n",
            "Epoch 80/130 - Train Loss: 2.1009, Val Loss: 2.2431 - Train Acc (Error/Param): 0.653/0.500 - Val Acc (Error/Param): 0.595/0.548\n",
            "Epoch 85/130 - Train Loss: 2.0504, Val Loss: 2.2215 - Train Acc (Error/Param): 0.661/0.510 - Val Acc (Error/Param): 0.587/0.532\n",
            "Epoch 90/130 - Train Loss: 2.0004, Val Loss: 2.2192 - Train Acc (Error/Param): 0.669/0.536 - Val Acc (Error/Param): 0.595/0.540\n",
            "Epoch 95/130 - Train Loss: 1.9574, Val Loss: 2.1888 - Train Acc (Error/Param): 0.665/0.565 - Val Acc (Error/Param): 0.603/0.532\n",
            "Epoch 100/130 - Train Loss: 1.9128, Val Loss: 2.2077 - Train Acc (Error/Param): 0.675/0.573 - Val Acc (Error/Param): 0.595/0.540\n",
            "Epoch 105/130 - Train Loss: 1.8812, Val Loss: 2.1929 - Train Acc (Error/Param): 0.698/0.571 - Val Acc (Error/Param): 0.587/0.556\n",
            "Epoch 110/130 - Train Loss: 1.8350, Val Loss: 2.2070 - Train Acc (Error/Param): 0.688/0.601 - Val Acc (Error/Param): 0.587/0.556\n",
            "Epoch 115/130 - Train Loss: 1.7989, Val Loss: 2.2120 - Train Acc (Error/Param): 0.704/0.603 - Val Acc (Error/Param): 0.579/0.556\n",
            "Epoch 120/130 - Train Loss: 1.7585, Val Loss: 2.2093 - Train Acc (Error/Param): 0.716/0.609 - Val Acc (Error/Param): 0.595/0.556\n",
            "Epoch 125/130 - Train Loss: 1.7214, Val Loss: 2.1999 - Train Acc (Error/Param): 0.716/0.625 - Val Acc (Error/Param): 0.571/0.579\n",
            "Epoch 130/130 - Train Loss: 1.6923, Val Loss: 2.2277 - Train Acc (Error/Param): 0.724/0.629 - Val Acc (Error/Param): 0.595/0.563\n"
          ]
        }
      ]
    },
    {
      "cell_type": "markdown",
      "metadata": {
        "id": "ee53b112"
      },
      "source": [
        "### Final Evaluation and Reporting"
      ]
    },
    {
      "cell_type": "code",
      "metadata": {
        "id": "0e84af5c",
        "colab": {
          "base_uri": "https://localhost:8080/"
        },
        "outputId": "63b90ce7-94f2-4e35-e2c0-a2f20dede500"
      },
      "source": [
        "# Final evaluation\n",
        "print(f\"\\n\" + \"=\"*50)\n",
        "print(\"FINAL EVALUATION\")\n",
        "print(\"=\"*50)\n",
        "\n",
        "model.eval()\n",
        "all_pred_error = []\n",
        "all_pred_parameter = []\n",
        "all_true_error = []\n",
        "all_true_parameter = []\n",
        "\n",
        "with torch.no_grad():\n",
        "    '''\n",
        "    for X_batch, y_error_batch, y_parameter_batch in test_loader:\n",
        "        out_error, out_parameter = model(X_batch)\n",
        "        pred_error = out_error.argmax(dim=1)\n",
        "        pred_parameter = out_parameter.argmax(dim=1)\n",
        "\n",
        "        all_pred_error.extend(pred_error.cpu().numpy())\n",
        "        all_pred_parameter.extend(pred_parameter.cpu().numpy())\n",
        "        all_true_error.extend(y_error_batch.cpu().numpy())\n",
        "        all_true_parameter.extend(y_parameter_batch.cpu().numpy())\n",
        "    '''\n",
        "    for X1_batch, X2_batch, y_error_batch, y_parameter_batch in test_loader:\n",
        "        out_error, out_parameter = model(X1_batch, X2_batch)\n",
        "        pred_error = out_error.argmax(dim=1)\n",
        "        pred_parameter = out_parameter.argmax(dim=1)\n",
        "\n",
        "        all_pred_error.extend(pred_error.cpu().numpy())\n",
        "        all_pred_parameter.extend(pred_parameter.cpu().numpy())\n",
        "        all_true_error.extend(y_error_batch.cpu().numpy())\n",
        "        all_true_parameter.extend(y_parameter_batch.cpu().numpy())\n",
        "\n",
        "# Calculate final metrics\n",
        "from sklearn.metrics import accuracy_score, classification_report, confusion_matrix\n",
        "\n",
        "final_error_acc = accuracy_score(all_true_error, all_pred_error)\n",
        "final_parameter_acc = accuracy_score(all_true_parameter, all_pred_parameter)\n",
        "\n",
        "print(f\"Final Test Accuracy - Error Types: {final_error_acc:.4f}\")\n",
        "print(f\"Final Test Accuracy - Parameter Types: {final_parameter_acc:.4f}\")\n",
        "\n",
        "print(f\"\\nError Type Classification Report:\")\n",
        "print(classification_report(all_true_error, all_pred_error,\n",
        "                          target_names=le_error.classes_))\n",
        "\n",
        "print(f\"\\nParameter Type Classification Report:\")\n",
        "print(classification_report(all_true_parameter, all_pred_parameter,\n",
        "                          target_names=le_parameter.classes_))"
      ],
      "execution_count": 107,
      "outputs": [
        {
          "output_type": "stream",
          "name": "stdout",
          "text": [
            "\n",
            "==================================================\n",
            "FINAL EVALUATION\n",
            "==================================================\n",
            "Final Test Accuracy - Error Types: 0.5952\n",
            "Final Test Accuracy - Parameter Types: 0.5635\n",
            "\n",
            "Error Type Classification Report:\n",
            "              precision    recall  f1-score   support\n",
            "\n",
            "    Decenter       0.50      0.64      0.56        14\n",
            "         ETV       0.78      0.50      0.61        14\n",
            "      Irr s1       0.93      0.93      0.93        14\n",
            "      Irr s2       0.92      0.86      0.89        14\n",
            "   Radius s1       0.29      0.43      0.34        14\n",
            "   Radius s2       0.50      0.29      0.36        14\n",
            "   Thickness       0.47      0.57      0.52        14\n",
            "        Tilt       0.67      0.57      0.62        14\n",
            "  Z Position       0.57      0.57      0.57        14\n",
            "\n",
            "    accuracy                           0.60       126\n",
            "   macro avg       0.62      0.60      0.60       126\n",
            "weighted avg       0.62      0.60      0.60       126\n",
            "\n",
            "\n",
            "Parameter Type Classification Report:\n",
            "              precision    recall  f1-score   support\n",
            "\n",
            "          E1       0.75      0.67      0.71        18\n",
            "          E2       0.50      0.39      0.44        18\n",
            "          E3       0.55      0.61      0.58        18\n",
            "          E4       0.43      0.33      0.38        18\n",
            "          E5       0.47      0.44      0.46        18\n",
            "          E6       0.46      0.61      0.52        18\n",
            "          E7       0.76      0.89      0.82        18\n",
            "\n",
            "    accuracy                           0.56       126\n",
            "   macro avg       0.56      0.56      0.56       126\n",
            "weighted avg       0.56      0.56      0.56       126\n",
            "\n"
          ]
        }
      ]
    },
    {
      "cell_type": "markdown",
      "metadata": {
        "id": "5e4bd22b"
      },
      "source": [
        "### Plot Training Curves"
      ]
    },
    {
      "cell_type": "code",
      "metadata": {
        "id": "afb9cdd1",
        "colab": {
          "base_uri": "https://localhost:8080/",
          "height": 258
        },
        "outputId": "e245e4bf-c90f-44bc-dec0-3b35bad98549"
      },
      "source": [
        "# Plot training curves\n",
        "plt.figure(figsize=(15, 5))\n",
        "\n",
        "plt.subplot(1, 3, 1)\n",
        "plt.plot(train_losses, label='Train Loss')\n",
        "plt.plot(val_losses, label='Val Loss')\n",
        "plt.title('Training and Validation Loss')\n",
        "plt.xlabel('Epoch')\n",
        "plt.ylabel('Loss')\n",
        "plt.legend()\n",
        "\n",
        "plt.subplot(1, 3, 2)\n",
        "plt.plot(train_acc_error, label='Train Error Acc')\n",
        "plt.plot(val_acc_error, label='Val Error Acc')\n",
        "plt.title('Error Type Accuracy')\n",
        "plt.xlabel('Epoch')\n",
        "plt.ylabel('Accuracy')\n",
        "plt.legend()\n",
        "\n",
        "plt.subplot(1, 3, 3)\n",
        "plt.plot(train_acc_parameter, label='Train Parameter Acc')\n",
        "plt.plot(val_acc_parameter, label='Val Parameter Acc')\n",
        "plt.title('Parameter Type Accuracy')\n",
        "plt.xlabel('Epoch')\n",
        "plt.ylabel('Accuracy')\n",
        "plt.legend()\n",
        "\n",
        "plt.tight_layout()\n",
        "plt.savefig(f'{results_dir}/neural_network_training_curves.png', dpi=300, bbox_inches='tight')"
      ],
      "execution_count": 108,
      "outputs": [
        {
          "output_type": "display_data",
          "data": {
            "text/plain": [
              "<Figure size 1500x500 with 3 Axes>"
            ],
            "image/png": "[encoded data removed]"
          },
          "metadata": {}
        }
      ]
    },
    {
      "cell_type": "markdown",
      "metadata": {
        "id": "a9963921"
      },
      "source": [
        "### Save Trained Model"
      ]
    },
    {
      "cell_type": "code",
      "metadata": {
        "id": "06d00113",
        "colab": {
          "base_uri": "https://localhost:8080/"
        },
        "outputId": "34742db0-8f97-4a20-8041-84dee7b3b0f8"
      },
      "source": [
        "# Save the trained model\n",
        "torch.save({\n",
        "    'model_state_dict': model.state_dict(),\n",
        "    'optimizer_state_dict': optimizer.state_dict(),\n",
        "    'input_dim_X1': INPUT_DIM_X1,\n",
        "    'input_dim_X2': INPUT_DIM_X2,\n",
        "    '''\n",
        "    'input_dim': INPUT_DIM,\n",
        "    '''\n",
        "    'num_error_types': NUM_ERROR_TYPES,\n",
        "    'num_error_elements': NUM_ERROR_ELEMENTS,\n",
        "    'final_error_acc': final_error_acc,\n",
        "    'final_parameter_acc': final_parameter_acc\n",
        "}, f'{results_dir}/optical_classifier.pth')\n",
        "\n",
        "print(f\"\\nModel saved to '{results_dir}/optical_classifier.pth'\")\n",
        "print(f\"Training complete!\")"
      ],
      "execution_count": 109,
      "outputs": [
        {
          "output_type": "stream",
          "name": "stdout",
          "text": [
            "\n",
            "Model saved to 'eda/plots/neural_network_results_20251015_012814/optical_classifier.pth'\n",
            "Training complete!\n"
          ]
        }
      ]
    },
    {
      "cell_type": "markdown",
      "metadata": {
        "id": "4ec85cdf"
      },
      "source": [
        "### Create and Save Summary Report"
      ]
    },
    {
      "cell_type": "code",
      "metadata": {
        "id": "9c9295fc",
        "colab": {
          "base_uri": "https://localhost:8080/"
        },
        "outputId": "7d0d69fc-8b94-421e-b2d3-d94b6bd497f7"
      },
      "source": [
        "# Create summary report\n",
        "summary_report = f\"\"\"\n",
        "NEURAL NETWORK TRAINING SUMMARY\n",
        "================================\n",
        "Timestamp: {datetime.now().strftime(\"%Y-%m-%d %H:%M:%S\")}\n",
        "Results Directory: {results_dir}\n",
        "\n",
        "DATA PREPARATION\n",
        "----------------\n",
        "Dataset shape after removing Nominal: {len(df)} samples\n",
        "Training set size: {len(df_train)} samples\n",
        "Test set size: {len(df_test)} samples\n",
        "Number of error types: {NUM_ERROR_TYPES}\n",
        "Number of parameter types: {NUM_ERROR_ELEMENTS}\n",
        "Input features X1: {feature_columns1}\n",
        "Input features X2: {feature_columns2}\n",
        "\n",
        "\n",
        "MODEL ARCHITECTURE\n",
        "------------------\n",
        "Input dimension X1: {INPUT_DIM_X1}\n",
        "Input dimension X2: {INPUT_DIM_X2}\n",
        "Hidden layers: 128 -> 64 (with dropout 0.3)\n",
        "Error type output: {NUM_ERROR_TYPES} classes\n",
        "Parameter type output: {NUM_ERROR_ELEMENTS} classes\n",
        "Total parameters: {sum(p.numel() for p in model.parameters())}\n",
        "\n",
        "TRAINING CONFIGURATION\n",
        "---------------------\n",
        "Epochs: {config['epochs']}\n",
        "Learning rate: {config['learning_rate']}\n",
        "Weight decay: {config['weight_decay']}\n",
        "Optimizer: {config['optimizer']}\n",
        "Loss function: {config['loss_function']}\n",
        "Batch size: {config['batch_size']}\n",
        "Parameter loss weight: {config['parameter_loss_weight']}\n",
        "Model: {config['model']}\n",
        "Test selection: {config['test_selection']}\n",
        "Ignore E8/E9: {config['ignore_e8_e9']}\n",
        "Remove small errors: {config['remove_small_errors']}\n",
        "Zooms: {config['zooms']}\n",
        "\n",
        "FINAL RESULTS\n",
        "-------------\n",
        "Error Type Classification Accuracy: {final_error_acc:.4f} ({final_error_acc*100:.2f}%)\n",
        "Parameter Type Classification Accuracy: {final_parameter_acc:.4f} ({final_parameter_acc*100:.2f}%)\n",
        "\n",
        "ERROR TYPE PERFORMANCE\n",
        "---------------------\n",
        "\"\"\"\n",
        "# Append classification report for error types\n",
        "from sklearn.metrics import classification_report\n",
        "error_report = classification_report(all_true_error, all_pred_error, target_names=le_error.classes_)\n",
        "summary_report += error_report\n",
        "\n",
        "summary_report += f\"\"\"\n",
        "PARAMETER TYPE PERFORMANCE\n",
        "-------------------------\n",
        "\"\"\"\n",
        "# Append classification report for parameter types\n",
        "parameter_report = classification_report(all_true_parameter, all_pred_parameter, target_names=le_parameter.classes_)\n",
        "summary_report += parameter_report\n",
        "\n",
        "\n",
        "summary_report += f\"\"\"\n",
        "FILES SAVED\n",
        "-----------\n",
        "- Model checkpoint: {results_dir}/optical_classifier.pth\n",
        "- Encoders and scaler: {results_dir}/encoders_and_scaler.pkl\n",
        "- Configuration: {results_dir}/config.json\n",
        "- Training curves: {results_dir}/neural_network_training_curves.png\n",
        "- Error confusion matrix: {results_dir}/neural_network_error_confusion_matrix.png\n",
        "- Parameter confusion matrix: {results_dir}/neural_network_parameter_confusion_matrix.png\n",
        "- Sorted parameter confusion matrix: {results_dir}/neural_network_parameter_confusion_matrix_sorted.png\n",
        "- Summary report: {results_dir}/training_summary.txt\n",
        "\n",
        "NOTES\n",
        "-----\n",
        "- Error type classification performs better than parameter type classification\n",
        "- Model shows learning progression over {config['epochs']} epochs\n",
        "- Weight decay helps prevent overfitting\n",
        "- Parameter loss weight: {config['parameter_loss_weight']}\n",
        "- Test selection strategy: {config['test_selection']}\n",
        "\"\"\"\n",
        "\n",
        "# Save summary report\n",
        "with open(f'{results_dir}/training_summary.txt', 'w') as f:\n",
        "    f.write(summary_report)\n",
        "\n",
        "print(f\"\\nSummary report saved to '{results_dir}/training_summary.txt'\")\n",
        "print(summary_report)"
      ],
      "execution_count": 110,
      "outputs": [
        {
          "output_type": "stream",
          "name": "stdout",
          "text": [
            "\n",
            "Summary report saved to 'eda/plots/neural_network_results_20251015_012814/training_summary.txt'\n",
            "\n",
            "NEURAL NETWORK TRAINING SUMMARY\n",
            "================================\n",
            "Timestamp: 2025-10-15 01:28:22\n",
            "Results Directory: eda/plots/neural_network_results_20251015_012814\n",
            "\n",
            "DATA PREPARATION\n",
            "----------------\n",
            "Dataset shape after removing Nominal: 630 samples\n",
            "Training set size: 504 samples\n",
            "Test set size: 126 samples\n",
            "Number of error types: 9\n",
            "Number of parameter types: 7\n",
            "Input features X1: ['c2', 'c3', 'c4', 'c5', 'c6', 'c7', 'c8', 'c9', 'c10', 'c11', 'c12', 'c13', 'c14', 'c15', 'c16', 'c17', 'c18', 'c19', 'c20', 'c21', 'c22', 'c23', 'c24', 'c25', 'c26', 'c27', 'c28', 'c29', 'c30', 'c31', 'c32', 'c33', 'c34', 'c35', 'c36', 'c37']\n",
            "Input features X2: ['MTF poly - On axis - S', 'MTF poly - On axis - T', 'MTF']\n",
            "\n",
            "\n",
            "MODEL ARCHITECTURE\n",
            "------------------\n",
            "Input dimension X1: 36\n",
            "Input dimension X2: 3\n",
            "Hidden layers: 128 -> 64 (with dropout 0.3)\n",
            "Error type output: 9 classes\n",
            "Parameter type output: 7 classes\n",
            "Total parameters: 2436\n",
            "\n",
            "TRAINING CONFIGURATION\n",
            "---------------------\n",
            "Epochs: 130\n",
            "Learning rate: 0.001\n",
            "Weight decay: 0.0001\n",
            "Optimizer: Adam\n",
            "Loss function: CrossEntropyLoss\n",
            "Batch size: 32\n",
            "Parameter loss weight: 1\n",
            "Model: TwoStageClassifier\n",
            "Test selection: 2nd_from_top_and_bottom\n",
            "Ignore E8/E9: True\n",
            "Remove small errors: True\n",
            "Zooms: ['z2']\n",
            "\n",
            "FINAL RESULTS\n",
            "-------------\n",
            "Error Type Classification Accuracy: 0.5952 (59.52%)\n",
            "Parameter Type Classification Accuracy: 0.5635 (56.35%)\n",
            "\n",
            "ERROR TYPE PERFORMANCE\n",
            "---------------------\n",
            "              precision    recall  f1-score   support\n",
            "\n",
            "    Decenter       0.50      0.64      0.56        14\n",
            "         ETV       0.78      0.50      0.61        14\n",
            "      Irr s1       0.93      0.93      0.93        14\n",
            "      Irr s2       0.92      0.86      0.89        14\n",
            "   Radius s1       0.29      0.43      0.34        14\n",
            "   Radius s2       0.50      0.29      0.36        14\n",
            "   Thickness       0.47      0.57      0.52        14\n",
            "        Tilt       0.67      0.57      0.62        14\n",
            "  Z Position       0.57      0.57      0.57        14\n",
            "\n",
            "    accuracy                           0.60       126\n",
            "   macro avg       0.62      0.60      0.60       126\n",
            "weighted avg       0.62      0.60      0.60       126\n",
            "\n",
            "PARAMETER TYPE PERFORMANCE\n",
            "-------------------------\n",
            "              precision    recall  f1-score   support\n",
            "\n",
            "          E1       0.75      0.67      0.71        18\n",
            "          E2       0.50      0.39      0.44        18\n",
            "          E3       0.55      0.61      0.58        18\n",
            "          E4       0.43      0.33      0.38        18\n",
            "          E5       0.47      0.44      0.46        18\n",
            "          E6       0.46      0.61      0.52        18\n",
            "          E7       0.76      0.89      0.82        18\n",
            "\n",
            "    accuracy                           0.56       126\n",
            "   macro avg       0.56      0.56      0.56       126\n",
            "weighted avg       0.56      0.56      0.56       126\n",
            "\n",
            "FILES SAVED\n",
            "-----------\n",
            "- Model checkpoint: eda/plots/neural_network_results_20251015_012814/optical_classifier.pth\n",
            "- Encoders and scaler: eda/plots/neural_network_results_20251015_012814/encoders_and_scaler.pkl\n",
            "- Configuration: eda/plots/neural_network_results_20251015_012814/config.json\n",
            "- Training curves: eda/plots/neural_network_results_20251015_012814/neural_network_training_curves.png\n",
            "- Error confusion matrix: eda/plots/neural_network_results_20251015_012814/neural_network_error_confusion_matrix.png\n",
            "- Parameter confusion matrix: eda/plots/neural_network_results_20251015_012814/neural_network_parameter_confusion_matrix.png\n",
            "- Sorted parameter confusion matrix: eda/plots/neural_network_results_20251015_012814/neural_network_parameter_confusion_matrix_sorted.png\n",
            "- Summary report: eda/plots/neural_network_results_20251015_012814/training_summary.txt\n",
            "\n",
            "NOTES\n",
            "-----\n",
            "- Error type classification performs better than parameter type classification\n",
            "- Model shows learning progression over 130 epochs\n",
            "- Weight decay helps prevent overfitting\n",
            "- Parameter loss weight: 1\n",
            "- Test selection strategy: 2nd_from_top_and_bottom\n",
            "\n"
          ]
        }
      ]
    },
    {
      "cell_type": "markdown",
      "metadata": {
        "id": "fe8945d8"
      },
      "source": [
        "### Plot Confusion Matrices"
      ]
    },
    {
      "cell_type": "code",
      "metadata": {
        "id": "5367b073",
        "colab": {
          "base_uri": "https://localhost:8080/",
          "height": 1000
        },
        "outputId": "c3800833-6919-47e6-d65e-86a31ebd6807"
      },
      "source": [
        "# Plot confusion matrices for both error types and parameter types\n",
        "print(f\"\\n\" + \"=\"*50)\n",
        "print(\"CONFUSION MATRICES\")\n",
        "print(\"=\"*50)\n",
        "\n",
        "# Error Type Confusion Matrix\n",
        "plt.figure(figsize=(15, 12))\n",
        "cm_error = confusion_matrix(all_true_error, all_pred_error)\n",
        "\n",
        "# Create the confusion matrix plot with class names\n",
        "plt.imshow(cm_error, cmap='Blues', interpolation='nearest')\n",
        "plt.colorbar()\n",
        "\n",
        "# Set ticks and labels\n",
        "plt.xticks(range(len(le_error.classes_)), le_error.classes_, rotation=90, fontsize=8)\n",
        "plt.yticks(range(len(le_error.classes_)), le_error.classes_, fontsize=8)\n",
        "\n",
        "plt.title('Neural Network - Error Type Confusion Matrix', fontsize=14)\n",
        "plt.xlabel('Predicted Error Type', fontsize=12)\n",
        "plt.ylabel('Actual Error Type', fontsize=12)\n",
        "\n",
        "# Add text annotations to the confusion matrix\n",
        "for i in range(len(le_error.classes_)):\n",
        "    for j in range(len(le_error.classes_)):\n",
        "        plt.text(j, i, str(cm_error[i, j]), ha='center', va='center', fontsize=6)\n",
        "\n",
        "plt.tight_layout()\n",
        "plt.savefig(f\"{results_dir}/neural_network_error_confusion_matrix.png\", dpi=300, bbox_inches='tight')\n",
        "\n",
        "# Parameter Type Confusion Matrix\n",
        "plt.figure(figsize=(12, 10))\n",
        "cm_parameter = confusion_matrix(all_true_parameter, all_pred_parameter)\n",
        "\n",
        "# Create the confusion matrix plot with class names\n",
        "plt.imshow(cm_parameter, cmap='Blues', interpolation='nearest')\n",
        "plt.colorbar()\n",
        "\n",
        "# Set ticks and labels\n",
        "plt.xticks(range(len(le_parameter.classes_)), le_parameter.classes_, rotation=90, fontsize=8)\n",
        "plt.yticks(range(len(le_parameter.classes_)), le_parameter.classes_, fontsize=8)\n",
        "\n",
        "plt.title('Neural Network - Parameter Type Confusion Matrix', fontsize=14)\n",
        "plt.xlabel('Predicted Parameter Type', fontsize=12)\n",
        "plt.ylabel('Actual Parameter Type', fontsize=12)\n",
        "\n",
        "# Add text annotations to the confusion matrix\n",
        "for i in range(len(le_parameter.classes_)):\n",
        "    for j in range(len(le_parameter.classes_)):\n",
        "        plt.text(j, i, str(cm_parameter[i, j]), ha='center', va='center', fontsize=6)\n",
        "\n",
        "# Add red lines to separate different parameter groups (E1-E9, G1)\n",
        "plt.axvline(x=8.5, color='red', linewidth=2, alpha=0.7)  # After E9, before G1\n",
        "plt.axhline(y=8.5, color='red', linewidth=2, alpha=0.7)  # After E9, before G1\n",
        "\n",
        "plt.tight_layout()\n",
        "plt.savefig(f\"{results_dir}/neural_network_parameter_confusion_matrix.png\", dpi=300, bbox_inches='tight')\n",
        "\n",
        "# Create sorted confusion matrix for parameter types (E1, E2, ..., E9, G1)\n",
        "print(f\"\\n\" + \"=\"*50)\n",
        "print(\"NEURAL NETWORK PARAMETER CONFUSION MATRIX - SORTED BY SUFFIX\")\n",
        "print(\"=\"*50)\n",
        "\n",
        "def extract_suffix(name):\n",
        "    \"\"\"Extract suffix from parameter name (E1, E2, ..., E9, G1)\"\"\"\n",
        "    return name  # Parameter names are already just the suffix\n",
        "\n",
        "def get_suffix_order(name):\n",
        "    \"\"\"Get numerical order for suffix sorting\"\"\"\n",
        "    if name.startswith('E'):\n",
        "        try:\n",
        "            return int(name[1:])  # E1 -> 1, E2 -> 2, etc.\n",
        "        except:\n",
        "            return 999  # For any E suffix that's not a number\n",
        "    elif name == 'G1':\n",
        "        return 10  # G1 comes after E9\n",
        "    else:\n",
        "        return 1000  # Any other suffix\n",
        "\n",
        "# Sort parameter class names by suffix\n",
        "sorted_indices = sorted(range(len(le_parameter.classes_)),\n",
        "                       key=lambda i: get_suffix_order(le_parameter.classes_[i]))\n",
        "sorted_parameter_names = [le_parameter.classes_[i] for i in sorted_indices]\n",
        "\n",
        "# Reorder confusion matrix\n",
        "cm_parameter_sorted = cm_parameter[sorted_indices][:, sorted_indices]\n",
        "\n",
        "# Create the sorted confusion matrix plot\n",
        "plt.figure(figsize=(12, 10))\n",
        "plt.imshow(cm_parameter_sorted, cmap='Blues', interpolation='nearest')\n",
        "plt.colorbar()\n",
        "\n",
        "# Set ticks and labels\n",
        "plt.xticks(range(len(sorted_parameter_names)), sorted_parameter_names, rotation=90, fontsize=8)\n",
        "plt.yticks(range(len(sorted_parameter_names)), sorted_parameter_names, fontsize=8)\n",
        "\n",
        "plt.title('Neural Network - Parameter Confusion Matrix (E1, E2, ..., E9, G1)', fontsize=14)\n",
        "plt.xlabel('Predicted Parameter', fontsize=12)\n",
        "plt.ylabel('Actual Parameter', fontsize=12)\n",
        "\n",
        "# Add text annotations to the confusion matrix\n",
        "for i in range(len(sorted_parameter_names)):\n",
        "    for j in range(len(sorted_parameter_names)):\n",
        "        plt.text(j, i, str(cm_parameter_sorted[i, j]), ha='center', va='center', fontsize=6)\n",
        "\n",
        "# Add red lines to separate different suffixes\n",
        "current_suffix = None\n",
        "for i, name in enumerate(sorted_parameter_names):\n",
        "    suffix = extract_suffix(name)\n",
        "    if suffix != current_suffix:\n",
        "        if i > 0:  # Don't add line at the very beginning\n",
        "            plt.axvline(x=i - 0.5, color='red', linewidth=2, alpha=0.7)\n",
        "            plt.axhline(y=i - 0.5, color='red', linewidth=2, alpha=0.7)\n",
        "        current_suffix = suffix\n",
        "\n",
        "plt.tight_layout()\n",
        "plt.savefig(f\"{results_dir}/neural_network_parameter_confusion_matrix_sorted.png\", dpi=300, bbox_inches='tight')\n",
        "\n",
        "\n",
        "print(f\"\\nConfusion matrices saved:\")\n",
        "print(f\"- Error types: {results_dir}/neural_network_error_confusion_matrix.png\")\n",
        "print(f\"- Parameter types: {results_dir}/neural_network_parameter_confusion_matrix.png\")\n",
        "print(f\"- Parameter types (sorted): {results_dir}/neural_network_parameter_confusion_matrix_sorted.png\")\n",
        "\n",
        "print(f\"\\nAll results saved to: {results_dir}\")\n",
        "print(f\"Summary report: {results_dir}/training_summary.txt\")"
      ],
      "execution_count": 111,
      "outputs": [
        {
          "output_type": "stream",
          "name": "stdout",
          "text": [
            "\n",
            "==================================================\n",
            "CONFUSION MATRICES\n",
            "==================================================\n",
            "\n",
            "==================================================\n",
            "NEURAL NETWORK PARAMETER CONFUSION MATRIX - SORTED BY SUFFIX\n",
            "==================================================\n",
            "\n",
            "Confusion matrices saved:\n",
            "- Error types: eda/plots/neural_network_results_20251015_012814/neural_network_error_confusion_matrix.png\n",
            "- Parameter types: eda/plots/neural_network_results_20251015_012814/neural_network_parameter_confusion_matrix.png\n",
            "- Parameter types (sorted): eda/plots/neural_network_results_20251015_012814/neural_network_parameter_confusion_matrix_sorted.png\n",
            "\n",
            "All results saved to: eda/plots/neural_network_results_20251015_012814\n",
            "Summary report: eda/plots/neural_network_results_20251015_012814/training_summary.txt\n"
          ]
        },
        {
          "output_type": "display_data",
          "data": {
            "text/plain": [
              "<Figure size 1500x1200 with 2 Axes>"
            ],
            "image/png": "[encoded data removed]"
          },
          "metadata": {}
        },
        {
          "output_type": "display_data",
          "data": {
            "text/plain": [
              "<Figure size 1200x1000 with 2 Axes>"
            ],
            "image/png": "[encoded data removed]"
          },
          "metadata": {}
        },
        {
          "output_type": "display_data",
          "data": {
            "text/plain": [
              "<Figure size 1200x1000 with 2 Axes>"
            ],
            "image/png": "[encoded data removed]"
          },
          "metadata": {}
        }
      ]
    },
    {
      "cell_type": "code",
      "source": [],
      "metadata": {
        "id": "ESJaG5IXesOe"
      },
      "execution_count": 111,
      "outputs": []
    },
    {
      "cell_type": "code",
      "metadata": {
        "colab": {
          "base_uri": "https://localhost:8080/"
        },
        "id": "57cf6238",
        "outputId": "de24e4a6-e648-4e2b-f6b5-293669573c32"
      },
      "source": [
        "import shutil\n",
        "import os\n",
        "\n",
        "folder_to_zip = 'eda'\n",
        "zip_filename = 'eda.zip'\n",
        "\n",
        "if os.path.exists(folder_to_zip):\n",
        "    shutil.make_archive(zip_filename.replace('.zip', ''), 'zip', folder_to_zip)\n",
        "    print(f\"Folder '{folder_to_zip}' successfully zipped to '{zip_filename}'\")\n",
        "else:\n",
        "    print(f\"Error: Folder '{folder_to_zip}' not found.\")"
      ],
      "execution_count": 112,
      "outputs": [
        {
          "output_type": "stream",
          "name": "stdout",
          "text": [
            "Folder 'eda' successfully zipped to 'eda.zip'\n"
          ]
        }
      ]
    },
    {
      "cell_type": "code",
      "metadata": {
        "colab": {
          "base_uri": "https://localhost:8080/",
          "height": 35
        },
        "id": "f1a44919",
        "outputId": "85688512-1527-437a-abdc-1ff4449bb57c"
      },
      "source": [
        "'''\n",
        "!rm -r eda\n",
        "print(\"The 'eda' folder has been deleted.\")\n",
        "'''"
      ],
      "execution_count": 113,
      "outputs": [
        {
          "output_type": "execute_result",
          "data": {
            "text/plain": [
              "'\\n!rm -r eda\\nprint(\"The \\'eda\\' folder has been deleted.\")\\n'"
            ],
            "application/vnd.google.colaboratory.intrinsic+json": {
              "type": "string"
            }
          },
          "metadata": {},
          "execution_count": 113
        }
      ]
    }
  ]
}