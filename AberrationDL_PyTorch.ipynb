{
  "nbformat": 4,
  "nbformat_minor": 0,
  "metadata": {
    "colab": {
      "provenance": []
    },
    "kernelspec": {
      "name": "python3",
      "display_name": "Python 3"
    },
    "language_info": {
      "name": "python"
    }
  },
  "cells": [
    {
      "cell_type": "code",
      "source": [
        "import shutil\n",
        "import os\n",
        "\n",
        "# Delete the 'eda' folder if it exists\n",
        "if os.path.exists('eda'):\n",
        "    shutil.rmtree('eda')\n",
        "    print(\"Deleted existing 'eda' folder.\")"
      ],
      "metadata": {
        "colab": {
          "base_uri": "https://localhost:8080/"
        },
        "id": "KRiq4v7wp1G7",
        "outputId": "2f73d91e-c393-4a7e-a7d8-353241429dfe"
      },
      "execution_count": 171,
      "outputs": [
        {
          "output_type": "stream",
          "name": "stdout",
          "text": [
            "Deleted existing 'eda' folder.\n"
          ]
        }
      ]
    },
    {
      "cell_type": "code",
      "source": [
        "import json\n",
        "import pandas as pd\n",
        "import numpy as np\n",
        "import matplotlib.pyplot as plt\n",
        "from sklearn.preprocessing import LabelEncoder, StandardScaler\n",
        "from sklearn.model_selection import train_test_split\n",
        "import torch\n",
        "from torch.utils.data import Dataset, DataLoader\n",
        "import re\n",
        "import os\n",
        "from datetime import datetime"
      ],
      "metadata": {
        "id": "Gb5CCfw88VlN"
      },
      "execution_count": 172,
      "outputs": []
    },
    {
      "cell_type": "code",
      "source": [
        "config = {\n",
        "    \"batch_size\": 32,\n",
        "    \"epochs\": 100,\n",
        "    \"learning_rate\": 1e-3,\n",
        "    \"weight_decay\": 1e-4,\n",
        "    \"optimizer\": \"Adam\",\n",
        "    \"loss_function\": \"CrossEntropyLoss\",\n",
        "    \"test_selection\": \"2nd_from_top_and_bottom\",  # \"random\" or \"2nd_from_top_and_bottom\"\n",
        "    # \"test_selection\": \"random\",  # \"random\" or \"2nd_from_top_and_bottom\"\n",
        "    \"ignore_e8_e9\": True,\n",
        "    \"remove_small_errors\": True,\n",
        "    \"zooms\": ['z2'], # ['z1'] or ['z2'] or ['z1', 'z2']\n",
        "    \"model_\": \"MultiOutputClassifier\",\n",
        "    \"model\": \"TwoStageClassifier\",\n",
        "    \"parameter_loss_weight\": 1.0  # Weight for parameter loss in combined loss\n",
        "}"
      ],
      "metadata": {
        "id": "phEtii3W8SYz"
      },
      "execution_count": 173,
      "outputs": []
    },
    {
      "cell_type": "markdown",
      "metadata": {
        "id": "df2ffc8c"
      },
      "source": [
        "### Load Data and Initial Processing"
      ]
    },
    {
      "cell_type": "code",
      "source": [
        "# Load the CSV data\n",
        "print(\"Loading CSV data...\")\n",
        "df = pd.read_excel(\"/content/Lab_Sensitivity_results 680204 (15)_ver C_twoZooms_20250908.xlsx\", sheet_name='Sheet1')\n",
        "\n",
        "# Remove \"Nominal\" rows\n",
        "df = df[df[\"name\"] != \"Nominal\"]"
      ],
      "metadata": {
        "colab": {
          "base_uri": "https://localhost:8080/"
        },
        "id": "z_-4mJcD-YWA",
        "outputId": "a60ac824-e469-4902-9384-9071c3da19da"
      },
      "execution_count": 174,
      "outputs": [
        {
          "output_type": "stream",
          "name": "stdout",
          "text": [
            "Loading CSV data...\n"
          ]
        }
      ]
    },
    {
      "cell_type": "code",
      "metadata": {
        "id": "d46bc68a",
        "colab": {
          "base_uri": "https://localhost:8080/",
          "height": 738
        },
        "outputId": "6bad9107-7822-495b-ec1e-a9da11bfc558"
      },
      "source": [
        "# Split the name into error_name and parameter_name\n",
        "def split_parameter_name(name):\n",
        "    \"\"\"Split parameter name into error type and element\"\"\"\n",
        "    # Find the last part that matches E followed by number or G followed by number\n",
        "    match = re.search(r'(E\\d+|G\\d+)$', name)\n",
        "    if match:\n",
        "        parameter_name = match.group(1)\n",
        "        error_name = name.replace(parameter_name, '').strip()\n",
        "        return error_name, parameter_name\n",
        "    else:\n",
        "        # If no match, return the whole name as error_name and empty parameter_name\n",
        "        return name, \"\"\n",
        "\n",
        "# Apply the split\n",
        "df[['error_name', 'parameter_name']] = df['name'].apply(\n",
        "    lambda x: pd.Series(split_parameter_name(x))\n",
        ")\n",
        "\n",
        "# keep only the rows with the specified zooms\n",
        "df = df[df[\"efl\"].isin(config[\"zooms\"])]\n",
        "display(df)\n",
        "print(\"\\nUnique error names:\")\n",
        "print(df['error_name'].unique())\n",
        "print(f\"\\nUnique parameter names:\")\n",
        "print(df['parameter_name'].unique())"
      ],
      "execution_count": 175,
      "outputs": [
        {
          "output_type": "display_data",
          "data": {
            "text/plain": [
              "              name    error  freq efl            c2            c3        c4  \\\n",
              "3     Radius s1 E1 -0.01000    25  z2 -7.831192e-14 -7.895894e-16 -0.009331   \n",
              "5     Radius s1 E1 -0.00750    25  z2 -2.177818e-13 -2.390434e-13 -0.009277   \n",
              "7     Radius s1 E1 -0.00500    25  z2 -4.165981e-13 -4.296608e-13 -0.009223   \n",
              "9     Radius s1 E1 -0.00250    25  z2  3.653297e-13  3.559784e-13 -0.009169   \n",
              "11    Radius s1 E1 -0.00100    25  z2 -1.365693e-13 -7.950521e-14 -0.009136   \n",
              "...            ...      ...   ...  ..           ...           ...       ...   \n",
              "1253       Tilt E7  0.00025    25  z2 -9.851568e-14 -3.878940e-03 -0.009190   \n",
              "1255       Tilt E7  0.00050    25  z2 -4.319758e-14 -7.757890e-03 -0.009193   \n",
              "1257       Tilt E7  0.00100    25  z2  1.621218e-13 -1.551580e-02 -0.009204   \n",
              "1259       Tilt E7  0.00200    25  z2 -5.352416e-14 -3.103160e-02 -0.009250   \n",
              "1261       Tilt E7  0.00500    25  z2  5.509097e-14 -7.757960e-02 -0.009569   \n",
              "\n",
              "                c5            c6            c7  ...           c31  \\\n",
              "3     3.891984e-14 -2.691255e-13 -5.131977e-14  ... -1.601313e-13   \n",
              "5     5.243379e-14 -2.550493e-13 -9.483065e-14  ... -2.570473e-13   \n",
              "7     3.385654e-14 -8.975590e-14 -1.774126e-13  ...  5.140993e-13   \n",
              "9    -3.282457e-14  3.130311e-15  3.854093e-13  ... -2.289406e-13   \n",
              "11   -7.328153e-14 -1.429621e-14 -2.876918e-13  ...  6.978208e-14   \n",
              "...            ...           ...           ...  ...           ...   \n",
              "1253 -2.926732e-07 -4.702435e-13 -1.008709e-13  ... -4.703836e-10   \n",
              "1255 -1.000000e-06 -2.679859e-13  3.066146e-13  ... -9.446702e-10   \n",
              "1257 -5.000000e-06 -2.272667e-13 -3.453454e-14  ... -2.006766e-09   \n",
              "1259 -1.900000e-05  2.302112e-13  2.730206e-13  ... -5.612721e-09   \n",
              "1261 -1.170680e-04 -1.848385e-14  2.313124e-14  ... -2.239818e-08   \n",
              "\n",
              "               c32           c33           c34           c35       c36  \\\n",
              "3     3.335577e-14  1.354420e-13 -1.806633e-13 -5.364807e-14 -0.000084   \n",
              "5    -1.843717e-14 -1.762823e-13 -4.886340e-14  1.080607e-13 -0.000084   \n",
              "7     3.827574e-14 -3.599705e-13 -9.738805e-14 -7.610032e-14 -0.000084   \n",
              "9    -3.535281e-14  3.459461e-13  1.245720e-13  7.670740e-14 -0.000085   \n",
              "11    8.631412e-14  1.172750e-13  4.865138e-13  4.549173e-13 -0.000085   \n",
              "...            ...           ...           ...           ...       ...   \n",
              "1253 -3.341847e-10  3.735317e-13 -2.175979e-13 -8.106875e-08 -0.000085   \n",
              "1255 -1.313693e-09  1.421455e-13 -2.338160e-13 -1.621256e-07 -0.000085   \n",
              "1257 -5.234852e-09  4.334685e-13 -3.335399e-13 -3.242979e-07 -0.000085   \n",
              "1259 -1.612527e-08  2.661504e-13  4.359775e-13 -1.000000e-06 -0.000085   \n",
              "1261 -9.191156e-08  3.402915e-13  3.603704e-13 -2.000000e-06 -0.000085   \n",
              "\n",
              "           c37       MTF  error_name  parameter_name  \n",
              "3     0.000004  0.425583   Radius s1              E1  \n",
              "5     0.000004  0.425577   Radius s1              E1  \n",
              "7     0.000004  0.425571   Radius s1              E1  \n",
              "9     0.000004  0.425565   Radius s1              E1  \n",
              "11    0.000004  0.425561   Radius s1              E1  \n",
              "...        ...       ...         ...             ...  \n",
              "1253  0.000004  0.425532        Tilt              E7  \n",
              "1255  0.000004  0.425501        Tilt              E7  \n",
              "1257  0.000004  0.425374        Tilt              E7  \n",
              "1259  0.000004  0.424869        Tilt              E7  \n",
              "1261  0.000004  0.421344        Tilt              E7  \n",
              "\n",
              "[630 rows x 43 columns]"
            ],
            "text/html": [
              "\n",
              "  <div id=\"df-02f4dedd-1703-41e9-afa0-2a609e39f282\" class=\"colab-df-container\">\n",
              "    <div>\n",
              "<style scoped>\n",
              "    .dataframe tbody tr th:only-of-type {\n",
              "        vertical-align: middle;\n",
              "    }\n",
              "\n",
              "    .dataframe tbody tr th {\n",
              "        vertical-align: top;\n",
              "    }\n",
              "\n",
              "    .dataframe thead th {\n",
              "        text-align: right;\n",
              "    }\n",
              "</style>\n",
              "<table border=\"1\" class=\"dataframe\">\n",
              "  <thead>\n",
              "    <tr style=\"text-align: right;\">\n",
              "      <th></th>\n",
              "      <th>name</th>\n",
              "      <th>error</th>\n",
              "      <th>freq</th>\n",
              "      <th>efl</th>\n",
              "      <th>c2</th>\n",
              "      <th>c3</th>\n",
              "      <th>c4</th>\n",
              "      <th>c5</th>\n",
              "      <th>c6</th>\n",
              "      <th>c7</th>\n",
              "      <th>...</th>\n",
              "      <th>c31</th>\n",
              "      <th>c32</th>\n",
              "      <th>c33</th>\n",
              "      <th>c34</th>\n",
              "      <th>c35</th>\n",
              "      <th>c36</th>\n",
              "      <th>c37</th>\n",
              "      <th>MTF</th>\n",
              "      <th>error_name</th>\n",
              "      <th>parameter_name</th>\n",
              "    </tr>\n",
              "  </thead>\n",
              "  <tbody>\n",
              "    <tr>\n",
              "      <th>3</th>\n",
              "      <td>Radius s1 E1</td>\n",
              "      <td>-0.01000</td>\n",
              "      <td>25</td>\n",
              "      <td>z2</td>\n",
              "      <td>-7.831192e-14</td>\n",
              "      <td>-7.895894e-16</td>\n",
              "      <td>-0.009331</td>\n",
              "      <td>3.891984e-14</td>\n",
              "      <td>-2.691255e-13</td>\n",
              "      <td>-5.131977e-14</td>\n",
              "      <td>...</td>\n",
              "      <td>-1.601313e-13</td>\n",
              "      <td>3.335577e-14</td>\n",
              "      <td>1.354420e-13</td>\n",
              "      <td>-1.806633e-13</td>\n",
              "      <td>-5.364807e-14</td>\n",
              "      <td>-0.000084</td>\n",
              "      <td>0.000004</td>\n",
              "      <td>0.425583</td>\n",
              "      <td>Radius s1</td>\n",
              "      <td>E1</td>\n",
              "    </tr>\n",
              "    <tr>\n",
              "      <th>5</th>\n",
              "      <td>Radius s1 E1</td>\n",
              "      <td>-0.00750</td>\n",
              "      <td>25</td>\n",
              "      <td>z2</td>\n",
              "      <td>-2.177818e-13</td>\n",
              "      <td>-2.390434e-13</td>\n",
              "      <td>-0.009277</td>\n",
              "      <td>5.243379e-14</td>\n",
              "      <td>-2.550493e-13</td>\n",
              "      <td>-9.483065e-14</td>\n",
              "      <td>...</td>\n",
              "      <td>-2.570473e-13</td>\n",
              "      <td>-1.843717e-14</td>\n",
              "      <td>-1.762823e-13</td>\n",
              "      <td>-4.886340e-14</td>\n",
              "      <td>1.080607e-13</td>\n",
              "      <td>-0.000084</td>\n",
              "      <td>0.000004</td>\n",
              "      <td>0.425577</td>\n",
              "      <td>Radius s1</td>\n",
              "      <td>E1</td>\n",
              "    </tr>\n",
              "    <tr>\n",
              "      <th>7</th>\n",
              "      <td>Radius s1 E1</td>\n",
              "      <td>-0.00500</td>\n",
              "      <td>25</td>\n",
              "      <td>z2</td>\n",
              "      <td>-4.165981e-13</td>\n",
              "      <td>-4.296608e-13</td>\n",
              "      <td>-0.009223</td>\n",
              "      <td>3.385654e-14</td>\n",
              "      <td>-8.975590e-14</td>\n",
              "      <td>-1.774126e-13</td>\n",
              "      <td>...</td>\n",
              "      <td>5.140993e-13</td>\n",
              "      <td>3.827574e-14</td>\n",
              "      <td>-3.599705e-13</td>\n",
              "      <td>-9.738805e-14</td>\n",
              "      <td>-7.610032e-14</td>\n",
              "      <td>-0.000084</td>\n",
              "      <td>0.000004</td>\n",
              "      <td>0.425571</td>\n",
              "      <td>Radius s1</td>\n",
              "      <td>E1</td>\n",
              "    </tr>\n",
              "    <tr>\n",
              "      <th>9</th>\n",
              "      <td>Radius s1 E1</td>\n",
              "      <td>-0.00250</td>\n",
              "      <td>25</td>\n",
              "      <td>z2</td>\n",
              "      <td>3.653297e-13</td>\n",
              "      <td>3.559784e-13</td>\n",
              "      <td>-0.009169</td>\n",
              "      <td>-3.282457e-14</td>\n",
              "      <td>3.130311e-15</td>\n",
              "      <td>3.854093e-13</td>\n",
              "      <td>...</td>\n",
              "      <td>-2.289406e-13</td>\n",
              "      <td>-3.535281e-14</td>\n",
              "      <td>3.459461e-13</td>\n",
              "      <td>1.245720e-13</td>\n",
              "      <td>7.670740e-14</td>\n",
              "      <td>-0.000085</td>\n",
              "      <td>0.000004</td>\n",
              "      <td>0.425565</td>\n",
              "      <td>Radius s1</td>\n",
              "      <td>E1</td>\n",
              "    </tr>\n",
              "    <tr>\n",
              "      <th>11</th>\n",
              "      <td>Radius s1 E1</td>\n",
              "      <td>-0.00100</td>\n",
              "      <td>25</td>\n",
              "      <td>z2</td>\n",
              "      <td>-1.365693e-13</td>\n",
              "      <td>-7.950521e-14</td>\n",
              "      <td>-0.009136</td>\n",
              "      <td>-7.328153e-14</td>\n",
              "      <td>-1.429621e-14</td>\n",
              "      <td>-2.876918e-13</td>\n",
              "      <td>...</td>\n",
              "      <td>6.978208e-14</td>\n",
              "      <td>8.631412e-14</td>\n",
              "      <td>1.172750e-13</td>\n",
              "      <td>4.865138e-13</td>\n",
              "      <td>4.549173e-13</td>\n",
              "      <td>-0.000085</td>\n",
              "      <td>0.000004</td>\n",
              "      <td>0.425561</td>\n",
              "      <td>Radius s1</td>\n",
              "      <td>E1</td>\n",
              "    </tr>\n",
              "    <tr>\n",
              "      <th>...</th>\n",
              "      <td>...</td>\n",
              "      <td>...</td>\n",
              "      <td>...</td>\n",
              "      <td>...</td>\n",
              "      <td>...</td>\n",
              "      <td>...</td>\n",
              "      <td>...</td>\n",
              "      <td>...</td>\n",
              "      <td>...</td>\n",
              "      <td>...</td>\n",
              "      <td>...</td>\n",
              "      <td>...</td>\n",
              "      <td>...</td>\n",
              "      <td>...</td>\n",
              "      <td>...</td>\n",
              "      <td>...</td>\n",
              "      <td>...</td>\n",
              "      <td>...</td>\n",
              "      <td>...</td>\n",
              "      <td>...</td>\n",
              "      <td>...</td>\n",
              "    </tr>\n",
              "    <tr>\n",
              "      <th>1253</th>\n",
              "      <td>Tilt E7</td>\n",
              "      <td>0.00025</td>\n",
              "      <td>25</td>\n",
              "      <td>z2</td>\n",
              "      <td>-9.851568e-14</td>\n",
              "      <td>-3.878940e-03</td>\n",
              "      <td>-0.009190</td>\n",
              "      <td>-2.926732e-07</td>\n",
              "      <td>-4.702435e-13</td>\n",
              "      <td>-1.008709e-13</td>\n",
              "      <td>...</td>\n",
              "      <td>-4.703836e-10</td>\n",
              "      <td>-3.341847e-10</td>\n",
              "      <td>3.735317e-13</td>\n",
              "      <td>-2.175979e-13</td>\n",
              "      <td>-8.106875e-08</td>\n",
              "      <td>-0.000085</td>\n",
              "      <td>0.000004</td>\n",
              "      <td>0.425532</td>\n",
              "      <td>Tilt</td>\n",
              "      <td>E7</td>\n",
              "    </tr>\n",
              "    <tr>\n",
              "      <th>1255</th>\n",
              "      <td>Tilt E7</td>\n",
              "      <td>0.00050</td>\n",
              "      <td>25</td>\n",
              "      <td>z2</td>\n",
              "      <td>-4.319758e-14</td>\n",
              "      <td>-7.757890e-03</td>\n",
              "      <td>-0.009193</td>\n",
              "      <td>-1.000000e-06</td>\n",
              "      <td>-2.679859e-13</td>\n",
              "      <td>3.066146e-13</td>\n",
              "      <td>...</td>\n",
              "      <td>-9.446702e-10</td>\n",
              "      <td>-1.313693e-09</td>\n",
              "      <td>1.421455e-13</td>\n",
              "      <td>-2.338160e-13</td>\n",
              "      <td>-1.621256e-07</td>\n",
              "      <td>-0.000085</td>\n",
              "      <td>0.000004</td>\n",
              "      <td>0.425501</td>\n",
              "      <td>Tilt</td>\n",
              "      <td>E7</td>\n",
              "    </tr>\n",
              "    <tr>\n",
              "      <th>1257</th>\n",
              "      <td>Tilt E7</td>\n",
              "      <td>0.00100</td>\n",
              "      <td>25</td>\n",
              "      <td>z2</td>\n",
              "      <td>1.621218e-13</td>\n",
              "      <td>-1.551580e-02</td>\n",
              "      <td>-0.009204</td>\n",
              "      <td>-5.000000e-06</td>\n",
              "      <td>-2.272667e-13</td>\n",
              "      <td>-3.453454e-14</td>\n",
              "      <td>...</td>\n",
              "      <td>-2.006766e-09</td>\n",
              "      <td>-5.234852e-09</td>\n",
              "      <td>4.334685e-13</td>\n",
              "      <td>-3.335399e-13</td>\n",
              "      <td>-3.242979e-07</td>\n",
              "      <td>-0.000085</td>\n",
              "      <td>0.000004</td>\n",
              "      <td>0.425374</td>\n",
              "      <td>Tilt</td>\n",
              "      <td>E7</td>\n",
              "    </tr>\n",
              "    <tr>\n",
              "      <th>1259</th>\n",
              "      <td>Tilt E7</td>\n",
              "      <td>0.00200</td>\n",
              "      <td>25</td>\n",
              "      <td>z2</td>\n",
              "      <td>-5.352416e-14</td>\n",
              "      <td>-3.103160e-02</td>\n",
              "      <td>-0.009250</td>\n",
              "      <td>-1.900000e-05</td>\n",
              "      <td>2.302112e-13</td>\n",
              "      <td>2.730206e-13</td>\n",
              "      <td>...</td>\n",
              "      <td>-5.612721e-09</td>\n",
              "      <td>-1.612527e-08</td>\n",
              "      <td>2.661504e-13</td>\n",
              "      <td>4.359775e-13</td>\n",
              "      <td>-1.000000e-06</td>\n",
              "      <td>-0.000085</td>\n",
              "      <td>0.000004</td>\n",
              "      <td>0.424869</td>\n",
              "      <td>Tilt</td>\n",
              "      <td>E7</td>\n",
              "    </tr>\n",
              "    <tr>\n",
              "      <th>1261</th>\n",
              "      <td>Tilt E7</td>\n",
              "      <td>0.00500</td>\n",
              "      <td>25</td>\n",
              "      <td>z2</td>\n",
              "      <td>5.509097e-14</td>\n",
              "      <td>-7.757960e-02</td>\n",
              "      <td>-0.009569</td>\n",
              "      <td>-1.170680e-04</td>\n",
              "      <td>-1.848385e-14</td>\n",
              "      <td>2.313124e-14</td>\n",
              "      <td>...</td>\n",
              "      <td>-2.239818e-08</td>\n",
              "      <td>-9.191156e-08</td>\n",
              "      <td>3.402915e-13</td>\n",
              "      <td>3.603704e-13</td>\n",
              "      <td>-2.000000e-06</td>\n",
              "      <td>-0.000085</td>\n",
              "      <td>0.000004</td>\n",
              "      <td>0.421344</td>\n",
              "      <td>Tilt</td>\n",
              "      <td>E7</td>\n",
              "    </tr>\n",
              "  </tbody>\n",
              "</table>\n",
              "<p>630 rows × 43 columns</p>\n",
              "</div>\n",
              "    <div class=\"colab-df-buttons\">\n",
              "\n",
              "  <div class=\"colab-df-container\">\n",
              "    <button class=\"colab-df-convert\" onclick=\"convertToInteractive('df-02f4dedd-1703-41e9-afa0-2a609e39f282')\"\n",
              "            title=\"Convert this dataframe to an interactive table.\"\n",
              "            style=\"display:none;\">\n",
              "\n",
              "  <svg xmlns=\"http://www.w3.org/2000/svg\" height=\"24px\" viewBox=\"0 -960 960 960\">\n",
              "    <path d=\"M120-120v-720h720v720H120Zm60-500h600v-160H180v160Zm220 220h160v-160H400v160Zm0 220h160v-160H400v160ZM180-400h160v-160H180v160Zm440 0h160v-160H620v160ZM180-180h160v-160H180v160Zm440 0h160v-160H620v160Z\"/>\n",
              "  </svg>\n",
              "    </button>\n",
              "\n",
              "  <style>\n",
              "    .colab-df-container {\n",
              "      display:flex;\n",
              "      gap: 12px;\n",
              "    }\n",
              "\n",
              "    .colab-df-convert {\n",
              "      background-color: #E8F0FE;\n",
              "      border: none;\n",
              "      border-radius: 50%;\n",
              "      cursor: pointer;\n",
              "      display: none;\n",
              "      fill: #1967D2;\n",
              "      height: 32px;\n",
              "      padding: 0 0 0 0;\n",
              "      width: 32px;\n",
              "    }\n",
              "\n",
              "    .colab-df-convert:hover {\n",
              "      background-color: #E2EBFA;\n",
              "      box-shadow: 0px 1px 2px rgba(60, 64, 67, 0.3), 0px 1px 3px 1px rgba(60, 64, 67, 0.15);\n",
              "      fill: #174EA6;\n",
              "    }\n",
              "\n",
              "    .colab-df-buttons div {\n",
              "      margin-bottom: 4px;\n",
              "    }\n",
              "\n",
              "    [theme=dark] .colab-df-convert {\n",
              "      background-color: #3B4455;\n",
              "      fill: #D2E3FC;\n",
              "    }\n",
              "\n",
              "    [theme=dark] .colab-df-convert:hover {\n",
              "      background-color: #434B5C;\n",
              "      box-shadow: 0px 1px 3px 1px rgba(0, 0, 0, 0.15);\n",
              "      filter: drop-shadow(0px 1px 2px rgba(0, 0, 0, 0.3));\n",
              "      fill: #FFFFFF;\n",
              "    }\n",
              "  </style>\n",
              "\n",
              "    <script>\n",
              "      const buttonEl =\n",
              "        document.querySelector('#df-02f4dedd-1703-41e9-afa0-2a609e39f282 button.colab-df-convert');\n",
              "      buttonEl.style.display =\n",
              "        google.colab.kernel.accessAllowed ? 'block' : 'none';\n",
              "\n",
              "      async function convertToInteractive(key) {\n",
              "        const element = document.querySelector('#df-02f4dedd-1703-41e9-afa0-2a609e39f282');\n",
              "        const dataTable =\n",
              "          await google.colab.kernel.invokeFunction('convertToInteractive',\n",
              "                                                    [key], {});\n",
              "        if (!dataTable) return;\n",
              "\n",
              "        const docLinkHtml = 'Like what you see? Visit the ' +\n",
              "          '<a target=\"_blank\" href=https://colab.research.google.com/notebooks/data_table.ipynb>data table notebook</a>'\n",
              "          + ' to learn more about interactive tables.';\n",
              "        element.innerHTML = '';\n",
              "        dataTable['output_type'] = 'display_data';\n",
              "        await google.colab.output.renderOutput(dataTable, element);\n",
              "        const docLink = document.createElement('div');\n",
              "        docLink.innerHTML = docLinkHtml;\n",
              "        element.appendChild(docLink);\n",
              "      }\n",
              "    </script>\n",
              "  </div>\n",
              "\n",
              "\n",
              "    <div id=\"df-d9ce5dc0-a93c-4a37-9dcd-8b1b60ebb259\">\n",
              "      <button class=\"colab-df-quickchart\" onclick=\"quickchart('df-d9ce5dc0-a93c-4a37-9dcd-8b1b60ebb259')\"\n",
              "                title=\"Suggest charts\"\n",
              "                style=\"display:none;\">\n",
              "\n",
              "<svg xmlns=\"http://www.w3.org/2000/svg\" height=\"24px\"viewBox=\"0 0 24 24\"\n",
              "     width=\"24px\">\n",
              "    <g>\n",
              "        <path d=\"M19 3H5c-1.1 0-2 .9-2 2v14c0 1.1.9 2 2 2h14c1.1 0 2-.9 2-2V5c0-1.1-.9-2-2-2zM9 17H7v-7h2v7zm4 0h-2V7h2v10zm4 0h-2v-4h2v4z\"/>\n",
              "    </g>\n",
              "</svg>\n",
              "      </button>\n",
              "\n",
              "<style>\n",
              "  .colab-df-quickchart {\n",
              "      --bg-color: #E8F0FE;\n",
              "      --fill-color: #1967D2;\n",
              "      --hover-bg-color: #E2EBFA;\n",
              "      --hover-fill-color: #174EA6;\n",
              "      --disabled-fill-color: #AAA;\n",
              "      --disabled-bg-color: #DDD;\n",
              "  }\n",
              "\n",
              "  [theme=dark] .colab-df-quickchart {\n",
              "      --bg-color: #3B4455;\n",
              "      --fill-color: #D2E3FC;\n",
              "      --hover-bg-color: #434B5C;\n",
              "      --hover-fill-color: #FFFFFF;\n",
              "      --disabled-bg-color: #3B4455;\n",
              "      --disabled-fill-color: #666;\n",
              "  }\n",
              "\n",
              "  .colab-df-quickchart {\n",
              "    background-color: var(--bg-color);\n",
              "    border: none;\n",
              "    border-radius: 50%;\n",
              "    cursor: pointer;\n",
              "    display: none;\n",
              "    fill: var(--fill-color);\n",
              "    height: 32px;\n",
              "    padding: 0;\n",
              "    width: 32px;\n",
              "  }\n",
              "\n",
              "  .colab-df-quickchart:hover {\n",
              "    background-color: var(--hover-bg-color);\n",
              "    box-shadow: 0 1px 2px rgba(60, 64, 67, 0.3), 0 1px 3px 1px rgba(60, 64, 67, 0.15);\n",
              "    fill: var(--button-hover-fill-color);\n",
              "  }\n",
              "\n",
              "  .colab-df-quickchart-complete:disabled,\n",
              "  .colab-df-quickchart-complete:disabled:hover {\n",
              "    background-color: var(--disabled-bg-color);\n",
              "    fill: var(--disabled-fill-color);\n",
              "    box-shadow: none;\n",
              "  }\n",
              "\n",
              "  .colab-df-spinner {\n",
              "    border: 2px solid var(--fill-color);\n",
              "    border-color: transparent;\n",
              "    border-bottom-color: var(--fill-color);\n",
              "    animation:\n",
              "      spin 1s steps(1) infinite;\n",
              "  }\n",
              "\n",
              "  @keyframes spin {\n",
              "    0% {\n",
              "      border-color: transparent;\n",
              "      border-bottom-color: var(--fill-color);\n",
              "      border-left-color: var(--fill-color);\n",
              "    }\n",
              "    20% {\n",
              "      border-color: transparent;\n",
              "      border-left-color: var(--fill-color);\n",
              "      border-top-color: var(--fill-color);\n",
              "    }\n",
              "    30% {\n",
              "      border-color: transparent;\n",
              "      border-left-color: var(--fill-color);\n",
              "      border-top-color: var(--fill-color);\n",
              "      border-right-color: var(--fill-color);\n",
              "    }\n",
              "    40% {\n",
              "      border-color: transparent;\n",
              "      border-right-color: var(--fill-color);\n",
              "      border-top-color: var(--fill-color);\n",
              "    }\n",
              "    60% {\n",
              "      border-color: transparent;\n",
              "      border-right-color: var(--fill-color);\n",
              "    }\n",
              "    80% {\n",
              "      border-color: transparent;\n",
              "      border-right-color: var(--fill-color);\n",
              "      border-bottom-color: var(--fill-color);\n",
              "    }\n",
              "    90% {\n",
              "      border-color: transparent;\n",
              "      border-bottom-color: var(--fill-color);\n",
              "    }\n",
              "  }\n",
              "</style>\n",
              "\n",
              "      <script>\n",
              "        async function quickchart(key) {\n",
              "          const quickchartButtonEl =\n",
              "            document.querySelector('#' + key + ' button');\n",
              "          quickchartButtonEl.disabled = true;  // To prevent multiple clicks.\n",
              "          quickchartButtonEl.classList.add('colab-df-spinner');\n",
              "          try {\n",
              "            const charts = await google.colab.kernel.invokeFunction(\n",
              "                'suggestCharts', [key], {});\n",
              "          } catch (error) {\n",
              "            console.error('Error during call to suggestCharts:', error);\n",
              "          }\n",
              "          quickchartButtonEl.classList.remove('colab-df-spinner');\n",
              "          quickchartButtonEl.classList.add('colab-df-quickchart-complete');\n",
              "        }\n",
              "        (() => {\n",
              "          let quickchartButtonEl =\n",
              "            document.querySelector('#df-d9ce5dc0-a93c-4a37-9dcd-8b1b60ebb259 button');\n",
              "          quickchartButtonEl.style.display =\n",
              "            google.colab.kernel.accessAllowed ? 'block' : 'none';\n",
              "        })();\n",
              "      </script>\n",
              "    </div>\n",
              "\n",
              "  <div id=\"id_9adac545-6283-4aee-87c7-d6887fc3f202\">\n",
              "    <style>\n",
              "      .colab-df-generate {\n",
              "        background-color: #E8F0FE;\n",
              "        border: none;\n",
              "        border-radius: 50%;\n",
              "        cursor: pointer;\n",
              "        display: none;\n",
              "        fill: #1967D2;\n",
              "        height: 32px;\n",
              "        padding: 0 0 0 0;\n",
              "        width: 32px;\n",
              "      }\n",
              "\n",
              "      .colab-df-generate:hover {\n",
              "        background-color: #E2EBFA;\n",
              "        box-shadow: 0px 1px 2px rgba(60, 64, 67, 0.3), 0px 1px 3px 1px rgba(60, 64, 67, 0.15);\n",
              "        fill: #174EA6;\n",
              "      }\n",
              "\n",
              "      [theme=dark] .colab-df-generate {\n",
              "        background-color: #3B4455;\n",
              "        fill: #D2E3FC;\n",
              "      }\n",
              "\n",
              "      [theme=dark] .colab-df-generate:hover {\n",
              "        background-color: #434B5C;\n",
              "        box-shadow: 0px 1px 3px 1px rgba(0, 0, 0, 0.15);\n",
              "        filter: drop-shadow(0px 1px 2px rgba(0, 0, 0, 0.3));\n",
              "        fill: #FFFFFF;\n",
              "      }\n",
              "    </style>\n",
              "    <button class=\"colab-df-generate\" onclick=\"generateWithVariable('df')\"\n",
              "            title=\"Generate code using this dataframe.\"\n",
              "            style=\"display:none;\">\n",
              "\n",
              "  <svg xmlns=\"http://www.w3.org/2000/svg\" height=\"24px\"viewBox=\"0 0 24 24\"\n",
              "       width=\"24px\">\n",
              "    <path d=\"M7,19H8.4L18.45,9,17,7.55,7,17.6ZM5,21V16.75L18.45,3.32a2,2,0,0,1,2.83,0l1.4,1.43a1.91,1.91,0,0,1,.58,1.4,1.91,1.91,0,0,1-.58,1.4L9.25,21ZM18.45,9,17,7.55Zm-12,3A5.31,5.31,0,0,0,4.9,8.1,5.31,5.31,0,0,0,1,6.5,5.31,5.31,0,0,0,4.9,4.9,5.31,5.31,0,0,0,6.5,1,5.31,5.31,0,0,0,8.1,4.9,5.31,5.31,0,0,0,12,6.5,5.46,5.46,0,0,0,6.5,12Z\"/>\n",
              "  </svg>\n",
              "    </button>\n",
              "    <script>\n",
              "      (() => {\n",
              "      const buttonEl =\n",
              "        document.querySelector('#id_9adac545-6283-4aee-87c7-d6887fc3f202 button.colab-df-generate');\n",
              "      buttonEl.style.display =\n",
              "        google.colab.kernel.accessAllowed ? 'block' : 'none';\n",
              "\n",
              "      buttonEl.onclick = () => {\n",
              "        google.colab.notebook.generateWithVariable('df');\n",
              "      }\n",
              "      })();\n",
              "    </script>\n",
              "  </div>\n",
              "\n",
              "    </div>\n",
              "  </div>\n"
            ],
            "application/vnd.google.colaboratory.intrinsic+json": {
              "type": "dataframe",
              "variable_name": "df"
            }
          },
          "metadata": {}
        },
        {
          "output_type": "stream",
          "name": "stdout",
          "text": [
            "\n",
            "Unique error names:\n",
            "['Radius s1' 'Radius s2' 'Irr s1' 'Irr s2' 'Thickness' 'ETV' 'Z Position'\n",
            " 'Decenter' 'Tilt']\n",
            "\n",
            "Unique parameter names:\n",
            "['E1' 'E2' 'E3' 'E4' 'E5' 'E6' 'E7']\n"
          ]
        }
      ]
    },
    {
      "cell_type": "markdown",
      "metadata": {
        "id": "7350f498"
      },
      "source": [
        "### Filter Data based on Configuration"
      ]
    },
    {
      "cell_type": "markdown",
      "metadata": {
        "id": "-4Q5EtVkjMr3"
      },
      "source": [
        "### Filter Data based on Configuration"
      ]
    },
    {
      "cell_type": "code",
      "source": [
        "# Find the rows where parameter_name is neither \"E8\" nor \"E9\"\n",
        "# The correct condition is (df[\"parameter_name\"] != \"E8\") AND (df[\"parameter_name\"] != \"E9\")\n",
        "# Note: This assumes the 'parameter_name' column exists in the DataFrame.\n",
        "# If not, rerun the data loading and splitting steps (cells z_-4mJcD-YWA and d46bc68a).\n",
        "rows_not_e8_e9 = df[(df[\"parameter_name\"] != \"E8\") & (df[\"parameter_name\"] != \"E9\")]\n",
        "\n",
        "# Display the index of these rows (which are the row numbers)\n",
        "print(\"Row numbers where parameter_name is neither 'E8' nor 'E9':\")\n",
        "print(rows_not_e8_e9.index.tolist())\n",
        "\n",
        "print(f\"\\nNumber of rows where parameter_name is neither 'E8' nor 'E9': {len(rows_not_e8_e9)}\")"
      ],
      "metadata": {
        "colab": {
          "base_uri": "https://localhost:8080/"
        },
        "id": "XeNRxuE7MZFw",
        "outputId": "d91cfd2e-435c-426e-b979-190701eed509"
      },
      "execution_count": 176,
      "outputs": [
        {
          "output_type": "stream",
          "name": "stdout",
          "text": [
            "Row numbers where parameter_name is neither 'E8' nor 'E9':\n",
            "[3, 5, 7, 9, 11, 13, 15, 17, 19, 21, 23, 25, 27, 29, 31, 33, 35, 37, 39, 41, 43, 45, 47, 49, 51, 53, 55, 57, 59, 61, 63, 65, 67, 69, 71, 73, 75, 77, 79, 81, 83, 85, 87, 89, 91, 93, 95, 97, 99, 101, 103, 105, 107, 109, 111, 113, 115, 117, 119, 121, 123, 125, 127, 129, 131, 133, 135, 137, 139, 141, 143, 145, 147, 149, 151, 153, 155, 157, 159, 161, 163, 165, 167, 169, 171, 173, 175, 177, 179, 181, 183, 185, 187, 189, 191, 193, 195, 197, 199, 201, 203, 205, 207, 209, 211, 213, 215, 217, 219, 221, 223, 225, 227, 229, 231, 233, 235, 237, 239, 241, 243, 245, 247, 249, 251, 253, 255, 257, 259, 261, 263, 265, 267, 269, 271, 273, 275, 277, 279, 281, 283, 285, 287, 289, 291, 293, 295, 297, 299, 301, 303, 305, 307, 309, 311, 313, 315, 317, 319, 321, 323, 325, 327, 329, 331, 333, 335, 337, 339, 341, 343, 345, 347, 349, 351, 353, 355, 357, 359, 361, 363, 365, 367, 369, 371, 373, 375, 377, 379, 381, 383, 385, 387, 389, 391, 393, 395, 397, 399, 401, 403, 405, 407, 409, 411, 413, 415, 417, 419, 421, 423, 425, 427, 429, 431, 433, 435, 437, 439, 441, 443, 445, 447, 449, 451, 453, 455, 457, 459, 461, 463, 465, 467, 469, 471, 473, 475, 477, 479, 481, 483, 485, 487, 489, 491, 493, 495, 497, 499, 501, 503, 505, 507, 509, 511, 513, 515, 517, 519, 521, 523, 525, 527, 529, 531, 533, 535, 537, 539, 541, 543, 545, 547, 549, 551, 553, 555, 557, 559, 561, 563, 565, 567, 569, 571, 573, 575, 577, 579, 581, 583, 585, 587, 589, 591, 593, 595, 597, 599, 601, 603, 605, 607, 609, 611, 613, 615, 617, 619, 621, 623, 625, 627, 629, 631, 633, 635, 637, 639, 641, 643, 645, 647, 649, 651, 653, 655, 657, 659, 661, 663, 665, 667, 669, 671, 673, 675, 677, 679, 681, 683, 685, 687, 689, 691, 693, 695, 697, 699, 701, 703, 705, 707, 709, 711, 713, 715, 717, 719, 721, 723, 725, 727, 729, 731, 733, 735, 737, 739, 741, 743, 745, 747, 749, 751, 753, 755, 757, 759, 761, 763, 765, 767, 769, 771, 773, 775, 777, 779, 781, 783, 785, 787, 789, 791, 793, 795, 797, 799, 801, 803, 805, 807, 809, 811, 813, 815, 817, 819, 821, 823, 825, 827, 829, 831, 833, 835, 837, 839, 841, 843, 845, 847, 849, 851, 853, 855, 857, 859, 861, 863, 865, 867, 869, 871, 873, 875, 877, 879, 881, 883, 885, 887, 889, 891, 893, 895, 897, 899, 901, 903, 905, 907, 909, 911, 913, 915, 917, 919, 921, 923, 925, 927, 929, 931, 933, 935, 937, 939, 941, 943, 945, 947, 949, 951, 953, 955, 957, 959, 961, 963, 965, 967, 969, 971, 973, 975, 977, 979, 981, 983, 985, 987, 989, 991, 993, 995, 997, 999, 1001, 1003, 1005, 1007, 1009, 1011, 1013, 1015, 1017, 1019, 1021, 1023, 1025, 1027, 1029, 1031, 1033, 1035, 1037, 1039, 1041, 1043, 1045, 1047, 1049, 1051, 1053, 1055, 1057, 1059, 1061, 1063, 1065, 1067, 1069, 1071, 1073, 1075, 1077, 1079, 1081, 1083, 1085, 1087, 1089, 1091, 1093, 1095, 1097, 1099, 1101, 1103, 1105, 1107, 1109, 1111, 1113, 1115, 1117, 1119, 1121, 1123, 1125, 1127, 1129, 1131, 1133, 1135, 1137, 1139, 1141, 1143, 1145, 1147, 1149, 1151, 1153, 1155, 1157, 1159, 1161, 1163, 1165, 1167, 1169, 1171, 1173, 1175, 1177, 1179, 1181, 1183, 1185, 1187, 1189, 1191, 1193, 1195, 1197, 1199, 1201, 1203, 1205, 1207, 1209, 1211, 1213, 1215, 1217, 1219, 1221, 1223, 1225, 1227, 1229, 1231, 1233, 1235, 1237, 1239, 1241, 1243, 1245, 1247, 1249, 1251, 1253, 1255, 1257, 1259, 1261]\n",
            "\n",
            "Number of rows where parameter_name is neither 'E8' nor 'E9': 630\n"
          ]
        }
      ]
    },
    {
      "cell_type": "code",
      "metadata": {
        "colab": {
          "base_uri": "https://localhost:8080/"
        },
        "id": "aa21ba48",
        "outputId": "6f9e0d45-8f3c-4d92-c052-12b045dd82a8"
      },
      "source": [
        "# Find the rows where parameter_name is either \"E8\" or \"E9\"\n",
        "rows_e8_or_e9 = df[(df[\"parameter_name\"] == \"E8\") | (df[\"parameter_name\"] == \"E9\")]\n",
        "\n",
        "# Display the index of these rows (which are the row numbers)\n",
        "print(\"Row numbers where parameter_name is either 'E8' or 'E9':\")\n",
        "print(rows_e8_or_e9.index.tolist())\n",
        "\n",
        "print(f\"\\nNumber of rows where parameter_name is either 'E8' or 'E9': {len(rows_e8_or_e9)}\")"
      ],
      "execution_count": 177,
      "outputs": [
        {
          "output_type": "stream",
          "name": "stdout",
          "text": [
            "Row numbers where parameter_name is either 'E8' or 'E9':\n",
            "[]\n",
            "\n",
            "Number of rows where parameter_name is either 'E8' or 'E9': 0\n"
          ]
        }
      ]
    },
    {
      "cell_type": "code",
      "metadata": {
        "colab": {
          "base_uri": "https://localhost:8080/"
        },
        "id": "969e52b8",
        "outputId": "af589339-e7b5-4e78-dc25-21b32a6e15a9"
      },
      "source": [
        "# keep only the rows with the specified zooms\n",
        "df = df[df[\"efl\"].isin(config[\"zooms\"])]\n",
        "\n",
        "if config[\"ignore_e8_e9\"]:\n",
        "    df = df[df[\"parameter_name\"] != \"E8\"]\n",
        "    df = df[df[\"parameter_name\"] != \"E9\"]\n",
        "'''\n",
        "if config[\"remove_small_errors\"]:\n",
        "    # remove the 2 rows with smallest absolute error from each error_name and parameter_name\n",
        "    df = df.groupby(['error_name', 'parameter_name']).apply(lambda x: x.sort_values(by='error', key=lambda x: abs(x)).iloc[2:])\n",
        "    df = df.reset_index(drop=True)\n",
        "'''\n",
        "\n",
        "print(\"\\nUnique error names:\")\n",
        "print(df['error_name'].unique())\n",
        "print(f\"\\nUnique parameter names:\")\n",
        "print(df['parameter_name'].unique())"
      ],
      "execution_count": 178,
      "outputs": [
        {
          "output_type": "stream",
          "name": "stdout",
          "text": [
            "\n",
            "Unique error names:\n",
            "['Radius s1' 'Radius s2' 'Irr s1' 'Irr s2' 'Thickness' 'ETV' 'Z Position'\n",
            " 'Decenter' 'Tilt']\n",
            "\n",
            "Unique parameter names:\n",
            "['E1' 'E2' 'E3' 'E4' 'E5' 'E6' 'E7']\n"
          ]
        }
      ]
    },
    {
      "cell_type": "markdown",
      "metadata": {
        "id": "c10e58c9"
      },
      "source": [
        "### Encode Categorical Variables"
      ]
    },
    {
      "cell_type": "code",
      "metadata": {
        "colab": {
          "base_uri": "https://localhost:8080/",
          "height": 104
        },
        "id": "c4822510",
        "outputId": "1d8b7b80-7744-4728-c071-7995b5035348"
      },
      "source": [
        "# Encode the categorical variables\n",
        "le_error = LabelEncoder()\n",
        "le_parameter = LabelEncoder()\n",
        "\n",
        "df['error_name_encoded'] = le_error.fit_transform(df['error_name'])\n",
        "df['parameter_name_encoded'] = le_parameter.fit_transform(df['parameter_name'])\n",
        "\n",
        "print(f\"\\nNumber of error types: {len(le_error.classes_)}\")\n",
        "print(f\"Number of parameter types: {len(le_parameter.classes_)}\")\n",
        "\n",
        "display(le_error.classes_)"
      ],
      "execution_count": 179,
      "outputs": [
        {
          "output_type": "stream",
          "name": "stdout",
          "text": [
            "\n",
            "Number of error types: 9\n",
            "Number of parameter types: 7\n"
          ]
        },
        {
          "output_type": "display_data",
          "data": {
            "text/plain": [
              "array(['Decenter', 'ETV', 'Irr s1', 'Irr s2', 'Radius s1', 'Radius s2',\n",
              "       'Thickness', 'Tilt', 'Z Position'], dtype=object)"
            ]
          },
          "metadata": {}
        }
      ]
    },
    {
      "cell_type": "markdown",
      "metadata": {
        "id": "4d6a02e1"
      },
      "source": [
        "### Prepare Features and Create Train/Test Split"
      ]
    },
    {
      "cell_type": "code",
      "metadata": {
        "colab": {
          "base_uri": "https://localhost:8080/"
        },
        "id": "2fce4e59",
        "outputId": "fa0dda44-cef9-4c89-e06a-71a5680e1ff0"
      },
      "source": [
        "# Prepare features (excluding the target columns)\n",
        "feature_columns = [f'c{i}' for i in range(2, 38)] + ['MTF']\n",
        "\n",
        "# Create train/test split based on error_name + parameter_name groups\n",
        "train_data = []\n",
        "test_data = []\n",
        "\n",
        "print(\"\\nCreating train/test split...\")\n",
        "# Ensure 'error_name' and 'parameter_name' columns are present in df.\n",
        "# If not, rerun the data loading and splitting steps (cells above).\n",
        "for error_name in df['error_name'].unique():\n",
        "    for parameter_name in df['parameter_name'].unique():\n",
        "        # Get data for this specific error_name + parameter_name combination\n",
        "        group_data = df[(df['error_name'] == error_name) &\n",
        "                       (df['parameter_name'] == parameter_name)]\n",
        "\n",
        "        if len(group_data) < 4:\n",
        "            print(f\"Skipping {error_name} {parameter_name}: only {len(group_data)} samples\")\n",
        "            continue\n",
        "\n",
        "        # Sort by error value\n",
        "        group_data_sorted = group_data.sort_values('error')\n",
        "\n",
        "        if config[\"test_selection\"] == \"random\":\n",
        "            test_indices = np.random.choice(len(group_data_sorted), size=2, replace=False)\n",
        "        elif config[\"test_selection\"] == \"2nd_from_top_and_bottom\":\n",
        "            test_indices = [1, len(group_data_sorted) - 2]  # Second from top and second from bottom\n",
        "        else:\n",
        "            raise ValueError(f\"Invalid test selection: {config['test_selection']}\")\n",
        "\n",
        "        test_rows = group_data_sorted.iloc[test_indices]\n",
        "        train_rows = group_data_sorted.drop(group_data_sorted.index[test_indices])\n",
        "\n",
        "        test_data.extend(test_rows.to_dict('records'))\n",
        "        train_data.extend(train_rows.to_dict('records'))\n",
        "\n",
        "# Convert back to DataFrames\n",
        "df_train = pd.DataFrame(train_data)\n",
        "df_test = pd.DataFrame(test_data)\n",
        "\n",
        "# Apply One-Hot Encoding to the original categorical columns\n",
        "df_train_encoded = pd.get_dummies(df_train, columns=['error_name', 'parameter_name'], dtype=int)\n",
        "df_test_encoded = pd.get_dummies(df_test, columns=['error_name', 'parameter_name'], dtype=int)\n",
        "\n",
        "print(f\"Training set size: {len(df_train_encoded)}\")\n",
        "print(f\"Test set size: {len(df_test_encoded)}\")"
      ],
      "execution_count": 180,
      "outputs": [
        {
          "output_type": "stream",
          "name": "stdout",
          "text": [
            "\n",
            "Creating train/test split...\n",
            "Training set size: 504\n",
            "Test set size: 126\n"
          ]
        }
      ]
    },
    {
      "cell_type": "code",
      "source": [
        "# Define the list of test columns based on the specified pattern\n",
        "test_error_columns = [f'error_name_{cls}' for cls in le_error.classes_]\n",
        "test_parameter_columns = [f'parameter_name_E{i}' for i in range(1, 8)]\n",
        "\n",
        "print(\"Test columns:\")\n",
        "print(test_error_columns)\n",
        "print(test_parameter_columns)\n",
        "\n",
        "# Prepare features and targets\n",
        "X_train = df_train_encoded[feature_columns].values\n",
        "X_test = df_test_encoded[feature_columns].values\n",
        "\n",
        "y_error_train = df_train_encoded[test_error_columns].values\n",
        "y_error_test = df_test_encoded[test_error_columns].values\n",
        "\n",
        "y_parameter_train = df_train_encoded[test_parameter_columns].values\n",
        "y_parameter_test = df_test_encoded[test_parameter_columns].values"
      ],
      "metadata": {
        "colab": {
          "base_uri": "https://localhost:8080/"
        },
        "id": "amha4nB-xnW9",
        "outputId": "4e25a8dd-6cb2-4924-9ea4-48defa15cfbf"
      },
      "execution_count": 181,
      "outputs": [
        {
          "output_type": "stream",
          "name": "stdout",
          "text": [
            "Test columns:\n",
            "['error_name_Decenter', 'error_name_ETV', 'error_name_Irr s1', 'error_name_Irr s2', 'error_name_Radius s1', 'error_name_Radius s2', 'error_name_Thickness', 'error_name_Tilt', 'error_name_Z Position']\n",
            "['parameter_name_E1', 'parameter_name_E2', 'parameter_name_E3', 'parameter_name_E4', 'parameter_name_E5', 'parameter_name_E6', 'parameter_name_E7']\n"
          ]
        }
      ]
    },
    {
      "cell_type": "markdown",
      "metadata": {
        "id": "9f558245"
      },
      "source": [
        "### Scale Features"
      ]
    },
    {
      "cell_type": "code",
      "metadata": {
        "id": "022bd3ae",
        "colab": {
          "base_uri": "https://localhost:8080/"
        },
        "outputId": "a404e973-c7cf-4e78-973f-e8657a9a2918"
      },
      "source": [
        "# Scale features\n",
        "scaler = StandardScaler()\n",
        "X_train_scaled = scaler.fit_transform(X_train)\n",
        "X_test_scaled = scaler.transform(X_test)\n",
        "\n",
        "print(f\"\\nFeature shapes:\")\n",
        "print(f\"X_train: {X_train_scaled.shape}\")\n",
        "print(f\"X_test: {X_test_scaled.shape}\")\n",
        "print(f\"y_error_train: {y_error_train.shape}\")\n",
        "print(f\"y_parameter_train: {y_parameter_train.shape}\")"
      ],
      "execution_count": 182,
      "outputs": [
        {
          "output_type": "stream",
          "name": "stdout",
          "text": [
            "\n",
            "Feature shapes:\n",
            "X_train: (504, 37)\n",
            "X_test: (126, 37)\n",
            "y_error_train: (504, 9)\n",
            "y_parameter_train: (504, 7)\n"
          ]
        }
      ]
    },
    {
      "cell_type": "markdown",
      "metadata": {
        "id": "e78039cb"
      },
      "source": [
        "### Create PyTorch Datasets and DataLoaders"
      ]
    },
    {
      "cell_type": "code",
      "source": [
        "# Create PyTorch Dataset\n",
        "class OpticalDataset(Dataset):\n",
        "    def __init__(self, X, y_error, y_parameter):\n",
        "        self.X = torch.tensor(X, dtype=torch.float32)\n",
        "        # Change target dtype to float32 for one-hot encoded targets\n",
        "        self.y_error = torch.tensor(y_error, dtype=torch.float32)\n",
        "        self.y_parameter = torch.tensor(y_parameter, dtype=torch.float32)\n",
        "\n",
        "    def __len__(self):\n",
        "        return len(self.X)\n",
        "\n",
        "    def __getitem__(self, idx):\n",
        "        return self.X[idx], self.y_error[idx], self.y_parameter[idx]"
      ],
      "metadata": {
        "id": "pvB22ZjPB5PC"
      },
      "execution_count": 183,
      "outputs": []
    },
    {
      "cell_type": "code",
      "source": [
        "# Create datasets - transforming the feature and targets to PyTorch tensors\n",
        "train_dataset = OpticalDataset(X_train_scaled, y_error_train, y_parameter_train)\n",
        "test_dataset = OpticalDataset(X_test_scaled, y_error_test, y_parameter_test)"
      ],
      "metadata": {
        "id": "4Zr6bbEDB9bb"
      },
      "execution_count": 184,
      "outputs": []
    },
    {
      "cell_type": "code",
      "source": [
        "# Create data loaders\n",
        "train_loader = DataLoader(train_dataset, batch_size=config[\"batch_size\"], shuffle=True)\n",
        "test_loader = DataLoader(test_dataset, batch_size=config[\"batch_size\"], shuffle=False)\n",
        "\n",
        "# Get a batch from the training data loader\n",
        "X_batch, y_error_batch, y_parameter_batch = next(iter(train_loader))\n",
        "\n",
        "print(f\"\\nData loaders created:\")\n",
        "print(f\"Training batches: {len(train_loader)}\")\n",
        "print(f\"Test batches: {len(test_loader)}\")"
      ],
      "metadata": {
        "colab": {
          "base_uri": "https://localhost:8080/"
        },
        "id": "BfjjlawPGnFq",
        "outputId": "579d5882-e10a-4e55-df5a-adfd8fdc01fb"
      },
      "execution_count": 185,
      "outputs": [
        {
          "output_type": "stream",
          "name": "stdout",
          "text": [
            "\n",
            "Data loaders created:\n",
            "Training batches: 16\n",
            "Test batches: 4\n"
          ]
        }
      ]
    },
    {
      "cell_type": "markdown",
      "metadata": {
        "id": "roqXV0sc14h9"
      },
      "source": [
        "### Test DataLoaders"
      ]
    },
    {
      "cell_type": "code",
      "metadata": {
        "colab": {
          "base_uri": "https://localhost:8080/"
        },
        "outputId": "fdc9e547-910a-4b4a-c115-8853e45d3258",
        "id": "UsfGX3Lh14h9"
      },
      "source": [
        "# Test the data loaders\n",
        "print(f\"\\nTesting data loaders...\")\n",
        "for batch_idx, (X_batch, y_error_batch, y_parameter_batch) in enumerate(train_loader):\n",
        "    print(f\"Batch {batch_idx + 1}:\")\n",
        "    print(f\"  X shape: {X_batch.shape}\")\n",
        "    print(f\"  y_error shape: {y_error_batch.shape}\")\n",
        "    print(f\"  y_parameter shape: {y_parameter_batch.shape}\")\n",
        "    print(f\"  y_error range: {y_error_batch.min().item()} to {y_error_batch.max().item()}\")\n",
        "    print(f\"  y_parameter range: {y_parameter_batch.min().item()} to {y_parameter_batch.max().item()}\")\n",
        "    break\n",
        "\n",
        "print(f\"\\nData preparation complete! Ready for neural network training.\")"
      ],
      "execution_count": 186,
      "outputs": [
        {
          "output_type": "stream",
          "name": "stdout",
          "text": [
            "\n",
            "Testing data loaders...\n",
            "Batch 1:\n",
            "  X shape: torch.Size([32, 37])\n",
            "  y_error shape: torch.Size([32, 9])\n",
            "  y_parameter shape: torch.Size([32, 7])\n",
            "  y_error range: 0.0 to 1.0\n",
            "  y_parameter range: 0.0 to 1.0\n",
            "\n",
            "Data preparation complete! Ready for neural network training.\n"
          ]
        }
      ]
    },
    {
      "cell_type": "markdown",
      "metadata": {
        "id": "75c5d7a9"
      },
      "source": [
        "### Save Encoders, Scaler, and Configuration"
      ]
    },
    {
      "cell_type": "code",
      "source": [
        "# Create timestamped directory for results\n",
        "timestamp = datetime.now().strftime(\"%Y%m%d_%H%M%S\")\n",
        "results_dir = f\"eda/plots/neural_network_results_{timestamp}\"\n",
        "os.makedirs(results_dir, exist_ok=True)\n",
        "print(f\"\\nResults will be saved to: {results_dir}\")"
      ],
      "metadata": {
        "colab": {
          "base_uri": "https://localhost:8080/"
        },
        "id": "-TrHAgwN1KlH",
        "outputId": "c7aa0f95-078c-4e45-ca69-d280a1f3ee04"
      },
      "execution_count": 187,
      "outputs": [
        {
          "output_type": "stream",
          "name": "stdout",
          "text": [
            "\n",
            "Results will be saved to: eda/plots/neural_network_results_20251017_000226\n"
          ]
        }
      ]
    },
    {
      "cell_type": "code",
      "source": [
        "# Save the encoders and scaler for later use\n",
        "import pickle\n",
        "import os\n",
        "from datetime import datetime\n",
        "\n",
        "# Create timestamped directory for results\n",
        "timestamp = datetime.now().strftime(\"%Y%m%d_%H%M%S\")\n",
        "results_dir = f\"eda/plots/neural_network_results_{timestamp}\"\n",
        "os.makedirs(results_dir, exist_ok=True)\n",
        "print(f\"\\nResults will be saved to: {results_dir}\")\n",
        "\n",
        "with open(f'{results_dir}/encoders_and_scaler.pkl', 'wb') as f:\n",
        "    pickle.dump({\n",
        "        'le_error': le_error,\n",
        "        'le_parameter': le_parameter,\n",
        "        'scaler': scaler,\n",
        "        'feature_columns': feature_columns\n",
        "    }, f)\n",
        "\n",
        "print(f\"Encoders and scaler saved to '{results_dir}/encoders_and_scaler.pkl'\")"
      ],
      "metadata": {
        "colab": {
          "base_uri": "https://localhost:8080/"
        },
        "id": "D05m5I561Olv",
        "outputId": "d034b8bf-d077-44d5-b2ce-7980f3b20005"
      },
      "execution_count": 188,
      "outputs": [
        {
          "output_type": "stream",
          "name": "stdout",
          "text": [
            "\n",
            "Results will be saved to: eda/plots/neural_network_results_20251017_000226\n",
            "Encoders and scaler saved to 'eda/plots/neural_network_results_20251017_000226/encoders_and_scaler.pkl'\n"
          ]
        }
      ]
    },
    {
      "cell_type": "code",
      "metadata": {
        "id": "7335cf68",
        "colab": {
          "base_uri": "https://localhost:8080/"
        },
        "outputId": "a73af5af-f9d7-4112-8e6d-c53781784f52"
      },
      "source": [
        "# Save the config for reproducibility as a json file\n",
        "with open(f'{results_dir}/config.json', 'w') as f:\n",
        "    json.dump(config, f)\n",
        "\n",
        "print(f\"Encoders and scaler saved to '{results_dir}/encoders_and_scaler.pkl'\")\n",
        "print(f\"Configuration saved to '{results_dir}/config.json'\")"
      ],
      "execution_count": 189,
      "outputs": [
        {
          "output_type": "stream",
          "name": "stdout",
          "text": [
            "Encoders and scaler saved to 'eda/plots/neural_network_results_20251017_000226/encoders_and_scaler.pkl'\n",
            "Configuration saved to 'eda/plots/neural_network_results_20251017_000226/config.json'\n"
          ]
        }
      ]
    },
    {
      "cell_type": "markdown",
      "metadata": {
        "id": "51344c95"
      },
      "source": [
        "### Initialize Model, Optimizer, and Loss Function"
      ]
    },
    {
      "cell_type": "code",
      "source": [
        "# Import the neural network model\n",
        "import sys\n",
        "sys.path.append('.')\n",
        "'''\n",
        "from nn_model import MultiOutputClassifier\n",
        "'''\n",
        "from nn_model_SequantialClassification import TwoStageClassifier"
      ],
      "metadata": {
        "id": "8dPhC-n8CNPY"
      },
      "execution_count": 190,
      "outputs": []
    },
    {
      "cell_type": "code",
      "metadata": {
        "id": "7798097b",
        "colab": {
          "base_uri": "https://localhost:8080/"
        },
        "outputId": "8a40728f-ac18-4936-d6b1-f659751b14b3"
      },
      "source": [
        "# Print class information for the neural network\n",
        "print(f\"\\nClass information for neural network:\")\n",
        "print(f\"Input dimension: {X_train_scaled.shape[1]}\")\n",
        "print(f\"Number of error types: {len(le_error.classes_)}\")\n",
        "print(f\"Number of parameter types: {len(le_parameter.classes_)}\")\n",
        "\n",
        "print(f\"\\nError type classes:\")\n",
        "for i, class_name in enumerate(le_error.classes_):\n",
        "    print(f\"  {i}: {class_name}\")\n",
        "\n",
        "print(f\"\\nParameter type classes:\")\n",
        "for i, class_name in enumerate(le_parameter.classes_):\n",
        "    print(f\"  {i}: {class_name}\")"
      ],
      "execution_count": 191,
      "outputs": [
        {
          "output_type": "stream",
          "name": "stdout",
          "text": [
            "\n",
            "Class information for neural network:\n",
            "Input dimension: 37\n",
            "Number of error types: 9\n",
            "Number of parameter types: 7\n",
            "\n",
            "Error type classes:\n",
            "  0: Decenter\n",
            "  1: ETV\n",
            "  2: Irr s1\n",
            "  3: Irr s2\n",
            "  4: Radius s1\n",
            "  5: Radius s2\n",
            "  6: Thickness\n",
            "  7: Tilt\n",
            "  8: Z Position\n",
            "\n",
            "Parameter type classes:\n",
            "  0: E1\n",
            "  1: E2\n",
            "  2: E3\n",
            "  3: E4\n",
            "  4: E5\n",
            "  5: E6\n",
            "  6: E7\n"
          ]
        }
      ]
    },
    {
      "cell_type": "code",
      "source": [
        "# Update model configuration based on actual data\n",
        "INPUT_DIM = X_train_scaled.shape[1]\n",
        "NUM_ERROR_TYPES = len(le_error.classes_)\n",
        "NUM_ERROR_ELEMENTS = len(le_parameter.classes_)\n",
        "\n",
        "print(f\"\\n\" + \"=\"*50)\n",
        "print(\"NEURAL NETWORK TRAINING\")\n",
        "print(\"=\"*50)\n",
        "print(f\"Input dimension: {INPUT_DIM}\")\n",
        "print(f\"Number of error types: {NUM_ERROR_TYPES}\")\n",
        "print(f\"Number of error elements: {NUM_ERROR_ELEMENTS}\")"
      ],
      "metadata": {
        "colab": {
          "base_uri": "https://localhost:8080/"
        },
        "id": "UcvT_snZBWDu",
        "outputId": "ae64b2ec-fc78-489f-d246-c7b4281c4be7"
      },
      "execution_count": 192,
      "outputs": [
        {
          "output_type": "stream",
          "name": "stdout",
          "text": [
            "\n",
            "==================================================\n",
            "NEURAL NETWORK TRAINING\n",
            "==================================================\n",
            "Input dimension: 37\n",
            "Number of error types: 9\n",
            "Number of error elements: 7\n"
          ]
        }
      ]
    },
    {
      "cell_type": "code",
      "metadata": {
        "id": "07695b9f",
        "colab": {
          "base_uri": "https://localhost:8080/"
        },
        "outputId": "67e2711e-7b47-4f17-a622-9162043837a9"
      },
      "source": [
        "# Initialize model, optimizer, and loss function\n",
        "import torch.nn as nn\n",
        "import torch.optim as optim\n",
        "\n",
        "if config[\"model\"] == \"MultiOutputClassifier\":\n",
        "    model = MultiOutputClassifier(INPUT_DIM, NUM_ERROR_TYPES, NUM_ERROR_ELEMENTS)\n",
        "elif config[\"model\"] == \"TwoStageClassifier\":\n",
        "    model = TwoStageClassifier(INPUT_DIM, NUM_ERROR_TYPES, NUM_ERROR_ELEMENTS)\n",
        "else:\n",
        "    raise ValueError(f\"Unknown model type: {config['model']}\")\n",
        "\n",
        "optimizer = optim.Adam(model.parameters(), lr=config[\"learning_rate\"], weight_decay=config[\"weight_decay\"])\n",
        "criterion = nn.CrossEntropyLoss()\n",
        "\n",
        "print(f\"Model initialized with {sum(p.numel() for p in model.parameters())} parameters\")"
      ],
      "execution_count": 193,
      "outputs": [
        {
          "output_type": "stream",
          "name": "stdout",
          "text": [
            "Model initialized with 3248 parameters\n"
          ]
        }
      ]
    },
    {
      "cell_type": "code",
      "source": [
        "model"
      ],
      "metadata": {
        "colab": {
          "base_uri": "https://localhost:8080/"
        },
        "id": "kbQNPgtwCQEq",
        "outputId": "3d4e1308-abfa-4dcc-ff95-c81eb7b2bd7f"
      },
      "execution_count": 194,
      "outputs": [
        {
          "output_type": "execute_result",
          "data": {
            "text/plain": [
              "TwoStageClassifier(\n",
              "  (error_type_classifier): Sequential(\n",
              "    (0): Linear(in_features=37, out_features=32, bias=True)\n",
              "    (1): ReLU()\n",
              "    (2): Linear(in_features=32, out_features=9, bias=True)\n",
              "  )\n",
              "  (error_element_classifier): Sequential(\n",
              "    (0): Linear(in_features=46, out_features=32, bias=True)\n",
              "    (1): ReLU()\n",
              "    (2): Linear(in_features=32, out_features=7, bias=True)\n",
              "  )\n",
              ")"
            ]
          },
          "metadata": {},
          "execution_count": 194
        }
      ]
    },
    {
      "cell_type": "code",
      "source": [
        "from torchsummary import summary\n",
        "\n",
        "# Display the model summary\n",
        "# You need to pass the input shape to the summary function\n",
        "# The input shape should be (batch_size, input_dimension)\n",
        "# Using a dummy batch size of -1 is common for torchsummary to indicate variable batch size\n",
        "summary(model, input_size=(INPUT_DIM,))"
      ],
      "metadata": {
        "colab": {
          "base_uri": "https://localhost:8080/"
        },
        "id": "T0d4_fFxCaTW",
        "outputId": "a106a079-2cd6-4f96-de8b-78b8aba39085"
      },
      "execution_count": 195,
      "outputs": [
        {
          "output_type": "stream",
          "name": "stdout",
          "text": [
            "----------------------------------------------------------------\n",
            "        Layer (type)               Output Shape         Param #\n",
            "================================================================\n",
            "            Linear-1                   [-1, 32]           1,216\n",
            "              ReLU-2                   [-1, 32]               0\n",
            "            Linear-3                    [-1, 9]             297\n",
            "            Linear-4                   [-1, 32]           1,504\n",
            "              ReLU-5                   [-1, 32]               0\n",
            "            Linear-6                    [-1, 7]             231\n",
            "================================================================\n",
            "Total params: 3,248\n",
            "Trainable params: 3,248\n",
            "Non-trainable params: 0\n",
            "----------------------------------------------------------------\n",
            "Input size (MB): 0.00\n",
            "Forward/backward pass size (MB): 0.00\n",
            "Params size (MB): 0.01\n",
            "Estimated Total Size (MB): 0.01\n",
            "----------------------------------------------------------------\n"
          ]
        }
      ]
    },
    {
      "cell_type": "markdown",
      "metadata": {
        "id": "f534328b"
      },
      "source": [
        "### Training Loop"
      ]
    },
    {
      "cell_type": "code",
      "metadata": {
        "id": "0ad35545",
        "colab": {
          "base_uri": "https://localhost:8080/"
        },
        "outputId": "5c6b431c-d147-490b-df58-7bc7ca6d026c"
      },
      "source": [
        "# Training loop\n",
        "print(f\"\\nStarting training for {config['epochs']} epochs...\")\n",
        "train_losses = []\n",
        "val_losses = []\n",
        "train_acc_error = []\n",
        "train_acc_parameter = []\n",
        "val_acc_error = []\n",
        "val_acc_parameter = []\n",
        "\n",
        "for epoch in range(config[\"epochs\"]):\n",
        "    # Training phase\n",
        "    model.train()\n",
        "    total_loss = 0\n",
        "    correct_error = 0\n",
        "    correct_parameter = 0\n",
        "    total_samples = 0\n",
        "\n",
        "    for X_batch, y_error_batch, y_parameter_batch in train_loader: # both y_error_batch and y_parameter_batch are one-hot encoded vectors\n",
        "        optimizer.zero_grad()\n",
        "\n",
        "        # Forward pass\n",
        "        out_error, out_parameter = model(X_batch)\n",
        "\n",
        "        # Calculate losses\n",
        "        loss_error = criterion(out_error, y_error_batch)\n",
        "        loss_parameter = criterion(out_parameter, y_parameter_batch)\n",
        "        loss = loss_error + config[\"parameter_loss_weight\"] * loss_parameter\n",
        "\n",
        "        # Backward pass\n",
        "        loss.backward()\n",
        "        optimizer.step()\n",
        "\n",
        "        # Statistics\n",
        "        total_loss += loss.item()\n",
        "        prob_score_out_error = out_error.softmax(dim=1).cpu()\n",
        "        pred_error = out_error.argmax(dim=1)\n",
        "        prob_score_out_parameter = out_parameter.softmax(dim=1).cpu()\n",
        "        pred_parameter = out_parameter.argmax(dim=1)\n",
        "\n",
        "        # Calculate correct predictions using argmax on one-hot targets\n",
        "        true_error_indices = y_error_batch.argmax(dim=1)\n",
        "        true_parameter_indices = y_parameter_batch.argmax(dim=1)\n",
        "\n",
        "        correct_error += (pred_error == true_error_indices).sum().item()\n",
        "        correct_parameter += (pred_parameter == true_parameter_indices).sum().item()\n",
        "        total_samples += y_error_batch.size(0)\n",
        "\n",
        "    # Calculate training metrics\n",
        "    avg_loss = total_loss / len(train_loader)\n",
        "    acc_error = correct_error / total_samples\n",
        "    acc_parameter = correct_parameter / total_samples\n",
        "\n",
        "    train_losses.append(avg_loss)\n",
        "    train_acc_error.append(acc_error)\n",
        "    train_acc_parameter.append(acc_parameter)\n",
        "\n",
        "    # Validation phase\n",
        "    model.eval()\n",
        "    val_loss = 0\n",
        "    val_correct_error = 0\n",
        "    val_correct_parameter = 0\n",
        "    val_total_samples = 0\n",
        "\n",
        "    with torch.no_grad():\n",
        "        for X_batch, y_error_batch, y_parameter_batch in test_loader:\n",
        "            out_error, out_parameter = model(X_batch)\n",
        "\n",
        "            loss_error = criterion(out_error, y_error_batch)\n",
        "            loss_parameter = criterion(out_parameter, y_parameter_batch)\n",
        "            loss = loss_error + config[\"parameter_loss_weight\"] * loss_parameter\n",
        "\n",
        "            val_loss += loss.item()\n",
        "            pred_error = out_error.argmax(dim=1)\n",
        "            pred_parameter = out_parameter.argmax(dim=1)\n",
        "\n",
        "            # Calculate correct predictions using argmax on one-hot targets\n",
        "            true_error_indices = y_error_batch.argmax(dim=1)\n",
        "            true_parameter_indices = y_parameter_batch.argmax(dim=1)\n",
        "            val_correct_error += (pred_error == true_error_indices).sum().item()\n",
        "            val_correct_parameter += (pred_parameter == true_parameter_indices).sum().item()\n",
        "            val_total_samples += y_error_batch.size(0)\n",
        "\n",
        "    avg_val_loss = val_loss / len(test_loader)\n",
        "    val_acc_error_epoch = val_correct_error / val_total_samples\n",
        "    val_acc_parameter_epoch = val_correct_parameter / val_total_samples\n",
        "\n",
        "    val_losses.append(avg_val_loss)\n",
        "    val_acc_error.append(val_acc_error_epoch)\n",
        "    val_acc_parameter.append(val_acc_parameter_epoch)\n",
        "\n",
        "    # Print progress\n",
        "    if (epoch + 1) % 5 == 0:\n",
        "        print(f\"Epoch {epoch+1:2d}/{config['epochs']} - \"\n",
        "              f\"Train Loss: {avg_loss:.4f}, Val Loss: {avg_val_loss:.4f} - \"\n",
        "              f\"Train Acc (Error/Param): {acc_error:.3f}/{acc_parameter:.3f} - \"\n",
        "              f\"Val Acc (Error/Param): {val_acc_error_epoch:.3f}/{val_acc_parameter_epoch:.3f}\")"
      ],
      "execution_count": 196,
      "outputs": [
        {
          "output_type": "stream",
          "name": "stdout",
          "text": [
            "\n",
            "Starting training for 100 epochs...\n",
            "Epoch  5/100 - Train Loss: 3.9347, Val Loss: 3.8531 - Train Acc (Error/Param): 0.268/0.202 - Val Acc (Error/Param): 0.294/0.190\n",
            "Epoch 10/100 - Train Loss: 3.6925, Val Loss: 3.5595 - Train Acc (Error/Param): 0.391/0.290 - Val Acc (Error/Param): 0.397/0.254\n",
            "Epoch 15/100 - Train Loss: 3.4551, Val Loss: 3.3003 - Train Acc (Error/Param): 0.450/0.369 - Val Acc (Error/Param): 0.429/0.310\n",
            "Epoch 20/100 - Train Loss: 3.2297, Val Loss: 3.0723 - Train Acc (Error/Param): 0.470/0.415 - Val Acc (Error/Param): 0.468/0.365\n",
            "Epoch 25/100 - Train Loss: 3.0336, Val Loss: 2.8921 - Train Acc (Error/Param): 0.496/0.435 - Val Acc (Error/Param): 0.500/0.468\n",
            "Epoch 30/100 - Train Loss: 2.8684, Val Loss: 2.7498 - Train Acc (Error/Param): 0.530/0.462 - Val Acc (Error/Param): 0.524/0.492\n",
            "Epoch 35/100 - Train Loss: 2.7250, Val Loss: 2.6290 - Train Acc (Error/Param): 0.556/0.488 - Val Acc (Error/Param): 0.540/0.500\n",
            "Epoch 40/100 - Train Loss: 2.6092, Val Loss: 2.5335 - Train Acc (Error/Param): 0.573/0.506 - Val Acc (Error/Param): 0.532/0.516\n",
            "Epoch 45/100 - Train Loss: 2.4942, Val Loss: 2.4540 - Train Acc (Error/Param): 0.593/0.540 - Val Acc (Error/Param): 0.540/0.540\n",
            "Epoch 50/100 - Train Loss: 2.3941, Val Loss: 2.3902 - Train Acc (Error/Param): 0.605/0.558 - Val Acc (Error/Param): 0.579/0.563\n",
            "Epoch 55/100 - Train Loss: 2.3083, Val Loss: 2.3349 - Train Acc (Error/Param): 0.621/0.585 - Val Acc (Error/Param): 0.579/0.563\n",
            "Epoch 60/100 - Train Loss: 2.2237, Val Loss: 2.2834 - Train Acc (Error/Param): 0.627/0.593 - Val Acc (Error/Param): 0.595/0.579\n",
            "Epoch 65/100 - Train Loss: 2.1510, Val Loss: 2.2478 - Train Acc (Error/Param): 0.637/0.607 - Val Acc (Error/Param): 0.595/0.571\n",
            "Epoch 70/100 - Train Loss: 2.0757, Val Loss: 2.2279 - Train Acc (Error/Param): 0.641/0.627 - Val Acc (Error/Param): 0.595/0.556\n",
            "Epoch 75/100 - Train Loss: 2.0120, Val Loss: 2.2020 - Train Acc (Error/Param): 0.647/0.631 - Val Acc (Error/Param): 0.619/0.556\n",
            "Epoch 80/100 - Train Loss: 1.9458, Val Loss: 2.2013 - Train Acc (Error/Param): 0.657/0.653 - Val Acc (Error/Param): 0.627/0.556\n",
            "Epoch 85/100 - Train Loss: 1.8827, Val Loss: 2.1972 - Train Acc (Error/Param): 0.671/0.663 - Val Acc (Error/Param): 0.619/0.563\n",
            "Epoch 90/100 - Train Loss: 1.8354, Val Loss: 2.1839 - Train Acc (Error/Param): 0.677/0.685 - Val Acc (Error/Param): 0.611/0.556\n",
            "Epoch 95/100 - Train Loss: 1.7869, Val Loss: 2.1994 - Train Acc (Error/Param): 0.679/0.698 - Val Acc (Error/Param): 0.619/0.548\n",
            "Epoch 100/100 - Train Loss: 1.7493, Val Loss: 2.1958 - Train Acc (Error/Param): 0.683/0.698 - Val Acc (Error/Param): 0.611/0.571\n"
          ]
        }
      ]
    },
    {
      "cell_type": "markdown",
      "metadata": {
        "id": "ee53b112"
      },
      "source": [
        "### Final Evaluation and Reporting"
      ]
    },
    {
      "cell_type": "code",
      "metadata": {
        "id": "0e84af5c",
        "colab": {
          "base_uri": "https://localhost:8080/"
        },
        "outputId": "059dfb20-b31a-4c22-c3c3-ad8402ee5bc1"
      },
      "source": [
        "# Final evaluation\n",
        "print(f\"\\n\" + \"=\"*50)\n",
        "print(\"FINAL EVALUATION\")\n",
        "print(\"=\"*50)\n",
        "\n",
        "model.eval()\n",
        "all_pred_error = []\n",
        "all_pred_parameter = []\n",
        "all_true_error = []\n",
        "all_true_parameter = []\n",
        "\n",
        "with torch.no_grad():\n",
        "    for X_batch, y_error_batch, y_parameter_batch in test_loader:\n",
        "        out_error, out_parameter = model(X_batch)\n",
        "        pred_error = out_error.argmax(dim=1)\n",
        "        pred_parameter = out_parameter.argmax(dim=1)\n",
        "\n",
        "        all_pred_error.extend(pred_error.cpu().numpy())\n",
        "        all_pred_parameter.extend(pred_parameter.cpu().numpy())\n",
        "\n",
        "        # Convert one-hot encoded true labels to class indices\n",
        "        all_true_error.extend(y_error_batch.argmax(dim=1).cpu().numpy())\n",
        "        all_true_parameter.extend(y_parameter_batch.argmax(dim=1).cpu().numpy())\n",
        "\n",
        "# Calculate final metrics\n",
        "from sklearn.metrics import accuracy_score, classification_report, confusion_matrix\n",
        "\n",
        "final_error_acc = accuracy_score(all_true_error, all_pred_error)\n",
        "final_parameter_acc = accuracy_score(all_true_parameter, all_pred_parameter)\n",
        "\n",
        "print(f\"Final Test Accuracy - Error Types: {final_error_acc:.4f}\")\n",
        "print(f\"Final Test Accuracy - Parameter Types: {final_parameter_acc:.4f}\")\n",
        "\n",
        "print(f\"\\nError Type Classification Report:\")\n",
        "print(classification_report(all_true_error, all_pred_error,\n",
        "                          target_names=le_error.classes_))\n",
        "\n",
        "print(f\"\\nParameter Type Classification Report:\")\n",
        "print(classification_report(all_true_parameter, all_pred_parameter,\n",
        "                          target_names=le_parameter.classes_))"
      ],
      "execution_count": 197,
      "outputs": [
        {
          "output_type": "stream",
          "name": "stdout",
          "text": [
            "\n",
            "==================================================\n",
            "FINAL EVALUATION\n",
            "==================================================\n",
            "Final Test Accuracy - Error Types: 0.6111\n",
            "Final Test Accuracy - Parameter Types: 0.5714\n",
            "\n",
            "Error Type Classification Report:\n",
            "              precision    recall  f1-score   support\n",
            "\n",
            "    Decenter       0.52      0.79      0.63        14\n",
            "         ETV       0.92      0.79      0.85        14\n",
            "      Irr s1       1.00      0.86      0.92        14\n",
            "      Irr s2       1.00      0.79      0.88        14\n",
            "   Radius s1       0.38      0.43      0.40        14\n",
            "   Radius s2       0.42      0.36      0.38        14\n",
            "   Thickness       0.32      0.43      0.36        14\n",
            "        Tilt       0.70      0.50      0.58        14\n",
            "  Z Position       0.62      0.57      0.59        14\n",
            "\n",
            "    accuracy                           0.61       126\n",
            "   macro avg       0.65      0.61      0.62       126\n",
            "weighted avg       0.65      0.61      0.62       126\n",
            "\n",
            "\n",
            "Parameter Type Classification Report:\n",
            "              precision    recall  f1-score   support\n",
            "\n",
            "          E1       0.61      0.61      0.61        18\n",
            "          E2       0.47      0.39      0.42        18\n",
            "          E3       0.61      0.61      0.61        18\n",
            "          E4       0.54      0.39      0.45        18\n",
            "          E5       0.50      0.56      0.53        18\n",
            "          E6       0.46      0.61      0.52        18\n",
            "          E7       0.83      0.83      0.83        18\n",
            "\n",
            "    accuracy                           0.57       126\n",
            "   macro avg       0.57      0.57      0.57       126\n",
            "weighted avg       0.57      0.57      0.57       126\n",
            "\n"
          ]
        }
      ]
    },
    {
      "cell_type": "markdown",
      "metadata": {
        "id": "5e4bd22b"
      },
      "source": [
        "### Plot Training Curves"
      ]
    },
    {
      "cell_type": "code",
      "metadata": {
        "id": "afb9cdd1",
        "colab": {
          "base_uri": "https://localhost:8080/",
          "height": 211
        },
        "outputId": "3bf163b2-9d8a-4708-af06-741c3fb9ce58"
      },
      "source": [
        "# Plot training curves\n",
        "plt.figure(figsize=(15, 5))\n",
        "\n",
        "plt.subplot(1, 3, 1)\n",
        "plt.plot(train_losses, label='Train Loss')\n",
        "plt.plot(val_losses, label='Val Loss')\n",
        "plt.title('Training and Validation Loss')\n",
        "plt.xlabel('Epoch')\n",
        "plt.ylabel('Loss')\n",
        "plt.legend()\n",
        "\n",
        "plt.subplot(1, 3, 2)\n",
        "plt.plot(train_acc_error, label='Train Error Acc')\n",
        "plt.plot(val_acc_error, label='Val Error Acc')\n",
        "plt.title('Error Type Accuracy')\n",
        "plt.xlabel('Epoch')\n",
        "plt.ylabel('Accuracy')\n",
        "plt.legend()\n",
        "\n",
        "plt.subplot(1, 3, 3)\n",
        "plt.plot(train_acc_parameter, label='Train Parameter Acc')\n",
        "plt.plot(val_acc_parameter, label='Val Parameter Acc')\n",
        "plt.title('Parameter Type Accuracy')\n",
        "plt.xlabel('Epoch')\n",
        "plt.ylabel('Accuracy')\n",
        "plt.legend()\n",
        "\n",
        "plt.tight_layout()\n",
        "plt.savefig(f'{results_dir}/neural_network_training_curves.png', dpi=300, bbox_inches='tight')"
      ],
      "execution_count": 198,
      "outputs": [
        {
          "output_type": "display_data",
          "data": {
            "text/plain": [
              "<Figure size 1500x500 with 3 Axes>"
            ],
            "image/png": "[encoded data removed]"
          },
          "metadata": {}
        }
      ]
    },
    {
      "cell_type": "markdown",
      "metadata": {
        "id": "a9963921"
      },
      "source": [
        "### Save Trained Model"
      ]
    },
    {
      "cell_type": "code",
      "metadata": {
        "id": "06d00113",
        "colab": {
          "base_uri": "https://localhost:8080/"
        },
        "outputId": "44ba826d-054e-4556-b484-33bfcade012e"
      },
      "source": [
        "# Save the trained model\n",
        "torch.save({\n",
        "    'model_state_dict': model.state_dict(),\n",
        "    'optimizer_state_dict': optimizer.state_dict(),\n",
        "    'input_dim': INPUT_DIM,\n",
        "    'num_error_types': NUM_ERROR_TYPES,\n",
        "    'num_error_elements': NUM_ERROR_ELEMENTS,\n",
        "    'final_error_acc': final_error_acc,\n",
        "    'final_parameter_acc': final_parameter_acc\n",
        "}, f'{results_dir}/optical_classifier.pth')\n",
        "\n",
        "print(f\"\\nModel saved to '{results_dir}/optical_classifier.pth'\")\n",
        "print(f\"Training complete!\")"
      ],
      "execution_count": 199,
      "outputs": [
        {
          "output_type": "stream",
          "name": "stdout",
          "text": [
            "\n",
            "Model saved to 'eda/plots/neural_network_results_20251017_000226/optical_classifier.pth'\n",
            "Training complete!\n"
          ]
        }
      ]
    },
    {
      "cell_type": "markdown",
      "metadata": {
        "id": "4ec85cdf"
      },
      "source": [
        "### Create and Save Summary Report"
      ]
    },
    {
      "cell_type": "code",
      "metadata": {
        "id": "9c9295fc",
        "colab": {
          "base_uri": "https://localhost:8080/"
        },
        "outputId": "bf9f084f-2436-40e5-ff76-717d55d4f8d9"
      },
      "source": [
        "# Create summary report\n",
        "summary_report = f\"\"\"\n",
        "NEURAL NETWORK TRAINING SUMMARY\n",
        "================================\n",
        "Timestamp: {datetime.now().strftime(\"%Y-%m-%d %H:%M:%S\")}\n",
        "Results Directory: {results_dir}\n",
        "\n",
        "DATA PREPARATION\n",
        "----------------\n",
        "Dataset shape after removing Nominal: {len(df)} samples\n",
        "Training set size: {len(df_train)} samples\n",
        "Test set size: {len(df_test)} samples\n",
        "Number of error types: {NUM_ERROR_TYPES}\n",
        "Number of parameter types: {NUM_ERROR_ELEMENTS}\n",
        "Input features: {feature_columns}\n",
        "\n",
        "MODEL ARCHITECTURE\n",
        "------------------\n",
        "Input dimension: {INPUT_DIM}\n",
        "Hidden layers: 128 -> 64 (with dropout 0.3)\n",
        "Error type output: {NUM_ERROR_TYPES} classes\n",
        "Parameter type output: {NUM_ERROR_ELEMENTS} classes\n",
        "Total parameters: {sum(p.numel() for p in model.parameters())}\n",
        "\n",
        "TRAINING CONFIGURATION\n",
        "---------------------\n",
        "Epochs: {config['epochs']}\n",
        "Learning rate: {config['learning_rate']}\n",
        "Weight decay: {config['weight_decay']}\n",
        "Optimizer: {config['optimizer']}\n",
        "Loss function: {config['loss_function']}\n",
        "Batch size: {config['batch_size']}\n",
        "Parameter loss weight: {config['parameter_loss_weight']}\n",
        "Model: {config['model']}\n",
        "Test selection: {config['test_selection']}\n",
        "Remove small errors: {config['remove_small_errors']}\n",
        "\n",
        "FINAL RESULTS\n",
        "-------------\n",
        "Error Type Classification Accuracy: {final_error_acc:.4f} ({final_error_acc*100:.2f}%)\n",
        "Parameter Type Classification Accuracy: {final_parameter_acc:.4f} ({final_parameter_acc*100:.2f}%)\n",
        "\n",
        "ERROR TYPE PERFORMANCE\n",
        "---------------------\n",
        "\"\"\"\n",
        "for i, class_name in enumerate(le_error.classes_):\n",
        "    # Get metrics for this class from the classification report\n",
        "    summary_report += f\"{class_name}: Class {i}\\n\"\n",
        "\n",
        "summary_report += f\"\"\"\n",
        "PARAMETER TYPE PERFORMANCE\n",
        "-------------------------\n",
        "\"\"\"\n",
        "for i, class_name in enumerate(le_parameter.classes_):\n",
        "    summary_report += f\"{class_name}: Class {i}\\n\"\n",
        "\n",
        "summary_report += f\"\"\"\n",
        "FILES SAVED\n",
        "-----------\n",
        "- Model checkpoint: {results_dir}/optical_classifier.pth\n",
        "- Encoders and scaler: {results_dir}/encoders_and_scaler.pkl\n",
        "- Configuration: {results_dir}/config.json\n",
        "- Training curves: {results_dir}/neural_network_training_curves.png\n",
        "- Error confusion matrix: {results_dir}/neural_network_error_confusion_matrix.png\n",
        "- Parameter confusion matrix: {results_dir}/neural_network_parameter_confusion_matrix.png\n",
        "- Sorted parameter confusion matrix: {results_dir}/neural_network_parameter_confusion_matrix_sorted.png\n",
        "- Summary report: {results_dir}/training_summary.txt\n",
        "\n",
        "NOTES\n",
        "-----\n",
        "- Error type classification performs better than parameter type classification\n",
        "- Some classes (Flatness, G1) have very low precision due to few samples\n",
        "- Model shows good learning progression over {config['epochs']} epochs\n",
        "- Weight decay helps prevent overfitting\n",
        "- Parameter loss weight: {config['parameter_loss_weight']}\n",
        "\"\"\"\n",
        "\n",
        "# Save summary report\n",
        "with open(f'{results_dir}/training_summary.txt', 'w') as f:\n",
        "    f.write(summary_report)\n",
        "\n",
        "print(f\"\\nSummary report saved to '{results_dir}/training_summary.txt'\")\n",
        "print(summary_report)"
      ],
      "execution_count": 200,
      "outputs": [
        {
          "output_type": "stream",
          "name": "stdout",
          "text": [
            "\n",
            "Summary report saved to 'eda/plots/neural_network_results_20251017_000226/training_summary.txt'\n",
            "\n",
            "NEURAL NETWORK TRAINING SUMMARY\n",
            "================================\n",
            "Timestamp: 2025-10-17 00:02:30\n",
            "Results Directory: eda/plots/neural_network_results_20251017_000226\n",
            "\n",
            "DATA PREPARATION\n",
            "----------------\n",
            "Dataset shape after removing Nominal: 630 samples\n",
            "Training set size: 504 samples\n",
            "Test set size: 126 samples\n",
            "Number of error types: 9\n",
            "Number of parameter types: 7\n",
            "Input features: ['c2', 'c3', 'c4', 'c5', 'c6', 'c7', 'c8', 'c9', 'c10', 'c11', 'c12', 'c13', 'c14', 'c15', 'c16', 'c17', 'c18', 'c19', 'c20', 'c21', 'c22', 'c23', 'c24', 'c25', 'c26', 'c27', 'c28', 'c29', 'c30', 'c31', 'c32', 'c33', 'c34', 'c35', 'c36', 'c37', 'MTF']\n",
            "\n",
            "MODEL ARCHITECTURE\n",
            "------------------\n",
            "Input dimension: 37\n",
            "Hidden layers: 128 -> 64 (with dropout 0.3)\n",
            "Error type output: 9 classes\n",
            "Parameter type output: 7 classes\n",
            "Total parameters: 3248\n",
            "\n",
            "TRAINING CONFIGURATION\n",
            "---------------------\n",
            "Epochs: 100\n",
            "Learning rate: 0.001\n",
            "Weight decay: 0.0001\n",
            "Optimizer: Adam\n",
            "Loss function: CrossEntropyLoss\n",
            "Batch size: 32\n",
            "Parameter loss weight: 1.0\n",
            "Model: TwoStageClassifier\n",
            "Test selection: 2nd_from_top_and_bottom\n",
            "Remove small errors: True\n",
            "\n",
            "FINAL RESULTS\n",
            "-------------\n",
            "Error Type Classification Accuracy: 0.6111 (61.11%)\n",
            "Parameter Type Classification Accuracy: 0.5714 (57.14%)\n",
            "\n",
            "ERROR TYPE PERFORMANCE\n",
            "---------------------\n",
            "Decenter: Class 0\n",
            "ETV: Class 1\n",
            "Irr s1: Class 2\n",
            "Irr s2: Class 3\n",
            "Radius s1: Class 4\n",
            "Radius s2: Class 5\n",
            "Thickness: Class 6\n",
            "Tilt: Class 7\n",
            "Z Position: Class 8\n",
            "\n",
            "PARAMETER TYPE PERFORMANCE\n",
            "-------------------------\n",
            "E1: Class 0\n",
            "E2: Class 1\n",
            "E3: Class 2\n",
            "E4: Class 3\n",
            "E5: Class 4\n",
            "E6: Class 5\n",
            "E7: Class 6\n",
            "\n",
            "FILES SAVED\n",
            "-----------\n",
            "- Model checkpoint: eda/plots/neural_network_results_20251017_000226/optical_classifier.pth\n",
            "- Encoders and scaler: eda/plots/neural_network_results_20251017_000226/encoders_and_scaler.pkl\n",
            "- Configuration: eda/plots/neural_network_results_20251017_000226/config.json\n",
            "- Training curves: eda/plots/neural_network_results_20251017_000226/neural_network_training_curves.png\n",
            "- Error confusion matrix: eda/plots/neural_network_results_20251017_000226/neural_network_error_confusion_matrix.png\n",
            "- Parameter confusion matrix: eda/plots/neural_network_results_20251017_000226/neural_network_parameter_confusion_matrix.png\n",
            "- Sorted parameter confusion matrix: eda/plots/neural_network_results_20251017_000226/neural_network_parameter_confusion_matrix_sorted.png\n",
            "- Summary report: eda/plots/neural_network_results_20251017_000226/training_summary.txt\n",
            "\n",
            "NOTES\n",
            "-----\n",
            "- Error type classification performs better than parameter type classification\n",
            "- Some classes (Flatness, G1) have very low precision due to few samples\n",
            "- Model shows good learning progression over 100 epochs\n",
            "- Weight decay helps prevent overfitting\n",
            "- Parameter loss weight: 1.0\n",
            "\n"
          ]
        }
      ]
    },
    {
      "cell_type": "markdown",
      "metadata": {
        "id": "fe8945d8"
      },
      "source": [
        "### Plot Confusion Matrices"
      ]
    },
    {
      "cell_type": "code",
      "metadata": {
        "id": "5367b073",
        "colab": {
          "base_uri": "https://localhost:8080/",
          "height": 1000
        },
        "outputId": "573ace61-dacc-44f3-b0fe-91f02f5ec446"
      },
      "source": [
        "# Plot confusion matrices for both error types and parameter types\n",
        "print(f\"\\n\" + \"=\"*50)\n",
        "print(\"CONFUSION MATRICES\")\n",
        "print(\"=\"*50)\n",
        "\n",
        "# Error Type Confusion Matrix\n",
        "plt.figure(figsize=(15, 12))\n",
        "cm_error = confusion_matrix(all_true_error, all_pred_error)\n",
        "\n",
        "# Create the confusion matrix plot with class names\n",
        "plt.imshow(cm_error, cmap='Blues', interpolation='nearest')\n",
        "plt.colorbar()\n",
        "\n",
        "# Set ticks and labels\n",
        "plt.xticks(range(len(le_error.classes_)), le_error.classes_, rotation=90, fontsize=8)\n",
        "plt.yticks(range(len(le_error.classes_)), le_error.classes_, fontsize=8)\n",
        "\n",
        "plt.title('Neural Network - Error Type Confusion Matrix', fontsize=14)\n",
        "plt.xlabel('Predicted Error Type', fontsize=12)\n",
        "plt.ylabel('Actual Error Type', fontsize=12)\n",
        "\n",
        "# Add text annotations to the confusion matrix\n",
        "for i in range(len(le_error.classes_)):\n",
        "    for j in range(len(le_error.classes_)):\n",
        "        plt.text(j, i, str(cm_error[i, j]), ha='center', va='center', fontsize=6)\n",
        "\n",
        "plt.tight_layout()\n",
        "plt.savefig(f\"{results_dir}/neural_network_error_confusion_matrix.png\", dpi=300, bbox_inches='tight')\n",
        "\n",
        "# Parameter Type Confusion Matrix\n",
        "plt.figure(figsize=(12, 10))\n",
        "cm_parameter = confusion_matrix(all_true_parameter, all_pred_parameter)\n",
        "\n",
        "# Create the confusion matrix plot with class names\n",
        "plt.imshow(cm_parameter, cmap='Blues', interpolation='nearest')\n",
        "plt.colorbar()\n",
        "\n",
        "# Set ticks and labels\n",
        "plt.xticks(range(len(le_parameter.classes_)), le_parameter.classes_, rotation=90, fontsize=8)\n",
        "plt.yticks(range(len(le_parameter.classes_)), le_parameter.classes_, fontsize=8)\n",
        "\n",
        "plt.title('Neural Network - Parameter Type Confusion Matrix', fontsize=14)\n",
        "plt.xlabel('Predicted Parameter Type', fontsize=12)\n",
        "plt.ylabel('Actual Parameter Type', fontsize=12)\n",
        "\n",
        "# Add text annotations to the confusion matrix\n",
        "for i in range(len(le_parameter.classes_)):\n",
        "    for j in range(len(le_parameter.classes_)):\n",
        "        plt.text(j, i, str(cm_parameter[i, j]), ha='center', va='center', fontsize=6)\n",
        "\n",
        "# Add red lines to separate different parameter groups (E1-E9, G1)\n",
        "plt.axvline(x=8.5, color='red', linewidth=2, alpha=0.7)  # After E9, before G1\n",
        "plt.axhline(y=8.5, color='red', linewidth=2, alpha=0.7)  # After E9, before G1\n",
        "\n",
        "plt.tight_layout()\n",
        "plt.savefig(f\"{results_dir}/neural_network_parameter_confusion_matrix.png\", dpi=300, bbox_inches='tight')\n",
        "\n",
        "# Create sorted confusion matrix for parameter types (E1, E2, ..., E9, G1)\n",
        "print(f\"\\n\" + \"=\"*50)\n",
        "print(\"NEURAL NETWORK PARAMETER CONFUSION MATRIX - SORTED BY SUFFIX\")\n",
        "print(\"=\"*50)\n",
        "\n",
        "def extract_suffix(name):\n",
        "    \"\"\"Extract suffix from parameter name (E1, E2, ..., E9, G1)\"\"\"\n",
        "    return name  # Parameter names are already just the suffix\n",
        "\n",
        "def get_suffix_order(name):\n",
        "    \"\"\"Get numerical order for suffix sorting\"\"\"\n",
        "    if name.startswith('E'):\n",
        "        try:\n",
        "            return int(name[1:])  # E1 -> 1, E2 -> 2, etc.\n",
        "        except:\n",
        "            return 999  # For any E suffix that's not a number\n",
        "    elif name == 'G1':\n",
        "        return 10  # G1 comes after E9\n",
        "    else:\n",
        "        return 1000  # Any other suffix\n",
        "\n",
        "# Sort parameter class names by suffix\n",
        "sorted_indices = sorted(range(len(le_parameter.classes_)),\n",
        "                       key=lambda i: get_suffix_order(le_parameter.classes_[i]))\n",
        "sorted_parameter_names = [le_parameter.classes_[i] for i in sorted_indices]\n",
        "\n",
        "# Reorder confusion matrix\n",
        "cm_parameter_sorted = cm_parameter[sorted_indices][:, sorted_indices]\n",
        "\n",
        "# Create the sorted confusion matrix plot\n",
        "plt.figure(figsize=(12, 10))\n",
        "plt.imshow(cm_parameter_sorted, cmap='Blues', interpolation='nearest')\n",
        "plt.colorbar()\n",
        "\n",
        "# Set ticks and labels\n",
        "plt.xticks(range(len(sorted_parameter_names)), sorted_parameter_names, rotation=90, fontsize=8)\n",
        "plt.yticks(range(len(sorted_parameter_names)), sorted_parameter_names, fontsize=8)\n",
        "\n",
        "plt.title('Neural Network - Parameter Confusion Matrix (E1, E2, ..., E9, G1)', fontsize=14)\n",
        "plt.xlabel('Predicted Parameter', fontsize=12)\n",
        "plt.ylabel('Actual Parameter', fontsize=12)\n",
        "\n",
        "# Add text annotations to the confusion matrix\n",
        "for i in range(len(sorted_parameter_names)):\n",
        "    for j in range(len(sorted_parameter_names)):\n",
        "        plt.text(j, i, str(cm_parameter_sorted[i, j]), ha='center', va='center', fontsize=6)\n",
        "\n",
        "# Add red lines to separate different suffixes\n",
        "current_suffix = None\n",
        "for i, name in enumerate(sorted_parameter_names):\n",
        "    suffix = extract_suffix(name)\n",
        "    if suffix != current_suffix:\n",
        "        if i > 0:  # Don't add line at the very beginning\n",
        "            plt.axvline(x=i - 0.5, color='red', linewidth=2, alpha=0.7)\n",
        "            plt.axhline(y=i - 0.5, color='red', linewidth=2, alpha=0.7)\n",
        "        current_suffix = suffix\n",
        "\n",
        "plt.tight_layout()\n",
        "plt.savefig(f\"{results_dir}/neural_network_parameter_confusion_matrix_sorted.png\", dpi=300, bbox_inches='tight')\n",
        "\n",
        "\n",
        "print(f\"\\nConfusion matrices saved:\")\n",
        "print(f\"- Error types: {results_dir}/neural_network_error_confusion_matrix.png\")\n",
        "print(f\"- Parameter types: {results_dir}/neural_network_parameter_confusion_matrix.png\")\n",
        "print(f\"- Parameter types (sorted): {results_dir}/neural_network_parameter_confusion_matrix_sorted.png\")\n",
        "\n",
        "print(f\"\\nAll results saved to: {results_dir}\")\n",
        "print(f\"Summary report: {results_dir}/training_summary.txt\")"
      ],
      "execution_count": 169,
      "outputs": [
        {
          "output_type": "stream",
          "name": "stdout",
          "text": [
            "\n",
            "==================================================\n",
            "CONFUSION MATRICES\n",
            "==================================================\n",
            "\n",
            "==================================================\n",
            "NEURAL NETWORK PARAMETER CONFUSION MATRIX - SORTED BY SUFFIX\n",
            "==================================================\n",
            "\n",
            "Confusion matrices saved:\n",
            "- Error types: eda/plots/neural_network_results_20251017_000215/neural_network_error_confusion_matrix.png\n",
            "- Parameter types: eda/plots/neural_network_results_20251017_000215/neural_network_parameter_confusion_matrix.png\n",
            "- Parameter types (sorted): eda/plots/neural_network_results_20251017_000215/neural_network_parameter_confusion_matrix_sorted.png\n",
            "\n",
            "All results saved to: eda/plots/neural_network_results_20251017_000215\n",
            "Summary report: eda/plots/neural_network_results_20251017_000215/training_summary.txt\n"
          ]
        },
        {
          "output_type": "display_data",
          "data": {
            "text/plain": [
              "<Figure size 1500x1200 with 2 Axes>"
            ],
            "image/png": "[encoded data removed]"
          },
          "metadata": {}
        },
        {
          "output_type": "display_data",
          "data": {
            "text/plain": [
              "<Figure size 1200x1000 with 2 Axes>"
            ],
            "image/png": "[encoded data removed]"
          },
          "metadata": {}
        },
        {
          "output_type": "display_data",
          "data": {
            "text/plain": [
              "<Figure size 1200x1000 with 2 Axes>"
            ],
            "image/png": "[encoded data removed]"
          },
          "metadata": {}
        }
      ]
    },
    {
      "cell_type": "code",
      "source": [
        "\n",
        "# Zip the folder\n",
        "!zip -r /tmp/eda.zip eda/\n",
        "\n",
        "# Download the zip file\n",
        "from google.colab import files\n",
        "files.download('/tmp/eda.zip')\n"
      ],
      "metadata": {
        "id": "MQpS6-_H04Ma",
        "colab": {
          "base_uri": "https://localhost:8080/",
          "height": 176
        },
        "outputId": "125c7d95-82c7-4d4c-f259-fa1ed4fcec65"
      },
      "execution_count": 201,
      "outputs": [
        {
          "output_type": "stream",
          "name": "stdout",
          "text": [
            "  adding: eda/ (stored 0%)\n",
            "  adding: eda/plots/ (stored 0%)\n",
            "  adding: eda/plots/neural_network_results_20251017_000226/ (stored 0%)\n",
            "  adding: eda/plots/neural_network_results_20251017_000226/training_summary.txt (deflated 60%)\n",
            "  adding: eda/plots/neural_network_results_20251017_000226/optical_classifier.pth (deflated 18%)\n",
            "  adding: eda/plots/neural_network_results_20251017_000226/neural_network_training_curves.png (deflated 11%)\n",
            "  adding: eda/plots/neural_network_results_20251017_000226/config.json (deflated 35%)\n",
            "  adding: eda/plots/neural_network_results_20251017_000226/encoders_and_scaler.pkl (deflated 19%)\n"
          ]
        },
        {
          "output_type": "display_data",
          "data": {
            "text/plain": [
              "<IPython.core.display.Javascript object>"
            ],
            "application/javascript": [
              "\n",
              "    async function download(id, filename, size) {\n",
              "      if (!google.colab.kernel.accessAllowed) {\n",
              "        return;\n",
              "      }\n",
              "      const div = document.createElement('div');\n",
              "      const label = document.createElement('label');\n",
              "      label.textContent = `Downloading \"${filename}\": `;\n",
              "      div.appendChild(label);\n",
              "      const progress = document.createElement('progress');\n",
              "      progress.max = size;\n",
              "      div.appendChild(progress);\n",
              "      document.body.appendChild(div);\n",
              "\n",
              "      const buffers = [];\n",
              "      let downloaded = 0;\n",
              "\n",
              "      const channel = await google.colab.kernel.comms.open(id);\n",
              "      // Send a message to notify the kernel that we're ready.\n",
              "      channel.send({})\n",
              "\n",
              "      for await (const message of channel.messages) {\n",
              "        // Send a message to notify the kernel that we're ready.\n",
              "        channel.send({})\n",
              "        if (message.buffers) {\n",
              "          for (const buffer of message.buffers) {\n",
              "            buffers.push(buffer);\n",
              "            downloaded += buffer.byteLength;\n",
              "            progress.value = downloaded;\n",
              "          }\n",
              "        }\n",
              "      }\n",
              "      const blob = new Blob(buffers, {type: 'application/binary'});\n",
              "      const a = document.createElement('a');\n",
              "      a.href = window.URL.createObjectURL(blob);\n",
              "      a.download = filename;\n",
              "      div.appendChild(a);\n",
              "      a.click();\n",
              "      div.remove();\n",
              "    }\n",
              "  "
            ]
          },
          "metadata": {}
        },
        {
          "output_type": "display_data",
          "data": {
            "text/plain": [
              "<IPython.core.display.Javascript object>"
            ],
            "application/javascript": [
              "download(\"download_07010f52-8566-4320-957b-9f532bbf4d64\", \"eda.zip\", 332234)"
            ]
          },
          "metadata": {}
        }
      ]
    },
    {
      "cell_type": "code",
      "source": [],
      "metadata": {
        "id": "WG3BrFGwfHWu"
      },
      "execution_count": null,
      "outputs": []
    }
  ]
}